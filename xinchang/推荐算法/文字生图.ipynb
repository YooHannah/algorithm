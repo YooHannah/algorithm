{
 "cells": [
  {
   "cell_type": "code",
   "execution_count": 3,
   "id": "30b08927-ea95-4f8f-9ab1-38875d24f4d7",
   "metadata": {},
   "outputs": [
    {
     "name": "stdout",
     "output_type": "stream",
     "text": [
      "{\"status_code\": 200, \"request_id\": \"e0c0722a-86d4-422a-bed8-0d40df8253b8\", \"code\": \"\", \"message\": \"\", \"output\": {\"text\": null, \"finish_reason\": null, \"choices\": [{\"finish_reason\": \"stop\", \"message\": {\"role\": \"assistant\", \"content\": [{\"image\": \"https://dashscope-result-wlcb-acdr-1.oss-cn-wulanchabu-acdr-1.aliyuncs.com/7d/ba/20251101/d81d59b0/e0c0722a-86d4-422a-bed8-0d40df8253b8-1.png?Expires=1762571489&OSSAccessKeyId=LTAI5tKPD3TMqf2Lna1fASuh&Signature=Bo3bp17TxOcfFCgvuYKbiQpPZ6E%3D\"}]}}], \"audio\": null, \"task_metric\": {\"FAILED\": 0, \"SUCCEEDED\": 1, \"TOTAL\": 1}}, \"usage\": {\"input_tokens\": 0, \"output_tokens\": 0, \"characters\": 0, \"height\": 1328, \"image_count\": 1, \"width\": 1328}}\n",
      "{\"status_code\": 200, \"request_id\": \"8bf698ad-e415-4079-996b-fa1488dc6764\", \"code\": \"\", \"message\": \"\", \"output\": {\"text\": null, \"finish_reason\": null, \"choices\": [{\"finish_reason\": \"stop\", \"message\": {\"role\": \"assistant\", \"content\": [{\"image\": \"https://dashscope-result-wlcb-acdr-1.oss-cn-wulanchabu-acdr-1.aliyuncs.com/7d/fb/20251101/d81d59b0/8bf698ad-e415-4079-996b-fa1488dc6764-1.png?Expires=1762571502&OSSAccessKeyId=LTAI5tKPD3TMqf2Lna1fASuh&Signature=UG4nlnXoEdSK2P5XddRJYmH%2BWTY%3D\"}]}}], \"audio\": null, \"task_metric\": {\"FAILED\": 0, \"SUCCEEDED\": 1, \"TOTAL\": 1}}, \"usage\": {\"input_tokens\": 0, \"output_tokens\": 0, \"characters\": 0, \"height\": 1328, \"image_count\": 1, \"width\": 1328}}\n",
      "{\"status_code\": 200, \"request_id\": \"7f8bcc3c-c3ef-4a45-9d6f-dee7135a55bf\", \"code\": \"\", \"message\": \"\", \"output\": {\"text\": null, \"finish_reason\": null, \"choices\": [{\"finish_reason\": \"stop\", \"message\": {\"role\": \"assistant\", \"content\": [{\"image\": \"https://dashscope-result-wlcb-acdr-1.oss-cn-wulanchabu-acdr-1.aliyuncs.com/7d/e1/20251101/d81d59b0/7f8bcc3c-c3ef-4a45-9d6f-dee7135a55bf-1.png?Expires=1762571513&OSSAccessKeyId=LTAI5tKPD3TMqf2Lna1fASuh&Signature=47rRl0b%2BIVu9MEHvkfkU2v38vME%3D\"}]}}], \"audio\": null, \"task_metric\": {\"FAILED\": 0, \"SUCCEEDED\": 1, \"TOTAL\": 1}}, \"usage\": {\"input_tokens\": 0, \"output_tokens\": 0, \"characters\": 0, \"height\": 1328, \"image_count\": 1, \"width\": 1328}}\n",
      "{\"status_code\": 200, \"request_id\": \"688b189c-3acd-4097-abe8-eef1706d149f\", \"code\": \"\", \"message\": \"\", \"output\": {\"text\": null, \"finish_reason\": null, \"choices\": [{\"finish_reason\": \"stop\", \"message\": {\"role\": \"assistant\", \"content\": [{\"image\": \"https://dashscope-result-wlcb-acdr-1.oss-cn-wulanchabu-acdr-1.aliyuncs.com/7d/81/20251101/d81d59b0/688b189c-3acd-4097-abe8-eef1706d149f-1.png?Expires=1762571524&OSSAccessKeyId=LTAI5tKPD3TMqf2Lna1fASuh&Signature=Gb309MEfqZGzpV%2F8siR8vqQrWjU%3D\"}]}}], \"audio\": null, \"task_metric\": {\"FAILED\": 0, \"SUCCEEDED\": 1, \"TOTAL\": 1}}, \"usage\": {\"input_tokens\": 0, \"output_tokens\": 0, \"characters\": 0, \"height\": 1328, \"image_count\": 1, \"width\": 1328}}\n",
      "{\"status_code\": 200, \"request_id\": \"b7f78cf4-02cc-405f-9a4f-1f879da05161\", \"code\": \"\", \"message\": \"\", \"output\": {\"text\": null, \"finish_reason\": null, \"choices\": [{\"finish_reason\": \"stop\", \"message\": {\"role\": \"assistant\", \"content\": [{\"image\": \"https://dashscope-result-wlcb-acdr-1.oss-cn-wulanchabu-acdr-1.aliyuncs.com/7d/43/20251101/d81d59b0/b7f78cf4-02cc-405f-9a4f-1f879da05161-1.png?Expires=1762571537&OSSAccessKeyId=LTAI5tKPD3TMqf2Lna1fASuh&Signature=2Wj97PGsyLJrY1VDDysBOlE0sQM%3D\"}]}}], \"audio\": null, \"task_metric\": {\"FAILED\": 0, \"SUCCEEDED\": 1, \"TOTAL\": 1}}, \"usage\": {\"input_tokens\": 0, \"output_tokens\": 0, \"characters\": 0, \"height\": 1328, \"image_count\": 1, \"width\": 1328}}\n"
     ]
    }
   ],
   "source": [
    "import json\n",
    "import os\n",
    "import dashscope\n",
    "from dashscope import MultiModalConversation\n",
    "\n",
    "# 以下为北京地域url，若使用新加坡地域的模型，需将url替换为：https://dashscope-intl.aliyuncs.com/api/v1\n",
    "dashscope.base_http_api_url = 'https://dashscope.aliyuncs.com/api/v1'\n",
    "\n",
    "messages = [\n",
    "    {\n",
    "        \"role\": \"user\",\n",
    "        \"content\": [\n",
    "            {\"text\": \"一张充满秋日氛围的摄影图，画面中心是一片金黄的枫叶，叶脉清晰、边缘略带枯黄斑点，阳光从画面右侧洒下，形成耀眼的光斑与柔和的光线；背景是暖色调的树木（树叶呈橙红渐变），远处有朦胧的建筑轮廓；整体风格自然写实，光线明亮且带暖调，营造出宁静又诗意的秋日氛围，细节上突出枫叶的质感与光影层次。\"}\n",
    "        ]\n",
    "    }\n",
    "]\n",
    "\n",
    "# 若没有配置环境变量，请用百炼API Key将下行替换为：api_key=\"sk-xxx\"\n",
    "# 新加坡和北京地域的API Key不同。获取API Key：https://help.aliyun.com/zh/model-studio/get-api-key\n",
    "api_key = \"sk-234ac432e3354a7bb35b3a581b03c758\"\n",
    "for  i in range(0,5):\n",
    "    response = MultiModalConversation.call(\n",
    "        api_key=api_key,\n",
    "        model=\"qwen-image-plus\",\n",
    "        messages=messages,\n",
    "        result_format='message',\n",
    "        stream=False,\n",
    "        watermark=True,\n",
    "        prompt_extend=True,\n",
    "        negative_prompt='',\n",
    "        size='1328*1328'\n",
    "    )\n",
    "    \n",
    "    if response.status_code == 200:\n",
    "        print(json.dumps(response, ensure_ascii=False))\n",
    "        import requests\n",
    "        url = json.dumps(response, ensure_ascii=False)\n",
    "        reponse = requests.get(url=response.output.choices[0].message.content[0]['image'])\n",
    "        with open('./ad50000'+str(i)+'.png','wb') as f:\n",
    "            f.write(reponse.content)\n",
    "    else:\n",
    "        print(f\"HTTP返回码：{response.status_code}\")\n",
    "        print(f\"错误码：{response.code}\")\n",
    "        print(f\"错误信息：{response.message}\")\n",
    "        print(\"请参考文档：https://help.aliyun.com/zh/model-studio/developer-reference/error-code\")\n"
   ]
  },
  {
   "cell_type": "code",
   "execution_count": null,
   "id": "a869ff70-a6a7-4750-b1a3-8c37cacc3334",
   "metadata": {},
   "outputs": [],
   "source": [
    "\n",
    "一张喜德盛AD500公路车的高清展示图，车架采用‌深紫→浅紫渐变‌配色，搭配黑色车把、坐垫、轮组；配置2×12速电子变速（蓝图ER9套件）、油压碟刹（160mm中锁碟片）、碳纤维桶轴前叉、Branta A30 Ultra四培林筒轴碟刹轮组（30mm框高）、700×28C公路车胎；车架为X6铝合金材质（全内走线、平焊补土），破风车架几何，整车约8.8kg；背景简洁，突出车身线条与部件质感，风格现代简洁。”\n",
    "\n"
   ]
  }
 ],
 "metadata": {
  "kernelspec": {
   "display_name": "Python 3 (ipykernel)",
   "language": "python",
   "name": "python3"
  },
  "language_info": {
   "codemirror_mode": {
    "name": "ipython",
    "version": 3
   },
   "file_extension": ".py",
   "mimetype": "text/x-python",
   "name": "python",
   "nbconvert_exporter": "python",
   "pygments_lexer": "ipython3",
   "version": "3.12.0"
  }
 },
 "nbformat": 4,
 "nbformat_minor": 5
}
