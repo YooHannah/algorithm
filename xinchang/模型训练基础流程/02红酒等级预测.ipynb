{
 "cells": [
  {
   "cell_type": "code",
   "execution_count": 1,
   "id": "4cfe6c9c-91e9-4f48-b2a9-692f24464ee0",
   "metadata": {},
   "outputs": [],
   "source": [
    "import pandas as pd\n",
    "import joblib"
   ]
  },
  {
   "cell_type": "markdown",
   "id": "4d9d5a0b-beb7-48e2-885a-47ef2d309abd",
   "metadata": {},
   "source": [
    "1. 读取数据"
   ]
  },
  {
   "cell_type": "code",
   "execution_count": 6,
   "id": "35464c82-44b4-4a74-aea8-6c74a6637f29",
   "metadata": {
    "scrolled": true
   },
   "outputs": [
    {
     "data": {
      "text/html": [
       "<div>\n",
       "<style scoped>\n",
       "    .dataframe tbody tr th:only-of-type {\n",
       "        vertical-align: middle;\n",
       "    }\n",
       "\n",
       "    .dataframe tbody tr th {\n",
       "        vertical-align: top;\n",
       "    }\n",
       "\n",
       "    .dataframe thead th {\n",
       "        text-align: right;\n",
       "    }\n",
       "</style>\n",
       "<table border=\"1\" class=\"dataframe\">\n",
       "  <thead>\n",
       "    <tr style=\"text-align: right;\">\n",
       "      <th></th>\n",
       "      <th>alcohol</th>\n",
       "      <th>malic</th>\n",
       "      <th>ash</th>\n",
       "      <th>alcalinity</th>\n",
       "      <th>magnesium</th>\n",
       "      <th>phenols</th>\n",
       "      <th>flavanoids</th>\n",
       "      <th>nonflavanoids</th>\n",
       "      <th>proanthocyanins</th>\n",
       "      <th>color</th>\n",
       "      <th>hue</th>\n",
       "      <th>dilution</th>\n",
       "      <th>proline</th>\n",
       "      <th>particular year</th>\n",
       "    </tr>\n",
       "  </thead>\n",
       "  <tbody>\n",
       "    <tr>\n",
       "      <th>0</th>\n",
       "      <td>12.20</td>\n",
       "      <td>3.03</td>\n",
       "      <td>2.32</td>\n",
       "      <td>19.0</td>\n",
       "      <td>96</td>\n",
       "      <td>1.25</td>\n",
       "      <td>0.49</td>\n",
       "      <td>0.40</td>\n",
       "      <td>0.73</td>\n",
       "      <td>5.500000</td>\n",
       "      <td>0.66</td>\n",
       "      <td>1.83</td>\n",
       "      <td>510</td>\n",
       "      <td>61</td>\n",
       "    </tr>\n",
       "    <tr>\n",
       "      <th>1</th>\n",
       "      <td>12.77</td>\n",
       "      <td>2.39</td>\n",
       "      <td>2.28</td>\n",
       "      <td>19.5</td>\n",
       "      <td>86</td>\n",
       "      <td>1.39</td>\n",
       "      <td>0.51</td>\n",
       "      <td>0.48</td>\n",
       "      <td>0.64</td>\n",
       "      <td>9.899999</td>\n",
       "      <td>0.57</td>\n",
       "      <td>1.63</td>\n",
       "      <td>470</td>\n",
       "      <td>4</td>\n",
       "    </tr>\n",
       "    <tr>\n",
       "      <th>2</th>\n",
       "      <td>14.16</td>\n",
       "      <td>2.51</td>\n",
       "      <td>2.48</td>\n",
       "      <td>20.0</td>\n",
       "      <td>91</td>\n",
       "      <td>1.68</td>\n",
       "      <td>0.70</td>\n",
       "      <td>0.44</td>\n",
       "      <td>1.24</td>\n",
       "      <td>9.700000</td>\n",
       "      <td>0.62</td>\n",
       "      <td>1.71</td>\n",
       "      <td>660</td>\n",
       "      <td>1</td>\n",
       "    </tr>\n",
       "    <tr>\n",
       "      <th>3</th>\n",
       "      <td>13.71</td>\n",
       "      <td>5.65</td>\n",
       "      <td>2.45</td>\n",
       "      <td>20.5</td>\n",
       "      <td>95</td>\n",
       "      <td>1.68</td>\n",
       "      <td>0.61</td>\n",
       "      <td>0.52</td>\n",
       "      <td>1.06</td>\n",
       "      <td>7.700000</td>\n",
       "      <td>0.64</td>\n",
       "      <td>1.74</td>\n",
       "      <td>740</td>\n",
       "      <td>21</td>\n",
       "    </tr>\n",
       "    <tr>\n",
       "      <th>4</th>\n",
       "      <td>13.40</td>\n",
       "      <td>3.91</td>\n",
       "      <td>2.48</td>\n",
       "      <td>23.0</td>\n",
       "      <td>102</td>\n",
       "      <td>1.80</td>\n",
       "      <td>0.75</td>\n",
       "      <td>0.43</td>\n",
       "      <td>1.41</td>\n",
       "      <td>7.300000</td>\n",
       "      <td>0.70</td>\n",
       "      <td>1.56</td>\n",
       "      <td>750</td>\n",
       "      <td>56</td>\n",
       "    </tr>\n",
       "  </tbody>\n",
       "</table>\n",
       "</div>"
      ],
      "text/plain": [
       "   alcohol  malic   ash  alcalinity  magnesium  phenols  flavanoids  \\\n",
       "0    12.20   3.03  2.32        19.0         96     1.25        0.49   \n",
       "1    12.77   2.39  2.28        19.5         86     1.39        0.51   \n",
       "2    14.16   2.51  2.48        20.0         91     1.68        0.70   \n",
       "3    13.71   5.65  2.45        20.5         95     1.68        0.61   \n",
       "4    13.40   3.91  2.48        23.0        102     1.80        0.75   \n",
       "\n",
       "   nonflavanoids  proanthocyanins     color   hue  dilution  proline  \\\n",
       "0           0.40             0.73  5.500000  0.66      1.83      510   \n",
       "1           0.48             0.64  9.899999  0.57      1.63      470   \n",
       "2           0.44             1.24  9.700000  0.62      1.71      660   \n",
       "3           0.52             1.06  7.700000  0.64      1.74      740   \n",
       "4           0.43             1.41  7.300000  0.70      1.56      750   \n",
       "\n",
       "   particular year  \n",
       "0               61  \n",
       "1                4  \n",
       "2                1  \n",
       "3               21  \n",
       "4               56  "
      ]
     },
     "execution_count": 6,
     "metadata": {},
     "output_type": "execute_result"
    }
   ],
   "source": [
    "df = pd.read_csv('./wine3_pre.csv')\n",
    "df.head()"
   ]
  },
  {
   "cell_type": "markdown",
   "id": "77ca0de3-8d37-447f-b743-0aee1ed77aa7",
   "metadata": {},
   "source": [
    "2. 读取模型"
   ]
  },
  {
   "cell_type": "code",
   "execution_count": 8,
   "id": "396f44f9-3811-48be-ad76-d15eb25cf9b5",
   "metadata": {},
   "outputs": [],
   "source": [
    "model = joblib.load('./红酒等级预测.pkl')"
   ]
  },
  {
   "cell_type": "markdown",
   "id": "6e333831-d849-4e23-a118-5a51c9241634",
   "metadata": {},
   "source": [
    "3. 预测数据"
   ]
  },
  {
   "cell_type": "code",
   "execution_count": 10,
   "id": "b052625b-db65-4544-8d93-ed47f445c2f7",
   "metadata": {},
   "outputs": [
    {
     "data": {
      "text/plain": [
       "array(['C', 'B', 'C', 'C', 'C', 'C', 'C', 'B'], dtype=object)"
      ]
     },
     "execution_count": 10,
     "metadata": {},
     "output_type": "execute_result"
    }
   ],
   "source": [
    "del df['phenols']\n",
    "model.predict(df)"
   ]
  },
  {
   "cell_type": "code",
   "execution_count": 12,
   "id": "c272c8da-2c9d-44ca-88c5-ee7e798d79ae",
   "metadata": {},
   "outputs": [],
   "source": [
    "Y_pre = model.predict(df) # 预测\n",
    "df['type'] = Y_pre # 合并数据"
   ]
  },
  {
   "cell_type": "markdown",
   "id": "934aaa30-6931-4040-9dd3-16522b1fc2e6",
   "metadata": {},
   "source": [
    "4. 存储预测数据"
   ]
  },
  {
   "cell_type": "code",
   "execution_count": 13,
   "id": "57282641-7efb-4865-a7dc-1ae83cec73b5",
   "metadata": {},
   "outputs": [],
   "source": [
    "df.to_csv('./wine_model_pre.csv', index=False)"
   ]
  }
 ],
 "metadata": {
  "kernelspec": {
   "display_name": "Python 3 (ipykernel)",
   "language": "python",
   "name": "python3"
  },
  "language_info": {
   "codemirror_mode": {
    "name": "ipython",
    "version": 3
   },
   "file_extension": ".py",
   "mimetype": "text/x-python",
   "name": "python",
   "nbconvert_exporter": "python",
   "pygments_lexer": "ipython3",
   "version": "3.12.0"
  }
 },
 "nbformat": 4,
 "nbformat_minor": 5
}
