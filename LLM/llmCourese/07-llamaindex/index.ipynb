{
 "cells": [
  {
   "cell_type": "markdown",
   "id": "35d0faef-0ef0-4a1b-a7d8-99f59cd72a09",
   "metadata": {},
   "source": [
    "# 💡 这节课会带给你\n",
    "\n",
    "1. LlamaIndex 的特点和基本用法\n",
    "2. 了解 LlamaIndex 内置的工具\n",
    "3. 如何用好 SDK 简化基于 LLM 的应用开发\n",
    "\n",
    "开始上课！"
   ]
  },
  {
   "cell_type": "markdown",
   "id": "2207fa56-c6c4-446a-9576-5949d0e6e881",
   "metadata": {
    "jp-MarkdownHeadingCollapsed": true
   },
   "source": [
    "## 🎓 这节课怎么学\n",
    "\n",
    "代码能力要求：**中高**，AI/数学基础要求：**无**\n",
    "\n",
    "1. 有编程与软件工程基础的同学\n",
    "   - 关注接口与实现细节、高级技巧、可扩展性\n",
    "2. 没有编程或软件工程基础的同学\n",
    "   - 尽量理解 SDK 的概念和价值，尝试体会使用 SDK 前后的差别与意义\n"
   ]
  },
  {
   "cell_type": "markdown",
   "id": "194427bf-5807-49d4-ab25-fa0556f835f3",
   "metadata": {},
   "source": [
    "## 1、大语言模型开发框架的价值是什么？\n"
   ]
  },
  {
   "cell_type": "markdown",
   "id": "cb60e6e5-8f2a-4cd5-a4b5-824259afc229",
   "metadata": {},
   "source": [
    "_SDK：Software Development Kit，它是一组软件工具和资源的集合，旨在帮助开发者创建、测试、部署和维护应用程序或软件。_\n"
   ]
  },
  {
   "cell_type": "markdown",
   "id": "77d08668-4981-4b84-ae07-f74cfa191309",
   "metadata": {},
   "source": [
    "所有开发框架（SDK）的核心价值，都是降低开发、维护成本。\n",
    "\n",
    "大语言模型开发框架的价值，是让开发者可以更方便地开发基于大语言模型的应用。主要提供两类帮助：\n",
    "\n",
    "1. 第三方能力抽象。比如 LLM、向量数据库、搜索接口等\n",
    "2. 常用工具、方案封装\n",
    "3. 底层实现封装。比如流式接口、超时重连、异步与并行等\n",
    "\n",
    "好的开发框架，需要具备以下特点：\n",
    "\n",
    "1. 可靠性、鲁棒性高\n",
    "2. 可维护性高\n",
    "3. 可扩展性高\n",
    "4. 学习成本低\n",
    "\n",
    "举些通俗的例子：\n",
    "\n",
    "- 与外部功能解依赖\n",
    "  - 比如可以随意更换 LLM 而不用大量重构代码\n",
    "  - 更换三方工具也同理\n",
    "- 经常变的部分要在外部维护而不是放在代码里\n",
    "  - 比如 Prompt 模板\n",
    "- 各种环境下都适用\n",
    "  - 比如线程安全\n",
    "- 方便调试和测试\n",
    "  - 至少要能感觉到用了比不用方便吧\n",
    "  - 合法的输入不会引发框架内部的报错\n",
    "\n",
    "<div class=\"alert alert-success\">\n",
    "<b>划重点：</b>选对了框架，事半功倍；反之，事倍功半。\n",
    "</div>\n"
   ]
  },
  {
   "cell_type": "markdown",
   "id": "579b589b-5a4e-451e-baf0-d2a409a9cb4b",
   "metadata": {},
   "source": [
    "<div class=\"alert alert-info\">\n",
    "    \n",
    "<b>什么是 SDK?</b> https://aws.amazon.com/cn/what-is/sdk/\n",
    "<br/>\n",
    "<b>SDK 和 API 的区别是什么?</b> https://aws.amazon.com/cn/compare/the-difference-between-sdk-and-api/\n",
    "</div>\n"
   ]
  },
  {
   "cell_type": "markdown",
   "id": "30361cf7-ec31-4c45-871e-28ac4f0db1a9",
   "metadata": {},
   "source": [
    "#### 🌰 举个例子：使用SDK，4 行代码实现一个简易的 RAG 系统"
   ]
  },
  {
   "cell_type": "markdown",
   "id": "2b734d50-a6eb-43f1-879d-fa00c84d1941",
   "metadata": {},
   "source": [
    "<div class=\"alert alert-warning\">\n",
    "运行本课代码前，请先重启一下 kernel，以重置所有配置。\n",
    "<img src=\"tips.png\" width=400px/>\n",
    "</div>"
   ]
  },
  {
   "cell_type": "code",
   "execution_count": 1,
   "id": "dea32ce7-c7a7-4692-a217-45cf632281ae",
   "metadata": {},
   "outputs": [],
   "source": [
    "from llama_index.core import VectorStoreIndex, SimpleDirectoryReader\n",
    "\n",
    "documents = SimpleDirectoryReader(\"./data\").load_data()\n",
    "index = VectorStoreIndex.from_documents(documents)\n",
    "\n",
    "query_engine = index.as_query_engine()"
   ]
  },
  {
   "cell_type": "code",
   "execution_count": 2,
   "id": "565af66f-30b4-41b4-a49f-88b7bbfc6fd0",
   "metadata": {},
   "outputs": [
    {
     "name": "stdout",
     "output_type": "stream",
     "text": [
      "Llama 2的参数范围从70亿到700亿。\n"
     ]
    }
   ],
   "source": [
    "response = query_engine.query(\"llama2有多少参数\")\n",
    "print(response)"
   ]
  },
  {
   "cell_type": "markdown",
   "id": "24e4c617-2fb8-489d-a0d0-34d5ca196f1c",
   "metadata": {},
   "source": [
    "## 2、LlamaIndex 介绍"
   ]
  },
  {
   "cell_type": "markdown",
   "id": "313487e1-a2c7-4d4b-ad41-e3a9f0a0b07e",
   "metadata": {},
   "source": [
    "_「 LlamaIndex is a framework for building context-augmented LLM applications. Context augmentation refers to any use case that applies LLMs on top of your private or domain-specific data. 」_\n",
    "\n",
    "LlamaIndex 是一个为开发「上下文增强」的大语言模型应用的框架（也就是SDK）。**上下文增强**，泛指任何在私有或特定领域数据基础上应用大语言模型的情况。例如：\n",
    "\n",
    "\n",
    "- Question-Answering Chatbots (也就是 RAG)\n",
    "  \n",
    "- Document Understanding and Extraction （文档理解与信息抽取） \n",
    "\n",
    "- Autonomous Agents that can perform research and take actions （智能体应用）\n",
    "\n",
    "LlamaIndex 有 Python 和 Typescript 两个版本，Python 版的文档相对更完善。\n",
    "\n",
    "- Python 文档地址：https://docs.llamaindex.ai/en/stable/\n",
    "  \n",
    "- Python API 接口文档：https://docs.llamaindex.ai/en/stable/api_reference/\n",
    "\n",
    "- TS 文档地址：https://ts.llamaindex.ai/\n",
    "\n",
    "- TS API 接口文档：https://ts.llamaindex.ai/api/\n",
    "\n",
    "LlamaIndex 是一个开源框架，Github 链接：https://github.com/run-llama"
   ]
  },
  {
   "cell_type": "markdown",
   "id": "ee4822b2-52d5-411c-8244-3432f8733da2",
   "metadata": {},
   "source": [
    "### LlamaIndex 的核心模块"
   ]
  },
  {
   "cell_type": "markdown",
   "id": "3c474b43-018a-4687-a51e-54b391a6bbca",
   "metadata": {},
   "source": [
    "<img src=\"llamaindex.png\" alt=\"LlamaIndex 核心模块\" width=\"600\"/>\n",
    "\n",
    "- "
   ]
  },
  {
   "cell_type": "markdown",
   "id": "ca66bf37-48e4-45eb-9e7e-a24e86108ac1",
   "metadata": {},
   "source": [
    "### 安装 LlamaIndex"
   ]
  },
  {
   "cell_type": "markdown",
   "id": "79027d8d-106f-42c8-b7b6-944a46182bda",
   "metadata": {},
   "source": [
    "1. Python\n",
    "\n",
    "```\n",
    "pip install llama-index\n",
    "```"
   ]
  },
  {
   "cell_type": "markdown",
   "id": "6b59179e-c8c8-4730-aa29-01c728c00df4",
   "metadata": {},
   "source": [
    "2. Typescript\n",
    "\n",
    "```\n",
    "# 通过 npm 安装\n",
    "npm install llamaindex\n",
    "\n",
    "# 通过 yarn 安装\n",
    "yarn add llamaindex\n",
    "\n",
    "# 通过 pnpm 安装\n",
    "pnpm add llamaindex\n",
    "```"
   ]
  },
  {
   "cell_type": "markdown",
   "id": "f9a882ce-b03f-43dc-aa4c-b269ff49adfd",
   "metadata": {},
   "source": [
    "本课程以 Python 版为例进行讲解。"
   ]
  },
  {
   "cell_type": "markdown",
   "id": "74341a28-fb7f-4e5b-9342-cf5cd850654a",
   "metadata": {},
   "source": [
    "## 3、数据加载（Loading）"
   ]
  },
  {
   "cell_type": "markdown",
   "id": "7d134a56-ae9a-41a5-a703-ce9dfb3fc600",
   "metadata": {},
   "source": [
    "### 3.1、加载本地数据"
   ]
  },
  {
   "cell_type": "markdown",
   "id": "d35bfa25-9a09-4c40-afa1-9f9156e56dc2",
   "metadata": {},
   "source": [
    "`SimpleDirectoryReader` 是一个简单的本地文件加载器。它会遍历指定目录，并根据文件扩展名自动加载文件（**文本内容**）。\r\n",
    "\r\n",
    "支持的文件类型：\r\n",
    "\r\n",
    "- `.csv` - comma-separated values\r\n",
    "- `.docx` - Microsoft Word\r\n",
    "- `.epub` - EPUB ebook format\r\n",
    "- `.hwp` - Hangul Word Processor\r\n",
    "- `.ipynb` - Jupyter Notebook\r\n",
    "- `.jpeg`, `.jpg` - JPEG image\r\n",
    "- `.mbox` - MBOX email archive\r\n",
    "- `.md` - Markdown\r\n",
    "- `.mp3`, `.mp4` - audio and video\r\n",
    "- `.pdf` - Portable Document Format\r\n",
    "- `.png` - Portable Network Graphics\r\n",
    "- `.ppt`, `.pptm`, `.pptx` - Microsoft PowerPoint"
   ]
  },
  {
   "cell_type": "code",
   "execution_count": 3,
   "id": "05b6a279-3eca-4685-af91-80fb443fca1d",
   "metadata": {},
   "outputs": [],
   "source": [
    "import json\n",
    "from pydantic.v1 import BaseModel\n",
    "\n",
    "def show_json(data):\n",
    "    \"\"\"用于展示json数据\"\"\"\n",
    "    if isinstance(data, str):\n",
    "        obj = json.loads(data)\n",
    "        print(json.dumps(obj, indent=4))\n",
    "    elif isinstance(data, dict) or isinstance(data, list):\n",
    "        print(json.dumps(data, indent=4))\n",
    "    elif issubclass(type(data), BaseModel):\n",
    "        print(json.dumps(data.dict(), indent=4, ensure_ascii=False))\n",
    "\n",
    "def show_list_obj(data):\n",
    "    \"\"\"用于展示一组对象\"\"\"\n",
    "    if isinstance(data, list):\n",
    "        for item in data:\n",
    "            show_json(item)\n",
    "    else:\n",
    "        raise ValueError(\"Input is not a list\")"
   ]
  },
  {
   "cell_type": "code",
   "execution_count": 4,
   "id": "198ebc20-fab6-46a9-8cca-4b114fe2640f",
   "metadata": {},
   "outputs": [],
   "source": [
    "from llama_index.core import SimpleDirectoryReader\n",
    "\n",
    "reader = SimpleDirectoryReader(\n",
    "        input_dir=\"./data\", # 目标目录\n",
    "        recursive=False, # 是否递归遍历子目录\n",
    "        required_exts=[\".pdf\"] # (可选)只读取指定后缀的文件\n",
    "    )\n",
    "documents = reader.load_data()"
   ]
  },
  {
   "cell_type": "code",
   "execution_count": 5,
   "id": "dfb3f1ac-75cb-4c5e-b0a1-53621d8d325e",
   "metadata": {},
   "outputs": [
    {
     "name": "stdout",
     "output_type": "stream",
     "text": [
      "{\n",
      "    \"id_\": \"e5f96b3c-2a5b-45dc-8ceb-28d18a588fc1\",\n",
      "    \"embedding\": null,\n",
      "    \"metadata\": {\n",
      "        \"page_label\": \"1\",\n",
      "        \"file_name\": \"llama2-extracted.pdf\",\n",
      "        \"file_path\": \"/home/jovyan/lecture-notes/07-llamaindex/data/llama2-extracted.pdf\",\n",
      "        \"file_type\": \"application/pdf\",\n",
      "        \"file_size\": 401338,\n",
      "        \"creation_date\": \"2024-06-14\",\n",
      "        \"last_modified_date\": \"2024-06-14\"\n",
      "    },\n",
      "    \"excluded_embed_metadata_keys\": [\n",
      "        \"file_name\",\n",
      "        \"file_type\",\n",
      "        \"file_size\",\n",
      "        \"creation_date\",\n",
      "        \"last_modified_date\",\n",
      "        \"last_accessed_date\"\n",
      "    ],\n",
      "    \"excluded_llm_metadata_keys\": [\n",
      "        \"file_name\",\n",
      "        \"file_type\",\n",
      "        \"file_size\",\n",
      "        \"creation_date\",\n",
      "        \"last_modified_date\",\n",
      "        \"last_accessed_date\"\n",
      "    ],\n",
      "    \"relationships\": {},\n",
      "    \"text\": \"Llama 2: OpenFoundation andFine-Tuned ChatModels\\nHugo Touvron∗Louis Martin†Kevin Stone†\\nPeter Albert Amjad Almahairi Yasmine Babaei Nikolay Bashlykov SoumyaBatra\\nPrajjwal Bhargava Shruti Bhosale Dan Bikel LukasBlecher Cristian CantonFerrer MoyaChen\\nGuillem Cucurull David Esiobu Jude Fernandes Jeremy Fu Wenyin Fu BrianFuller\\nCynthia Gao VedanujGoswami NamanGoyal AnthonyHartshorn Saghar Hosseini RuiHou\\nHakan Inan Marcin Kardas Viktor Kerkez Madian Khabsa IsabelKloumann ArtemKorenev\\nPunit Singh Koura Marie-AnneLachaux ThibautLavril Jenya Lee Diana Liskovich\\nYinghai Lu YuningMao Xavier Martinet Todor Mihaylov PushkarMishra\\nIgor Molybog Yixin Nie AndrewPoulton Jeremy Reizenstein Rashi Rungta Kalyan Saladi\\nAlan Schelten Ruan Silva EricMichael Smith Ranjan Subramanian XiaoqingEllenTan BinhTang\\nRoss Taylor AdinaWilliams JianXiang Kuan PuxinXu ZhengYan Iliyan Zarov YuchenZhang\\nAngela Fan MelanieKambadur SharanNarang Aurelien Rodriguez RobertStojnic\\nSergey Edunov ThomasScialom∗\\nGenAI, Meta\\nAbstract\\nIn this work, we develop and release Llama 2, a collection of pretrained and fine-tuned\\nlarge language models (LLMs) ranging in scale from 7 billion to 70 billion parameters.\\nOur fine-tuned LLMs, called Llama 2-Chat , are optimized for dialogue use cases. Our\\nmodels outperform open-source chat models on most benchmarks we tested, and based on\\nourhumanevaluationsforhelpfulnessandsafety,maybeasuitablesubstituteforclosed-\\nsource models. We provide a detailed description of our approach to fine-tuning and safety\\nimprovements of Llama 2-Chat in order to enable the community to build on our work and\\ncontribute to the responsibledevelopmentof LLMs.\\n∗Equal contribution, corresponding authors: {tscialom, htouvron}@meta.com\\n†Second author\\nContributions for all the authors can be found in Section A.1.arXiv:2307.09288v2  [cs.CL]  19 Jul 2023\",\n",
      "    \"mimetype\": \"text/plain\",\n",
      "    \"start_char_idx\": null,\n",
      "    \"end_char_idx\": null,\n",
      "    \"text_template\": \"{metadata_str}\\n\\n{content}\",\n",
      "    \"metadata_template\": \"{key}: {value}\",\n",
      "    \"metadata_seperator\": \"\\n\",\n",
      "    \"class_name\": \"Document\"\n",
      "}\n",
      "Llama 2: OpenFoundation andFine-Tuned ChatModels\n",
      "Hugo Touvron∗Louis Martin†Kevin Stone†\n",
      "Peter Albert Amjad Almahairi Yasmine Babaei Nikolay Bashlykov SoumyaBatra\n",
      "Prajjwal Bhargava Shruti Bhosale Dan Bikel LukasBlecher Cristian CantonFerrer MoyaChen\n",
      "Guillem Cucurull David Esiobu Jude Fernandes Jeremy Fu Wenyin Fu BrianFuller\n",
      "Cynthia Gao VedanujGoswami NamanGoyal AnthonyHartshorn Saghar Hosseini RuiHou\n",
      "Hakan Inan Marcin Kardas Viktor Kerkez Madian Khabsa IsabelKloumann ArtemKorenev\n",
      "Punit Singh Koura Marie-AnneLachaux ThibautLavril Jenya Lee Diana Liskovich\n",
      "Yinghai Lu YuningMao Xavier Martinet Todor Mihaylov PushkarMishra\n",
      "Igor Molybog Yixin Nie AndrewPoulton Jeremy Reizenstein Rashi Rungta Kalyan Saladi\n",
      "Alan Schelten Ruan Silva EricMichael Smith Ranjan Subramanian XiaoqingEllenTan BinhTang\n",
      "Ross Taylor AdinaWilliams JianXiang Kuan PuxinXu ZhengYan Iliyan Zarov YuchenZhang\n",
      "Angela Fan MelanieKambadur SharanNarang Aurelien Rodriguez RobertStojnic\n",
      "Sergey Edunov ThomasScialom∗\n",
      "GenAI, Meta\n",
      "Abstract\n",
      "In this work, we develop and release Llama 2, a collection of pretrained and fine-tuned\n",
      "large language models (LLMs) ranging in scale from 7 billion to 70 billion parameters.\n",
      "Our fine-tuned LLMs, called Llama 2-Chat , are optimized for dialogue use cases. Our\n",
      "models outperform open-source chat models on most benchmarks we tested, and based on\n",
      "ourhumanevaluationsforhelpfulnessandsafety,maybeasuitablesubstituteforclosed-\n",
      "source models. We provide a detailed description of our approach to fine-tuning and safety\n",
      "improvements of Llama 2-Chat in order to enable the community to build on our work and\n",
      "contribute to the responsibledevelopmentof LLMs.\n",
      "∗Equal contribution, corresponding authors: {tscialom, htouvron}@meta.com\n",
      "†Second author\n",
      "Contributions for all the authors can be found in Section A.1.arXiv:2307.09288v2  [cs.CL]  19 Jul 2023\n"
     ]
    }
   ],
   "source": [
    "show_json(documents[0])\n",
    "\n",
    "print(documents[0].text)"
   ]
  },
  {
   "cell_type": "markdown",
   "id": "277be7f4-1993-4b74-bd3e-f9d8cb5a827d",
   "metadata": {},
   "source": [
    "<div class=\"alert alert-warning\">\r\n",
    "<b>注意：</b>对图像、视频、语音类文件，默认不会自动提取其中文字。如需提取，参考下面介绍的 <code>Data Connectors</code>。\r\n",
    "</div>"
   ]
  },
  {
   "cell_type": "markdown",
   "id": "f2c98851-0858-4215-858d-bea70e310d5f",
   "metadata": {},
   "source": [
    "默认的 `PDFReader` 效果并不理想，我们可以更换文件加载器"
   ]
  },
  {
   "cell_type": "code",
   "execution_count": 7,
   "id": "74afcb1d-c832-40b7-bd26-d8d2dc0544f1",
   "metadata": {},
   "outputs": [],
   "source": [
    "# !pip install pymupdf"
   ]
  },
  {
   "cell_type": "code",
   "execution_count": 6,
   "id": "51a81f89-a374-4a27-91bc-f11433b3384a",
   "metadata": {},
   "outputs": [
    {
     "name": "stdout",
     "output_type": "stream",
     "text": [
      "Llama 2: Open Foundation and Fine-Tuned Chat Models\n",
      "Hugo Touvron∗\n",
      "Louis Martin†\n",
      "Kevin Stone†\n",
      "Peter Albert Amjad Almahairi Yasmine Babaei Nikolay Bashlykov Soumya Batra\n",
      "Prajjwal Bhargava Shruti Bhosale Dan Bikel Lukas Blecher Cristian Canton Ferrer Moya Chen\n",
      "Guillem Cucurull David Esiobu Jude Fernandes Jeremy Fu Wenyin Fu Brian Fuller\n",
      "Cynthia Gao Vedanuj Goswami Naman Goyal Anthony Hartshorn Saghar Hosseini Rui Hou\n",
      "Hakan Inan Marcin Kardas Viktor Kerkez Madian Khabsa Isabel Kloumann Artem Korenev\n",
      "Punit Singh Koura Marie-Anne Lachaux Thibaut Lavril Jenya Lee Diana Liskovich\n",
      "Yinghai Lu Yuning Mao Xavier Martinet Todor Mihaylov Pushkar Mishra\n",
      "Igor Molybog Yixin Nie Andrew Poulton Jeremy Reizenstein Rashi Rungta Kalyan Saladi\n",
      "Alan Schelten Ruan Silva Eric Michael Smith Ranjan Subramanian Xiaoqing Ellen Tan Binh Tang\n",
      "Ross Taylor Adina Williams Jian Xiang Kuan Puxin Xu Zheng Yan Iliyan Zarov Yuchen Zhang\n",
      "Angela Fan Melanie Kambadur Sharan Narang Aurelien Rodriguez Robert Stojnic\n",
      "Sergey Edunov\n",
      "Thomas Scialom∗\n",
      "GenAI, Meta\n",
      "Abstract\n",
      "In this work, we develop and release Llama 2, a collection of pretrained and fine-tuned\n",
      "large language models (LLMs) ranging in scale from 7 billion to 70 billion parameters.\n",
      "Our fine-tuned LLMs, called Llama 2-Chat, are optimized for dialogue use cases. Our\n",
      "models outperform open-source chat models on most benchmarks we tested, and based on\n",
      "our human evaluations for helpfulness and safety, may be a suitable substitute for closed-\n",
      "source models. We provide a detailed description of our approach to fine-tuning and safety\n",
      "improvements of Llama 2-Chat in order to enable the community to build on our work and\n",
      "contribute to the responsible development of LLMs.\n",
      "∗Equal contribution, corresponding authors: {tscialom, htouvron}@meta.com\n",
      "†Second author\n",
      "Contributions for all the authors can be found in Section A.1.\n",
      "arXiv:2307.09288v2  [cs.CL]  19 Jul 2023\n",
      "\n"
     ]
    }
   ],
   "source": [
    "from llama_index.core import SimpleDirectoryReader\n",
    "from llama_index.readers.file import PyMuPDFReader\n",
    "\n",
    "reader = SimpleDirectoryReader(\n",
    "        input_dir=\"./data\", # 目标目录\n",
    "        recursive=False, # 是否递归遍历子目录\n",
    "        required_exts=[\".pdf\"], # (可选)只读取指定后缀的文件\n",
    "        file_extractor={\".pdf\": PyMuPDFReader()} # 指定特定的文件加载器\n",
    "    )\n",
    "\n",
    "documents = reader.load_data()\n",
    "\n",
    "print(documents[0].text)"
   ]
  },
  {
   "cell_type": "markdown",
   "id": "a7aea293-3ddc-4a47-971d-2964153d6224",
   "metadata": {},
   "source": [
    "更多的 PDF 加载器还有 [`SmartPDFLoader`](https://llamahub.ai/l/readers/llama-index-readers-smart-pdf-loader?from=readers) 和 [`LlamaParse`](https://llamahub.ai/l/readers/llama-index-readers-llama-parse?from=readers), 二者都提供了更丰富的解析能力，包括解析章节与段落结构等。但不是100%准确，偶有文字丢失或错位情况，建议根据自身需求详细测试评估。"
   ]
  },
  {
   "cell_type": "markdown",
   "id": "a116d296-e4a4-4710-a41a-318bbab8ec24",
   "metadata": {},
   "source": [
    "### 3.2、Data Connectors\n",
    "\n",
    "用于处理更丰富的数据类型，并将其读取为 `Document` 的形式（text + metadata）。\n",
    "\n",
    "例如：加载一个[飞书文档](https://agiclass.feishu.cn/docx/FULadzkWmovlfkxSgLPcE4oWnPf)。（飞书文档 API 访问权限申请，请参考此[说明文档](飞书文档相关权限申请.pdf)）"
   ]
  },
  {
   "cell_type": "code",
   "execution_count": 4,
   "id": "d8624b8c-eae0-4499-82b2-0f0c9b17bd81",
   "metadata": {},
   "outputs": [],
   "source": [
    "# !pip install llama-index-readers-feishu-docs"
   ]
  },
  {
   "cell_type": "code",
   "execution_count": 7,
   "id": "7ba285be-d467-406f-8d16-74b3da29fb40",
   "metadata": {},
   "outputs": [
    {
     "name": "stdout",
     "output_type": "stream",
     "text": [
      "AI 大模型全栈工程师培养计划 - AGIClass.ai\n",
      "\n",
      "由 AGI 课堂推出的社群型会员制课程，传授大模型的原理、应用开发技术和行业认知，助你成为 ChatGPT 浪潮中的超级个体\n",
      "什么是 AI 大模型全栈工程师？\n",
      "「AI 大模型全栈工程师」简称「AI 全栈」，是一个人就能借助 AI，设计、开发和运营基于 AI 的大模型应用的超级个体。\n",
      "AI 全栈需要懂业务、懂 AI、懂编程，一个人就是一个团队，单枪匹马创造财富。\n",
      "在技术型公司，AI 全栈最懂 AI，瞬间站上技术顶峰。\n",
      "在非技术型公司，AI 全栈连接其他员工和 AI，提升整个公司的效率。\n",
      "在公司外，AI 全栈接项目，独立开发变现小工具，赚取丰厚副业收入。\n",
      "适合人群\n",
      "学习本课程，可以在下述目标中三选一：\n",
      "成为 AI 全栈：懂业务、懂 AI 也懂编程。大量使用 AI，自己完成 AI 应用从策划、开发到落地的全过程。包括商业分析、需求分析、产品设计、开发、测试、市场推广和运营等\n",
      "成为业务向 AI 全栈：懂业务也懂 AI，与程序员合作，一起完成 AI 应用从策划、开发到落地的全过程\n",
      "成为编程向 AI 全栈：懂编程也懂 AI，与业务人员合作，一起完成 AI 应用从策划、开发到落地的全过程\n",
      "懂至少一门编程语言，并有过真实项目开发经验的软件开发⼯程师、⾼级⼯程师、技术总监、研发经理、架构师、测试⼯程师、数据工程师、运维工程师等，建议以「AI 全栈」为目标。即便对商业、产品、市场等的学习达不到最佳，但已掌握的经验和认知也有助于成为有竞争力的「编程向AI 全栈」。\n",
      "不懂编程的产品经理、需求分析师、创业者、老板、解决方案工程师、项目经理、运营、市场、销售、设计师等，建议优先选择「业务向 AI 全栈」为目标。在课程提供的技术环境里熏陶，提高技术领域的判断力，未来可以和技术人员更流畅地沟通协作。学习过程中，如果能善用 AI 学习编程、辅助编程，就可以向「AI 全栈」迈进。\n",
      "师资力量\n",
      "首席讲师 - 王卓然\n",
      "\n",
      "\n",
      "image.png\n",
      "\n",
      "\n",
      "哈尔滨工业大学本硕，英国 UCL 博士，国际知名学者、企业家，师从统计机器学习理论奠基人之一 John Shawe-Taylor 教授，是最早从事人机对话研究的华裔学者之一，至今已超 20 年。\n",
      "他就是 AI 全栈，仍在研发一线，单人销售、售前、开发、实施全流程交付多个数百万金额 AI 项目，全栈实战经验\n"
     ]
    }
   ],
   "source": [
    "from llama_index.readers.feishu_docs import FeishuDocsReader\n",
    "\n",
    "# 见说明文档\n",
    "app_id = \"cli_a6f1c0fa1fd9d00b\"\n",
    "app_secret = \"dMXCTy8DGaty2xn8I858ZbFDFvcqgiep\"\n",
    "\n",
    "# https://agiclass.feishu.cn/docx/FULadzkWmovlfkxSgLPcE4oWnPf\n",
    "# 链接最后的 \"FULadzkWmovlfkxSgLPcE4oWnPf\" 为文档 ID \n",
    "doc_ids = [\"FULadzkWmovlfkxSgLPcE4oWnPf\"]\n",
    "\n",
    "# 定义飞书文档加载器\n",
    "loader = FeishuDocsReader(app_id, app_secret)\n",
    "\n",
    "# 加载文档\n",
    "documents = loader.load_data(document_ids=doc_ids)\n",
    "\n",
    "# 显示前1000字符\n",
    "print(documents[0].text[:1000])"
   ]
  },
  {
   "cell_type": "markdown",
   "id": "02a88893-01b8-44a1-9bed-e93e60cec328",
   "metadata": {},
   "source": [
    "<div class=\"alert alert-info\">\n",
    "<b>更多 Data Connectors</b>\n",
    "    <ul>\n",
    "        <li>内置的<a href=\"https://llamahub.ai/l/readers/llama-index-readers-file\">文件加载器</a></li>\n",
    "        <li>连接三方服务的<a href=\"https://docs.llamaindex.ai/en/stable/module_guides/loading/connector/modules/\">数据加载器</a>，例如数据库</li>\n",
    "        <li>更多加载器可以在 <a href=\"https://llamahub.ai/\">LlamaHub</a> 上找到</li>\n",
    "    </ul>\n",
    "</div>"
   ]
  },
  {
   "cell_type": "markdown",
   "id": "36ed8a42-f6fc-430f-9e92-07736e7f359c",
   "metadata": {},
   "source": [
    "## 4、文本切分与解析（Chunking）"
   ]
  },
  {
   "cell_type": "markdown",
   "id": "39ad7ebd-9e56-47f9-8136-2e1098139c01",
   "metadata": {},
   "source": [
    "为方便检索，我们通常把 `Document` 切分为 `Node`。\n",
    "\n",
    "在 LlamaIndex 中，`Node` 被定义为一个文本的「chunk」。"
   ]
  },
  {
   "cell_type": "markdown",
   "id": "4881c7d9-9107-4704-b322-d3bc34af96f2",
   "metadata": {},
   "source": [
    "### 4.1、使用 TextSplitters 对文本做切分\n",
    "\n",
    "例如：`TokenTextSplitter` 按指定 token 数切分文本"
   ]
  },
  {
   "cell_type": "code",
   "execution_count": 8,
   "id": "69a083f7-cda9-45d9-be3e-397ce866e440",
   "metadata": {},
   "outputs": [],
   "source": [
    "from llama_index.core import Document\n",
    "from llama_index.core.node_parser import TokenTextSplitter\n",
    "\n",
    "node_parser = TokenTextSplitter(\n",
    "    chunk_size=100,  # 每个 chunk 的最大长度\n",
    "    chunk_overlap=50  # chunk 之间重叠长度 \n",
    ")\n",
    "\n",
    "nodes = node_parser.get_nodes_from_documents(\n",
    "    documents, show_progress=False\n",
    ")"
   ]
  },
  {
   "cell_type": "code",
   "execution_count": 9,
   "id": "5852a21f-a23f-49f3-9a51-d62b8c78d7b3",
   "metadata": {},
   "outputs": [
    {
     "name": "stdout",
     "output_type": "stream",
     "text": [
      "{\n",
      "    \"id_\": \"859c0fac-b277-41a4-ab92-ba26dd232a35\",\n",
      "    \"embedding\": null,\n",
      "    \"metadata\": {},\n",
      "    \"excluded_embed_metadata_keys\": [],\n",
      "    \"excluded_llm_metadata_keys\": [],\n",
      "    \"relationships\": {\n",
      "        \"1\": {\n",
      "            \"node_id\": \"48795986\",\n",
      "            \"node_type\": \"4\",\n",
      "            \"metadata\": {},\n",
      "            \"hash\": \"ec6392b9b6f9cc124cb091b2e47775ec7243d646647d544c73427ed060026bfb\",\n",
      "            \"class_name\": \"RelatedNodeInfo\"\n",
      "        },\n",
      "        \"3\": {\n",
      "            \"node_id\": \"8723e3a5-0bb1-4d66-8366-8d7720d0fb56\",\n",
      "            \"node_type\": \"1\",\n",
      "            \"metadata\": {},\n",
      "            \"hash\": \"fb5e8cc543e4443ee13fa113c0c5d4d0ec3d48b4d0748061e05d0dc9063a3ab3\",\n",
      "            \"class_name\": \"RelatedNodeInfo\"\n",
      "        }\n",
      "    },\n",
      "    \"text\": \"OpenAI is an American artificial intelligence (AI) research organization founded in December 2015 and headquartered in San Francisco. Its mission is to develop \\\"safe and beneficial\\\" artificial general intelligence, which it defines as \\\"highly autonomous systems that outperform humans at most economically valuable work\\\". As a leading organization in the ongoing AI boom, OpenAI has developed several large language models, advanced image generation models, and previously, released open-source models. Its release of ChatGPT has been credited\",\n",
      "    \"mimetype\": \"text/plain\",\n",
      "    \"start_char_idx\": 0,\n",
      "    \"end_char_idx\": 543,\n",
      "    \"text_template\": \"{metadata_str}\\n\\n{content}\",\n",
      "    \"metadata_template\": \"{key}: {value}\",\n",
      "    \"metadata_seperator\": \"\\n\",\n",
      "    \"class_name\": \"TextNode\"\n",
      "}\n",
      "{\n",
      "    \"id_\": \"8723e3a5-0bb1-4d66-8366-8d7720d0fb56\",\n",
      "    \"embedding\": null,\n",
      "    \"metadata\": {},\n",
      "    \"excluded_embed_metadata_keys\": [],\n",
      "    \"excluded_llm_metadata_keys\": [],\n",
      "    \"relationships\": {\n",
      "        \"1\": {\n",
      "            \"node_id\": \"48795986\",\n",
      "            \"node_type\": \"4\",\n",
      "            \"metadata\": {},\n",
      "            \"hash\": \"ec6392b9b6f9cc124cb091b2e47775ec7243d646647d544c73427ed060026bfb\",\n",
      "            \"class_name\": \"RelatedNodeInfo\"\n",
      "        },\n",
      "        \"2\": {\n",
      "            \"node_id\": \"859c0fac-b277-41a4-ab92-ba26dd232a35\",\n",
      "            \"node_type\": \"1\",\n",
      "            \"metadata\": {},\n",
      "            \"hash\": \"e72168575854761753a16569b272a8427d8f20b2e0f0a1bf8ebc994d3e7cf0c8\",\n",
      "            \"class_name\": \"RelatedNodeInfo\"\n",
      "        },\n",
      "        \"3\": {\n",
      "            \"node_id\": \"ebf13cf9-0a36-44dc-bb13-baad485de1bc\",\n",
      "            \"node_type\": \"1\",\n",
      "            \"metadata\": {},\n",
      "            \"hash\": \"2d0279fd4aef89280532cd84cd0267da9edae4bf0e07b29a9b1c3bf125db850a\",\n",
      "            \"class_name\": \"RelatedNodeInfo\"\n",
      "        }\n",
      "    },\n",
      "    \"text\": \"outperform humans at most economically valuable work\\\". As a leading organization in the ongoing AI boom, OpenAI has developed several large language models, advanced image generation models, and previously, released open-source models. Its release of ChatGPT has been credited with catalyzing widespread interest in AI.\\nThe organization consists of the non-profit OpenAI, Inc. registered in Delaware and its for-profit subsidiary OpenAI Global, LLC. Microsoft owns roughly 49% of OpenAI's equity, having\",\n",
      "    \"mimetype\": \"text/plain\",\n",
      "    \"start_char_idx\": 267,\n",
      "    \"end_char_idx\": 770,\n",
      "    \"text_template\": \"{metadata_str}\\n\\n{content}\",\n",
      "    \"metadata_template\": \"{key}: {value}\",\n",
      "    \"metadata_seperator\": \"\\n\",\n",
      "    \"class_name\": \"TextNode\"\n",
      "}\n"
     ]
    }
   ],
   "source": [
    "show_json(nodes[0])\n",
    "show_json(nodes[1])"
   ]
  },
  {
   "cell_type": "markdown",
   "id": "d1f56dbf-4247-4a06-a127-2fa1929455f0",
   "metadata": {},
   "source": [
    "LlamaIndex 提供了丰富的 `TextSplitter`，例如：\n",
    "\n",
    "- [`SentenceSplitter`](https://docs.llamaindex.ai/en/stable/api_reference/node_parsers/sentence_splitter/)：在切分指定长度的 chunk 同时尽量保证句子边界不被切断；\n",
    "- [`CodeSplitter`](https://docs.llamaindex.ai/en/stable/api_reference/node_parsers/code/)：根据 AST（编译器的抽象句法树）切分代码，保证代码功能片段完整；\n",
    "- [`SemanticSplitterNodeParser`](https://docs.llamaindex.ai/en/stable/api_reference/node_parsers/semantic_splitter/)：根据语义相关性对将文本切分为片段。"
   ]
  },
  {
   "cell_type": "markdown",
   "id": "b692f9fb-af99-4bf5-9d4e-c745438173d6",
   "metadata": {},
   "source": [
    "### 4.2、使用 NodeParsers 对有结构的文档做解析\n",
    "\n",
    "例如：`MarkdownNodeParser`解析 markdown 文档"
   ]
  },
  {
   "cell_type": "code",
   "execution_count": 10,
   "id": "5efb4601-877b-4eea-b05c-8006fbb56d13",
   "metadata": {},
   "outputs": [],
   "source": [
    "from llama_index.readers.file import FlatReader\n",
    "from llama_index.core.node_parser import MarkdownNodeParser\n",
    "from pathlib import Path\n",
    "\n",
    "md_docs = FlatReader().load_data(Path(\"./data/ChatALL.md\"))\n",
    "parser = MarkdownNodeParser()\n",
    "nodes = parser.get_nodes_from_documents(md_docs)"
   ]
  },
  {
   "cell_type": "code",
   "execution_count": 11,
   "id": "28b895a0-2ad8-4aa2-ae59-96b2674f225d",
   "metadata": {},
   "outputs": [
    {
     "name": "stdout",
     "output_type": "stream",
     "text": [
      "{\n",
      "    \"id_\": \"0ed5fbbd-d70e-486b-b487-804e3156e35e\",\n",
      "    \"embedding\": null,\n",
      "    \"metadata\": {\n",
      "        \"Header_2\": \"功能\",\n",
      "        \"filename\": \"ChatALL.md\",\n",
      "        \"extension\": \".md\"\n",
      "    },\n",
      "    \"excluded_embed_metadata_keys\": [],\n",
      "    \"excluded_llm_metadata_keys\": [],\n",
      "    \"relationships\": {\n",
      "        \"1\": {\n",
      "            \"node_id\": \"386535b4-a9e9-46a8-a442-015d1fe25ff4\",\n",
      "            \"node_type\": \"4\",\n",
      "            \"metadata\": {\n",
      "                \"filename\": \"ChatALL.md\",\n",
      "                \"extension\": \".md\"\n",
      "            },\n",
      "            \"hash\": \"45b9149e0039c1ef7fbbd74f96923875505cc77916de48734ba7767f6a16a87e\",\n",
      "            \"class_name\": \"RelatedNodeInfo\"\n",
      "        },\n",
      "        \"2\": {\n",
      "            \"node_id\": \"e8e16bc1-f6dd-4020-8ebd-d8a0594c441d\",\n",
      "            \"node_type\": \"1\",\n",
      "            \"metadata\": {\n",
      "                \"Header_2\": \"屏幕截图\",\n",
      "                \"filename\": \"ChatALL.md\",\n",
      "                \"extension\": \".md\"\n",
      "            },\n",
      "            \"hash\": \"117d78eb026d9b5f7d4d884e3cf594bfaa98d43f07dd30ff85b196308f1fe890\",\n",
      "            \"class_name\": \"RelatedNodeInfo\"\n",
      "        },\n",
      "        \"3\": {\n",
      "            \"node_id\": \"ac40dc8a-1ae4-47aa-8485-15ffa3dfe684\",\n",
      "            \"node_type\": \"1\",\n",
      "            \"metadata\": {\n",
      "                \"Header_2\": \"功能\",\n",
      "                \"Header_3\": \"这是你吗？\"\n",
      "            },\n",
      "            \"hash\": \"f54ac07d417fbcbd606e7cdd3de28c30804e2213218dec2e6157d5037a23e289\",\n",
      "            \"class_name\": \"RelatedNodeInfo\"\n",
      "        }\n",
      "    },\n",
      "    \"text\": \"功能\\n\\n基于大型语言模型（LLMs）的 AI 机器人非常神奇。然而，它们的行为可能是随机的，不同的机器人在不同的任务上表现也有差异。如果你想获得最佳体验，不要一个一个尝试。ChatALL（中文名：齐叨）可以把一条指令同时发给多个 AI，帮助您发现最好的回答。你需要做的只是[下载、安装](https://github.com/sunner/ChatALL/releases)和提问。\",\n",
      "    \"mimetype\": \"text/plain\",\n",
      "    \"start_char_idx\": 459,\n",
      "    \"end_char_idx\": 650,\n",
      "    \"text_template\": \"{metadata_str}\\n\\n{content}\",\n",
      "    \"metadata_template\": \"{key}: {value}\",\n",
      "    \"metadata_seperator\": \"\\n\",\n",
      "    \"class_name\": \"TextNode\"\n",
      "}\n",
      "{\n",
      "    \"id_\": \"ac40dc8a-1ae4-47aa-8485-15ffa3dfe684\",\n",
      "    \"embedding\": null,\n",
      "    \"metadata\": {\n",
      "        \"Header_2\": \"功能\",\n",
      "        \"Header_3\": \"这是你吗？\",\n",
      "        \"filename\": \"ChatALL.md\",\n",
      "        \"extension\": \".md\"\n",
      "    },\n",
      "    \"excluded_embed_metadata_keys\": [],\n",
      "    \"excluded_llm_metadata_keys\": [],\n",
      "    \"relationships\": {\n",
      "        \"1\": {\n",
      "            \"node_id\": \"386535b4-a9e9-46a8-a442-015d1fe25ff4\",\n",
      "            \"node_type\": \"4\",\n",
      "            \"metadata\": {\n",
      "                \"filename\": \"ChatALL.md\",\n",
      "                \"extension\": \".md\"\n",
      "            },\n",
      "            \"hash\": \"45b9149e0039c1ef7fbbd74f96923875505cc77916de48734ba7767f6a16a87e\",\n",
      "            \"class_name\": \"RelatedNodeInfo\"\n",
      "        },\n",
      "        \"2\": {\n",
      "            \"node_id\": \"0ed5fbbd-d70e-486b-b487-804e3156e35e\",\n",
      "            \"node_type\": \"1\",\n",
      "            \"metadata\": {\n",
      "                \"Header_2\": \"功能\",\n",
      "                \"filename\": \"ChatALL.md\",\n",
      "                \"extension\": \".md\"\n",
      "            },\n",
      "            \"hash\": \"e55bca9054a8c81ae48646990ff59a59f34e51dcf11f47e9dbd0a7e1d8e7f1de\",\n",
      "            \"class_name\": \"RelatedNodeInfo\"\n",
      "        },\n",
      "        \"3\": {\n",
      "            \"node_id\": \"5d54d722-ee2d-4ee9-839c-3eecbe9f1768\",\n",
      "            \"node_type\": \"1\",\n",
      "            \"metadata\": {\n",
      "                \"Header_2\": \"功能\",\n",
      "                \"Header_3\": \"支持的 AI\"\n",
      "            },\n",
      "            \"hash\": \"1b2b11abec9fc74b725b6c344f37d44736e8e991a3eebdbcfa4ab682506c7b2e\",\n",
      "            \"class_name\": \"RelatedNodeInfo\"\n",
      "        }\n",
      "    },\n",
      "    \"text\": \"这是你吗？\\n\\nChatALL 的典型用户是：\\n\\n- 🤠**大模型重度玩家**，希望从大模型找到最好的答案，或者最好的创作\\n- 🤓**大模型研究者**，直观比较各种大模型在不同领域的优劣\\n- 😎**大模型应用开发者**，快速调试 prompt，寻找表现最佳的基础模型\",\n",
      "    \"mimetype\": \"text/plain\",\n",
      "    \"start_char_idx\": 656,\n",
      "    \"end_char_idx\": 788,\n",
      "    \"text_template\": \"{metadata_str}\\n\\n{content}\",\n",
      "    \"metadata_template\": \"{key}: {value}\",\n",
      "    \"metadata_seperator\": \"\\n\",\n",
      "    \"class_name\": \"TextNode\"\n",
      "}\n"
     ]
    }
   ],
   "source": [
    "show_json(nodes[2])\n",
    "show_json(nodes[3])"
   ]
  },
  {
   "cell_type": "markdown",
   "id": "9bdc613c-36a8-4afb-871b-097496703eaf",
   "metadata": {},
   "source": [
    "更多的 `NodeParser` 包括 [`HTMLNodeParser`](https://docs.llamaindex.ai/en/stable/api_reference/node_parsers/html/)，[`JSONNodeParser`](https://docs.llamaindex.ai/en/stable/api_reference/node_parsers/json/)等等。"
   ]
  },
  {
   "cell_type": "markdown",
   "id": "c8b8557f-20af-477d-918d-14761a9c986d",
   "metadata": {},
   "source": [
    "## 5、索引（Indexing）与检索（Retrieval）"
   ]
  },
  {
   "cell_type": "markdown",
   "id": "df338b16-df37-412d-a385-2d1f4b681112",
   "metadata": {},
   "source": [
    "**基础概念**：在「检索」相关的上下文中，「索引」即`index`， 通常是指为了实现快速检索而设计的特定「数据结构」。\n",
    "\n",
    "索引的具体原理与实现不是本课程的教学重点，感兴趣的同学可以参考：[传统索引](https://en.wikipedia.org/wiki/Search_engine_indexing)、[向量索引](https://medium.com/kx-systems/vector-indexing-a-roadmap-for-vector-databases-65866f07daf5)"
   ]
  },
  {
   "cell_type": "markdown",
   "id": "1dd397fe-8932-49de-ac37-bed0b585205c",
   "metadata": {},
   "source": [
    "### 5.1、向量检索\n",
    "\n",
    "1. `SimpleVectorStore` 直接在内存中构建一个 Vector Store 并建索引"
   ]
  },
  {
   "cell_type": "code",
   "execution_count": 12,
   "id": "4ea17e80-d25c-43ac-b9b5-983c6acb3adb",
   "metadata": {},
   "outputs": [
    {
     "name": "stdout",
     "output_type": "stream",
     "text": [
      "{\n",
      "    \"node\": {\n",
      "        \"id_\": \"0041bf6b-d778-41a3-b675-1a1407d6d658\",\n",
      "        \"embedding\": null,\n",
      "        \"metadata\": {\n",
      "            \"file_path\": \"/home/jovyan/lecture-notes/07-llamaindex/data/llama2-extracted.pdf\",\n",
      "            \"file_name\": \"llama2-extracted.pdf\",\n",
      "            \"file_type\": \"application/pdf\",\n",
      "            \"file_size\": 401338,\n",
      "            \"creation_date\": \"2024-06-14\",\n",
      "            \"last_modified_date\": \"2024-06-14\",\n",
      "            \"total_pages\": 4,\n",
      "            \"source\": \"4\"\n",
      "        },\n",
      "        \"excluded_embed_metadata_keys\": [\n",
      "            \"file_name\",\n",
      "            \"file_type\",\n",
      "            \"file_size\",\n",
      "            \"creation_date\",\n",
      "            \"last_modified_date\",\n",
      "            \"last_accessed_date\"\n",
      "        ],\n",
      "        \"excluded_llm_metadata_keys\": [\n",
      "            \"file_name\",\n",
      "            \"file_type\",\n",
      "            \"file_size\",\n",
      "            \"creation_date\",\n",
      "            \"last_modified_date\",\n",
      "            \"last_accessed_date\"\n",
      "        ],\n",
      "        \"relationships\": {\n",
      "            \"1\": {\n",
      "                \"node_id\": \"27aa0e7b-ad7e-48ef-84f2-fc7176b2fc14\",\n",
      "                \"node_type\": \"4\",\n",
      "                \"metadata\": {\n",
      "                    \"file_path\": \"/home/jovyan/lecture-notes/07-llamaindex/data/llama2-extracted.pdf\",\n",
      "                    \"file_name\": \"llama2-extracted.pdf\",\n",
      "                    \"file_type\": \"application/pdf\",\n",
      "                    \"file_size\": 401338,\n",
      "                    \"creation_date\": \"2024-06-14\",\n",
      "                    \"last_modified_date\": \"2024-06-14\",\n",
      "                    \"total_pages\": 4,\n",
      "                    \"source\": \"4\"\n",
      "                },\n",
      "                \"hash\": \"b29837a2e4d3e1e2b226990cb3eb14138fc66be2a51372a68641272c2095519a\",\n",
      "                \"class_name\": \"RelatedNodeInfo\"\n",
      "            },\n",
      "            \"2\": {\n",
      "                \"node_id\": \"4ff11829-ae73-466a-9ff7-c3268ae485b6\",\n",
      "                \"node_type\": \"1\",\n",
      "                \"metadata\": {\n",
      "                    \"file_path\": \"/home/jovyan/lecture-notes/07-llamaindex/data/llama2-extracted.pdf\",\n",
      "                    \"file_name\": \"llama2-extracted.pdf\",\n",
      "                    \"file_type\": \"application/pdf\",\n",
      "                    \"file_size\": 401338,\n",
      "                    \"creation_date\": \"2024-06-14\",\n",
      "                    \"last_modified_date\": \"2024-06-14\",\n",
      "                    \"total_pages\": 4,\n",
      "                    \"source\": \"4\"\n",
      "                },\n",
      "                \"hash\": \"07108bd9b8afa14b2c31a05dbe825ddf1cf5ca4ddcc8bb87eb57ce03045e7bc7\",\n",
      "                \"class_name\": \"RelatedNodeInfo\"\n",
      "            },\n",
      "            \"3\": {\n",
      "                \"node_id\": \"5bd74633-059d-462e-b87f-5b8303d4fb7c\",\n",
      "                \"node_type\": \"1\",\n",
      "                \"metadata\": {},\n",
      "                \"hash\": \"726b948dfd9e32d525760994bddb61dbfaba8a0d18d12a3e3a4f9504fbc208fd\",\n",
      "                \"class_name\": \"RelatedNodeInfo\"\n",
      "            }\n",
      "        },\n",
      "        \"text\": \"an updated version of Llama 1, trained on a new mix of publicly available data. We also\\nincreased the size of the pretraining corpus by 40%, doubled the context length of the model, and\\nadopted grouped-query attention (Ainslie et al., 2023). We are releasing variants of Llama 2 with\\n7B, 13B, and 70B parameters. We have also trained 34B variants, which we report on in this paper\\nbut are not releasing.§\\n2. Llama 2-Chat, a fine-tuned version of Llama 2 that is optimized for dialogue use cases. We release\\nvariants of this model with 7B, 13B, and 70B parameters as well.\\nWe believe that the open release of LLMs, when done safely, will be a net benefit to society. Like all LLMs,\\nLlama 2 is a new technology that carries potential risks with use (Bender et al., 2021b; Weidinger et al., 2021;\\nSolaiman et al., 2023). Testing conducted to date has been in English and has not — and could not — cover\\nall scenarios. Therefore, before deploying any applications of\",\n",
      "        \"mimetype\": \"text/plain\",\n",
      "        \"start_char_idx\": 752,\n",
      "        \"end_char_idx\": 1714,\n",
      "        \"text_template\": \"{metadata_str}\\n\\n{content}\",\n",
      "        \"metadata_template\": \"{key}: {value}\",\n",
      "        \"metadata_seperator\": \"\\n\",\n",
      "        \"class_name\": \"TextNode\"\n",
      "    },\n",
      "    \"score\": 0.7902534906577295,\n",
      "    \"class_name\": \"NodeWithScore\"\n",
      "}\n",
      "{\n",
      "    \"node\": {\n",
      "        \"id_\": \"e495bef6-126d-4134-9a26-501d83981b1b\",\n",
      "        \"embedding\": null,\n",
      "        \"metadata\": {\n",
      "            \"file_path\": \"/home/jovyan/lecture-notes/07-llamaindex/data/llama2-extracted.pdf\",\n",
      "            \"file_name\": \"llama2-extracted.pdf\",\n",
      "            \"file_type\": \"application/pdf\",\n",
      "            \"file_size\": 401338,\n",
      "            \"creation_date\": \"2024-06-14\",\n",
      "            \"last_modified_date\": \"2024-06-14\",\n",
      "            \"total_pages\": 4,\n",
      "            \"source\": \"1\"\n",
      "        },\n",
      "        \"excluded_embed_metadata_keys\": [\n",
      "            \"file_name\",\n",
      "            \"file_type\",\n",
      "            \"file_size\",\n",
      "            \"creation_date\",\n",
      "            \"last_modified_date\",\n",
      "            \"last_accessed_date\"\n",
      "        ],\n",
      "        \"excluded_llm_metadata_keys\": [\n",
      "            \"file_name\",\n",
      "            \"file_type\",\n",
      "            \"file_size\",\n",
      "            \"creation_date\",\n",
      "            \"last_modified_date\",\n",
      "            \"last_accessed_date\"\n",
      "        ],\n",
      "        \"relationships\": {\n",
      "            \"1\": {\n",
      "                \"node_id\": \"956e1b05-2959-4ab7-be62-3d308805ea6b\",\n",
      "                \"node_type\": \"4\",\n",
      "                \"metadata\": {\n",
      "                    \"file_path\": \"/home/jovyan/lecture-notes/07-llamaindex/data/llama2-extracted.pdf\",\n",
      "                    \"file_name\": \"llama2-extracted.pdf\",\n",
      "                    \"file_type\": \"application/pdf\",\n",
      "                    \"file_size\": 401338,\n",
      "                    \"creation_date\": \"2024-06-14\",\n",
      "                    \"last_modified_date\": \"2024-06-14\",\n",
      "                    \"total_pages\": 4,\n",
      "                    \"source\": \"1\"\n",
      "                },\n",
      "                \"hash\": \"3ebf9b8910125e57c9eea78794c6566c0a85081c97dbf7e83a65e5d791bcda57\",\n",
      "                \"class_name\": \"RelatedNodeInfo\"\n",
      "            },\n",
      "            \"2\": {\n",
      "                \"node_id\": \"4dfc0624-feac-4cca-89fe-e956ac3bf2ca\",\n",
      "                \"node_type\": \"1\",\n",
      "                \"metadata\": {\n",
      "                    \"file_path\": \"/home/jovyan/lecture-notes/07-llamaindex/data/llama2-extracted.pdf\",\n",
      "                    \"file_name\": \"llama2-extracted.pdf\",\n",
      "                    \"file_type\": \"application/pdf\",\n",
      "                    \"file_size\": 401338,\n",
      "                    \"creation_date\": \"2024-06-14\",\n",
      "                    \"last_modified_date\": \"2024-06-14\",\n",
      "                    \"total_pages\": 4,\n",
      "                    \"source\": \"1\"\n",
      "                },\n",
      "                \"hash\": \"bf3806ddee17b6020e00e4e722a57980d0c5fc9f813ff437a756c8dd8f44e52f\",\n",
      "                \"class_name\": \"RelatedNodeInfo\"\n",
      "            },\n",
      "            \"3\": {\n",
      "                \"node_id\": \"d3cd28ca-2d69-40b7-993b-f63263f4de06\",\n",
      "                \"node_type\": \"1\",\n",
      "                \"metadata\": {},\n",
      "                \"hash\": \"fe31f0ee71493cf072edea470642efdc2be2103b9deb19d3706be19e2d1fef9b\",\n",
      "                \"class_name\": \"RelatedNodeInfo\"\n",
      "            }\n",
      "        },\n",
      "        \"text\": \"Koura Marie-Anne Lachaux Thibaut Lavril Jenya Lee Diana Liskovich\\nYinghai Lu Yuning Mao Xavier Martinet Todor Mihaylov Pushkar Mishra\\nIgor Molybog Yixin Nie Andrew Poulton Jeremy Reizenstein Rashi Rungta Kalyan Saladi\\nAlan Schelten Ruan Silva Eric Michael Smith Ranjan Subramanian Xiaoqing Ellen Tan Binh Tang\\nRoss Taylor Adina Williams Jian Xiang Kuan Puxin Xu Zheng Yan Iliyan Zarov Yuchen Zhang\\nAngela Fan Melanie Kambadur Sharan Narang Aurelien Rodriguez Robert Stojnic\\nSergey Edunov\\nThomas Scialom∗\\nGenAI, Meta\\nAbstract\\nIn this work, we develop and release Llama 2, a collection of pretrained and fine-tuned\\nlarge language models (LLMs) ranging in scale from 7 billion to 70 billion parameters.\\nOur fine-tuned LLMs, called Llama 2-Chat, are optimized for dialogue use cases. Our\\nmodels outperform open-source chat models on most benchmarks we tested, and based on\\nour human evaluations for helpfulness and safety, may be a suitable substitute for\",\n",
      "        \"mimetype\": \"text/plain\",\n",
      "        \"start_char_idx\": 513,\n",
      "        \"end_char_idx\": 1464,\n",
      "        \"text_template\": \"{metadata_str}\\n\\n{content}\",\n",
      "        \"metadata_template\": \"{key}: {value}\",\n",
      "        \"metadata_seperator\": \"\\n\",\n",
      "        \"class_name\": \"TextNode\"\n",
      "    },\n",
      "    \"score\": 0.7890007200916708,\n",
      "    \"class_name\": \"NodeWithScore\"\n",
      "}\n"
     ]
    }
   ],
   "source": [
    "from llama_index.core import VectorStoreIndex, SimpleDirectoryReader\n",
    "from llama_index.core.node_parser import TokenTextSplitter\n",
    "from llama_index.readers.file import PyMuPDFReader\n",
    "\n",
    "# 加载 pdf 文档\n",
    "documents = SimpleDirectoryReader(\n",
    "    \"./data\", \n",
    "    required_exts=[\".pdf\"],\n",
    "    file_extractor={\".pdf\": PyMuPDFReader()}\n",
    ").load_data()\n",
    "\n",
    "# 定义 Node Parser\n",
    "node_parser = TokenTextSplitter(chunk_size=300, chunk_overlap=100)\n",
    "\n",
    "# 切分文档\n",
    "nodes = node_parser.get_nodes_from_documents(documents)\n",
    "\n",
    "# 构建 index\n",
    "index = VectorStoreIndex(nodes)\n",
    "\n",
    "# 获取 retriever\n",
    "vector_retriever = index.as_retriever(\n",
    "    similarity_top_k=2 # 返回前两个结果\n",
    ")\n",
    "\n",
    "# 检索\n",
    "results = vector_retriever.retrieve(\"Llama2有多少参数\")\n",
    "\n",
    "show_list_obj(results)"
   ]
  },
  {
   "cell_type": "markdown",
   "id": "aaeca7fd-5606-45a4-8443-ddab6b9e413f",
   "metadata": {},
   "source": [
    "<div class=\"alert alert-warning\">\n",
    "<p>LlamaIndex 默认的 Embedding 模型是 <code>OpenAIEmbedding(model=\"text-embedding-ada-002\")</code>。</p>\n",
    "<p>如何替换指定的 Embedding 模型见后面章节详解。</p>\n",
    "</div>"
   ]
  },
  {
   "cell_type": "markdown",
   "id": "90ebec20-7c12-4d2d-a4f4-5cb2abcc5f32",
   "metadata": {},
   "source": [
    "2. 使用自定义的 Vector Store，以 `Chroma` 为例："
   ]
  },
  {
   "cell_type": "code",
   "execution_count": 16,
   "id": "4fe2ca84-6fbe-46a6-ae3f-d1646f724a19",
   "metadata": {},
   "outputs": [],
   "source": [
    "# !pip install llama-index-vector-stores-chroma"
   ]
  },
  {
   "cell_type": "code",
   "execution_count": 13,
   "id": "44808855-9236-4c44-9ea0-8e3eaeb3839e",
   "metadata": {},
   "outputs": [],
   "source": [
    "import os \n",
    "if os.environ.get('CUR_ENV_IS_STUDENT','false')=='true':\n",
    "    __import__('pysqlite3')\n",
    "    import sys\n",
    "    sys.modules['sqlite3']= sys.modules.pop('pysqlite3')"
   ]
  },
  {
   "cell_type": "code",
   "execution_count": 14,
   "id": "c8f3299a-c253-4ddb-b047-ad6dcdf8bbf2",
   "metadata": {},
   "outputs": [],
   "source": [
    "import chromadb\n",
    "from chromadb.config import Settings\n",
    "\n",
    "# 创建 Chroma Client\n",
    "# EphemeralClient 在内存创建；如果需要存盘，可以使用 PersistentClient\n",
    "chroma_client = chromadb.EphemeralClient(settings=Settings(allow_reset=True))"
   ]
  },
  {
   "cell_type": "code",
   "execution_count": 15,
   "id": "2888d988-2cb9-41d7-bbbc-368f6b84c906",
   "metadata": {},
   "outputs": [
    {
     "name": "stdout",
     "output_type": "stream",
     "text": [
      "{\n",
      "    \"node\": {\n",
      "        \"id_\": \"0041bf6b-d778-41a3-b675-1a1407d6d658\",\n",
      "        \"embedding\": null,\n",
      "        \"metadata\": {\n",
      "            \"file_path\": \"/home/jovyan/lecture-notes/07-llamaindex/data/llama2-extracted.pdf\",\n",
      "            \"file_name\": \"llama2-extracted.pdf\",\n",
      "            \"file_type\": \"application/pdf\",\n",
      "            \"file_size\": 401338,\n",
      "            \"creation_date\": \"2024-06-14\",\n",
      "            \"last_modified_date\": \"2024-06-14\",\n",
      "            \"total_pages\": 4,\n",
      "            \"source\": \"4\"\n",
      "        },\n",
      "        \"excluded_embed_metadata_keys\": [\n",
      "            \"file_name\",\n",
      "            \"file_type\",\n",
      "            \"file_size\",\n",
      "            \"creation_date\",\n",
      "            \"last_modified_date\",\n",
      "            \"last_accessed_date\"\n",
      "        ],\n",
      "        \"excluded_llm_metadata_keys\": [\n",
      "            \"file_name\",\n",
      "            \"file_type\",\n",
      "            \"file_size\",\n",
      "            \"creation_date\",\n",
      "            \"last_modified_date\",\n",
      "            \"last_accessed_date\"\n",
      "        ],\n",
      "        \"relationships\": {\n",
      "            \"1\": {\n",
      "                \"node_id\": \"27aa0e7b-ad7e-48ef-84f2-fc7176b2fc14\",\n",
      "                \"node_type\": \"4\",\n",
      "                \"metadata\": {\n",
      "                    \"file_path\": \"/home/jovyan/lecture-notes/07-llamaindex/data/llama2-extracted.pdf\",\n",
      "                    \"file_name\": \"llama2-extracted.pdf\",\n",
      "                    \"file_type\": \"application/pdf\",\n",
      "                    \"file_size\": 401338,\n",
      "                    \"creation_date\": \"2024-06-14\",\n",
      "                    \"last_modified_date\": \"2024-06-14\",\n",
      "                    \"total_pages\": 4,\n",
      "                    \"source\": \"4\"\n",
      "                },\n",
      "                \"hash\": \"b29837a2e4d3e1e2b226990cb3eb14138fc66be2a51372a68641272c2095519a\",\n",
      "                \"class_name\": \"RelatedNodeInfo\"\n",
      "            },\n",
      "            \"2\": {\n",
      "                \"node_id\": \"4ff11829-ae73-466a-9ff7-c3268ae485b6\",\n",
      "                \"node_type\": \"1\",\n",
      "                \"metadata\": {\n",
      "                    \"file_path\": \"/home/jovyan/lecture-notes/07-llamaindex/data/llama2-extracted.pdf\",\n",
      "                    \"file_name\": \"llama2-extracted.pdf\",\n",
      "                    \"file_type\": \"application/pdf\",\n",
      "                    \"file_size\": 401338,\n",
      "                    \"creation_date\": \"2024-06-14\",\n",
      "                    \"last_modified_date\": \"2024-06-14\",\n",
      "                    \"total_pages\": 4,\n",
      "                    \"source\": \"4\"\n",
      "                },\n",
      "                \"hash\": \"07108bd9b8afa14b2c31a05dbe825ddf1cf5ca4ddcc8bb87eb57ce03045e7bc7\",\n",
      "                \"class_name\": \"RelatedNodeInfo\"\n",
      "            },\n",
      "            \"3\": {\n",
      "                \"node_id\": \"5bd74633-059d-462e-b87f-5b8303d4fb7c\",\n",
      "                \"node_type\": \"1\",\n",
      "                \"metadata\": {},\n",
      "                \"hash\": \"726b948dfd9e32d525760994bddb61dbfaba8a0d18d12a3e3a4f9504fbc208fd\",\n",
      "                \"class_name\": \"RelatedNodeInfo\"\n",
      "            }\n",
      "        },\n",
      "        \"text\": \"an updated version of Llama 1, trained on a new mix of publicly available data. We also\\nincreased the size of the pretraining corpus by 40%, doubled the context length of the model, and\\nadopted grouped-query attention (Ainslie et al., 2023). We are releasing variants of Llama 2 with\\n7B, 13B, and 70B parameters. We have also trained 34B variants, which we report on in this paper\\nbut are not releasing.§\\n2. Llama 2-Chat, a fine-tuned version of Llama 2 that is optimized for dialogue use cases. We release\\nvariants of this model with 7B, 13B, and 70B parameters as well.\\nWe believe that the open release of LLMs, when done safely, will be a net benefit to society. Like all LLMs,\\nLlama 2 is a new technology that carries potential risks with use (Bender et al., 2021b; Weidinger et al., 2021;\\nSolaiman et al., 2023). Testing conducted to date has been in English and has not — and could not — cover\\nall scenarios. Therefore, before deploying any applications of\",\n",
      "        \"mimetype\": \"text/plain\",\n",
      "        \"start_char_idx\": 752,\n",
      "        \"end_char_idx\": 1714,\n",
      "        \"text_template\": \"{metadata_str}\\n\\n{content}\",\n",
      "        \"metadata_template\": \"{key}: {value}\",\n",
      "        \"metadata_seperator\": \"\\n\",\n",
      "        \"class_name\": \"TextNode\"\n",
      "    },\n",
      "    \"score\": 0.6573636358924372,\n",
      "    \"class_name\": \"NodeWithScore\"\n",
      "}\n",
      "{\n",
      "    \"node\": {\n",
      "        \"id_\": \"e495bef6-126d-4134-9a26-501d83981b1b\",\n",
      "        \"embedding\": null,\n",
      "        \"metadata\": {\n",
      "            \"file_path\": \"/home/jovyan/lecture-notes/07-llamaindex/data/llama2-extracted.pdf\",\n",
      "            \"file_name\": \"llama2-extracted.pdf\",\n",
      "            \"file_type\": \"application/pdf\",\n",
      "            \"file_size\": 401338,\n",
      "            \"creation_date\": \"2024-06-14\",\n",
      "            \"last_modified_date\": \"2024-06-14\",\n",
      "            \"total_pages\": 4,\n",
      "            \"source\": \"1\"\n",
      "        },\n",
      "        \"excluded_embed_metadata_keys\": [\n",
      "            \"file_name\",\n",
      "            \"file_type\",\n",
      "            \"file_size\",\n",
      "            \"creation_date\",\n",
      "            \"last_modified_date\",\n",
      "            \"last_accessed_date\"\n",
      "        ],\n",
      "        \"excluded_llm_metadata_keys\": [\n",
      "            \"file_name\",\n",
      "            \"file_type\",\n",
      "            \"file_size\",\n",
      "            \"creation_date\",\n",
      "            \"last_modified_date\",\n",
      "            \"last_accessed_date\"\n",
      "        ],\n",
      "        \"relationships\": {\n",
      "            \"1\": {\n",
      "                \"node_id\": \"956e1b05-2959-4ab7-be62-3d308805ea6b\",\n",
      "                \"node_type\": \"4\",\n",
      "                \"metadata\": {\n",
      "                    \"file_path\": \"/home/jovyan/lecture-notes/07-llamaindex/data/llama2-extracted.pdf\",\n",
      "                    \"file_name\": \"llama2-extracted.pdf\",\n",
      "                    \"file_type\": \"application/pdf\",\n",
      "                    \"file_size\": 401338,\n",
      "                    \"creation_date\": \"2024-06-14\",\n",
      "                    \"last_modified_date\": \"2024-06-14\",\n",
      "                    \"total_pages\": 4,\n",
      "                    \"source\": \"1\"\n",
      "                },\n",
      "                \"hash\": \"3ebf9b8910125e57c9eea78794c6566c0a85081c97dbf7e83a65e5d791bcda57\",\n",
      "                \"class_name\": \"RelatedNodeInfo\"\n",
      "            },\n",
      "            \"2\": {\n",
      "                \"node_id\": \"4dfc0624-feac-4cca-89fe-e956ac3bf2ca\",\n",
      "                \"node_type\": \"1\",\n",
      "                \"metadata\": {\n",
      "                    \"file_path\": \"/home/jovyan/lecture-notes/07-llamaindex/data/llama2-extracted.pdf\",\n",
      "                    \"file_name\": \"llama2-extracted.pdf\",\n",
      "                    \"file_type\": \"application/pdf\",\n",
      "                    \"file_size\": 401338,\n",
      "                    \"creation_date\": \"2024-06-14\",\n",
      "                    \"last_modified_date\": \"2024-06-14\",\n",
      "                    \"total_pages\": 4,\n",
      "                    \"source\": \"1\"\n",
      "                },\n",
      "                \"hash\": \"bf3806ddee17b6020e00e4e722a57980d0c5fc9f813ff437a756c8dd8f44e52f\",\n",
      "                \"class_name\": \"RelatedNodeInfo\"\n",
      "            },\n",
      "            \"3\": {\n",
      "                \"node_id\": \"d3cd28ca-2d69-40b7-993b-f63263f4de06\",\n",
      "                \"node_type\": \"1\",\n",
      "                \"metadata\": {},\n",
      "                \"hash\": \"fe31f0ee71493cf072edea470642efdc2be2103b9deb19d3706be19e2d1fef9b\",\n",
      "                \"class_name\": \"RelatedNodeInfo\"\n",
      "            }\n",
      "        },\n",
      "        \"text\": \"Koura Marie-Anne Lachaux Thibaut Lavril Jenya Lee Diana Liskovich\\nYinghai Lu Yuning Mao Xavier Martinet Todor Mihaylov Pushkar Mishra\\nIgor Molybog Yixin Nie Andrew Poulton Jeremy Reizenstein Rashi Rungta Kalyan Saladi\\nAlan Schelten Ruan Silva Eric Michael Smith Ranjan Subramanian Xiaoqing Ellen Tan Binh Tang\\nRoss Taylor Adina Williams Jian Xiang Kuan Puxin Xu Zheng Yan Iliyan Zarov Yuchen Zhang\\nAngela Fan Melanie Kambadur Sharan Narang Aurelien Rodriguez Robert Stojnic\\nSergey Edunov\\nThomas Scialom∗\\nGenAI, Meta\\nAbstract\\nIn this work, we develop and release Llama 2, a collection of pretrained and fine-tuned\\nlarge language models (LLMs) ranging in scale from 7 billion to 70 billion parameters.\\nOur fine-tuned LLMs, called Llama 2-Chat, are optimized for dialogue use cases. Our\\nmodels outperform open-source chat models on most benchmarks we tested, and based on\\nour human evaluations for helpfulness and safety, may be a suitable substitute for\",\n",
      "        \"mimetype\": \"text/plain\",\n",
      "        \"start_char_idx\": 513,\n",
      "        \"end_char_idx\": 1464,\n",
      "        \"text_template\": \"{metadata_str}\\n\\n{content}\",\n",
      "        \"metadata_template\": \"{key}: {value}\",\n",
      "        \"metadata_seperator\": \"\\n\",\n",
      "        \"class_name\": \"TextNode\"\n",
      "    },\n",
      "    \"score\": 0.6557350224549295,\n",
      "    \"class_name\": \"NodeWithScore\"\n",
      "}\n"
     ]
    }
   ],
   "source": [
    "from llama_index.vector_stores.chroma import ChromaVectorStore\n",
    "from llama_index.core import VectorStoreIndex\n",
    "from llama_index.core import StorageContext\n",
    "\n",
    "chroma_client.reset() # 为演示方便，实际不用每次 reset\n",
    "chroma_collection = chroma_client.create_collection(\"demo\")\n",
    "\n",
    "# 创建 Vector Store\n",
    "vector_store = ChromaVectorStore(chroma_collection=chroma_collection)\n",
    "\n",
    "# Storage Context 是 Vector Store 的存储容器，用于存储文本、index、向量等数据\n",
    "storage_context = StorageContext.from_defaults(vector_store=vector_store)\n",
    "\n",
    "# 创建 index：通过 Storage Context 关联到自定义的 Vector Store\n",
    "index = VectorStoreIndex(nodes, storage_context=storage_context)\n",
    "\n",
    "# 获取 retriever\n",
    "vector_retriever = index.as_retriever(similarity_top_k=2)\n",
    "\n",
    "# 检索\n",
    "results = vector_retriever.retrieve(\"Llama2有多少参数\")\n",
    "\n",
    "show_list_obj(results)"
   ]
  },
  {
   "cell_type": "markdown",
   "id": "9913e5d5-7c84-4833-b21d-2fe440749a63",
   "metadata": {},
   "source": [
    "### 5.2、更多索引与检索方式\n",
    "\n",
    "LlamaIndex 内置了丰富的检索机制，例如：\n",
    "\n",
    "- 关键字检索\n",
    "    - [`BM25Retriever`](https://docs.llamaindex.ai/en/stable/api_reference/retrievers/bm25/)：基于 tokenizer 实现的 BM25 经典检索算法\n",
    "    - [`KeywordTableGPTRetriever`](https://docs.llamaindex.ai/en/stable/api_reference/retrievers/keyword/#llama_index.core.indices.keyword_table.retrievers.KeywordTableGPTRetriever)：使用 GPT 提取检索关键字\n",
    "    - [`KeywordTableSimpleRetriever`](https://docs.llamaindex.ai/en/stable/api_reference/retrievers/keyword/#llama_index.core.indices.keyword_table.retrievers.KeywordTableSimpleRetriever)：使用正则表达式提取检索关键字\n",
    "    - [`KeywordTableRAKERetriever`](https://docs.llamaindex.ai/en/stable/api_reference/retrievers/keyword/#llama_index.core.indices.keyword_table.retrievers.KeywordTableRAKERetriever)：使用[`RAKE`](https://pypi.org/project/rake-nltk/)算法提取检索关键字（有语言限制）\n",
    " \n",
    "- RAG-Fusion [`QueryFusionRetriever`](https://docs.llamaindex.ai/en/stable/api_reference/retrievers/query_fusion/)\n",
    "\n",
    "- 还支持 [KnowledgeGraph](https://docs.llamaindex.ai/en/stable/api_reference/retrievers/knowledge_graph/)、[SQL](https://docs.llamaindex.ai/en/stable/api_reference/retrievers/sql/#llama_index.core.retrievers.SQLRetriever)、[Text-to-SQL](https://docs.llamaindex.ai/en/stable/api_reference/retrievers/sql/#llama_index.core.retrievers.NLSQLRetriever) 等等\n"
   ]
  },
  {
   "cell_type": "markdown",
   "id": "614cdf54-94a8-49db-b731-34fcc394b001",
   "metadata": {},
   "source": [
    "### 5.3、Ingestion Pipeline 自定义数据处理流程\r\n",
    "LlamaIndex 通过 `Transformations` 定义一个数据（`Documents`）的多步处理的流程（Pipeline）。\n",
    "这个 Pipeline 的一个显著特点是，**它的每个子步骤是可以缓存（cache）的**，即如果该子步骤的输入与处理方法不变，重复调用时会直接从缓存中获取结果，而无需重新执行该子步骤，这样即节省时间也会节省 token （如果子步骤涉及大模型调用）。\n"
   ]
  },
  {
   "cell_type": "code",
   "execution_count": 16,
   "id": "67cb4df5-13cf-4813-8e0c-21a241714a4a",
   "metadata": {},
   "outputs": [],
   "source": [
    "import time\n",
    "\n",
    "class Timer:\n",
    "    def __enter__(self):\n",
    "        self.start = time.time()\n",
    "        return self\n",
    "\n",
    "    def __exit__(self, exc_type, exc_val, exc_tb):\n",
    "        self.end = time.time()\n",
    "        self.interval = self.end - self.start\n",
    "        print(f\"耗时 {self.interval*1000} ms\")"
   ]
  },
  {
   "cell_type": "code",
   "execution_count": 17,
   "id": "f9fc3db0-5358-4a8f-9796-ae8c60698bee",
   "metadata": {},
   "outputs": [
    {
     "name": "stderr",
     "output_type": "stream",
     "text": [
      "100%|██████████| 3/3 [00:00<00:00,  5.03it/s]\n",
      "100%|██████████| 5/5 [00:01<00:00,  4.88it/s]\n",
      "100%|██████████| 4/4 [00:00<00:00,  5.35it/s]\n",
      "100%|██████████| 3/3 [00:01<00:00,  2.25it/s]\n"
     ]
    },
    {
     "name": "stdout",
     "output_type": "stream",
     "text": [
      "耗时 9421.632051467896 ms\n",
      "{\n",
      "    \"node\": {\n",
      "        \"id_\": \"5ba8006d-6e04-4fe4-9a5a-9ac2f6a8bafd\",\n",
      "        \"embedding\": null,\n",
      "        \"metadata\": {\n",
      "            \"file_path\": \"/home/jovyan/lecture-notes/07-llamaindex/data/llama2-extracted.pdf\",\n",
      "            \"file_name\": \"llama2-extracted.pdf\",\n",
      "            \"file_type\": \"application/pdf\",\n",
      "            \"file_size\": 401338,\n",
      "            \"creation_date\": \"2024-06-14\",\n",
      "            \"last_modified_date\": \"2024-06-14\",\n",
      "            \"total_pages\": 4,\n",
      "            \"source\": \"1\",\n",
      "            \"document_title\": \"Advancements in Natural Language Processing: Collaborative Efforts in Developing Open Foundation and Fine-Tuned Chat Models, Llama 2, and Improved Safety in Dialogue Systems\"\n",
      "        },\n",
      "        \"excluded_embed_metadata_keys\": [\n",
      "            \"file_name\",\n",
      "            \"file_type\",\n",
      "            \"file_size\",\n",
      "            \"creation_date\",\n",
      "            \"last_modified_date\",\n",
      "            \"last_accessed_date\"\n",
      "        ],\n",
      "        \"excluded_llm_metadata_keys\": [\n",
      "            \"file_name\",\n",
      "            \"file_type\",\n",
      "            \"file_size\",\n",
      "            \"creation_date\",\n",
      "            \"last_modified_date\",\n",
      "            \"last_accessed_date\"\n",
      "        ],\n",
      "        \"relationships\": {\n",
      "            \"1\": {\n",
      "                \"node_id\": \"f56cebf0-1691-425a-852f-6342d2403aed\",\n",
      "                \"node_type\": \"4\",\n",
      "                \"metadata\": {\n",
      "                    \"file_path\": \"/home/jovyan/lecture-notes/07-llamaindex/data/llama2-extracted.pdf\",\n",
      "                    \"file_name\": \"llama2-extracted.pdf\",\n",
      "                    \"file_type\": \"application/pdf\",\n",
      "                    \"file_size\": 401338,\n",
      "                    \"creation_date\": \"2024-06-14\",\n",
      "                    \"last_modified_date\": \"2024-06-14\",\n",
      "                    \"total_pages\": 4,\n",
      "                    \"source\": \"1\"\n",
      "                },\n",
      "                \"hash\": \"3ebf9b8910125e57c9eea78794c6566c0a85081c97dbf7e83a65e5d791bcda57\",\n",
      "                \"class_name\": \"RelatedNodeInfo\"\n",
      "            },\n",
      "            \"2\": {\n",
      "                \"node_id\": \"bc9aba34-428a-48db-b85c-c1c46130a3b1\",\n",
      "                \"node_type\": \"1\",\n",
      "                \"metadata\": {\n",
      "                    \"file_path\": \"/home/jovyan/lecture-notes/07-llamaindex/data/llama2-extracted.pdf\",\n",
      "                    \"file_name\": \"llama2-extracted.pdf\",\n",
      "                    \"file_type\": \"application/pdf\",\n",
      "                    \"file_size\": 401338,\n",
      "                    \"creation_date\": \"2024-06-14\",\n",
      "                    \"last_modified_date\": \"2024-06-14\",\n",
      "                    \"total_pages\": 4,\n",
      "                    \"source\": \"1\"\n",
      "                },\n",
      "                \"hash\": \"7eb01214bbdd65cc7fd9426d23ffe328ef6b519dcd8d0aaa4390105d13bf4cf2\",\n",
      "                \"class_name\": \"RelatedNodeInfo\"\n",
      "            },\n",
      "            \"3\": {\n",
      "                \"node_id\": \"4a994164-a76d-4d11-9dc0-d4e130e3cb26\",\n",
      "                \"node_type\": \"1\",\n",
      "                \"metadata\": {},\n",
      "                \"hash\": \"8ef64d99de0d88702a6123c2b128c89a8c9e8931e59e7b5af4872b6db9f1b85c\",\n",
      "                \"class_name\": \"RelatedNodeInfo\"\n",
      "            }\n",
      "        },\n",
      "        \"text\": \"Kuan Puxin Xu Zheng Yan Iliyan Zarov Yuchen Zhang\\nAngela Fan Melanie Kambadur Sharan Narang Aurelien Rodriguez Robert Stojnic\\nSergey Edunov\\nThomas Scialom∗\\nGenAI, Meta\\nAbstract\\nIn this work, we develop and release Llama 2, a collection of pretrained and fine-tuned\\nlarge language models (LLMs) ranging in scale from 7 billion to 70 billion parameters.\\nOur fine-tuned LLMs, called Llama 2-Chat, are optimized for dialogue use cases. Our\\nmodels outperform open-source chat models on most benchmarks we tested, and based on\\nour human evaluations for helpfulness and safety, may be a suitable substitute for closed-\\nsource models. We provide a detailed description of our approach to fine-tuning and safety\\nimprovements of Llama 2-Chat in order to enable the community to build on our work and\\ncontribute to the responsible development of LLMs.\\n∗Equal contribution, corresponding authors: {tscialom, htouvron}@meta.com\\n†Second author\\nContributions for all the authors can be found in Section A.1.\",\n",
      "        \"mimetype\": \"text/plain\",\n",
      "        \"start_char_idx\": 861,\n",
      "        \"end_char_idx\": 1853,\n",
      "        \"text_template\": \"[Excerpt from document]\\n{metadata_str}\\nExcerpt:\\n-----\\n{content}\\n-----\\n\",\n",
      "        \"metadata_template\": \"{key}: {value}\",\n",
      "        \"metadata_seperator\": \"\\n\",\n",
      "        \"class_name\": \"TextNode\"\n",
      "    },\n",
      "    \"score\": 0.6399676567167574,\n",
      "    \"class_name\": \"NodeWithScore\"\n",
      "}\n"
     ]
    }
   ],
   "source": [
    "from llama_index.vector_stores.chroma import ChromaVectorStore\n",
    "from llama_index.core import StorageContext\n",
    "from llama_index.embeddings.openai import OpenAIEmbedding\n",
    "from llama_index.core.node_parser import SentenceSplitter\n",
    "from llama_index.core.extractors import TitleExtractor\n",
    "from llama_index.core.ingestion import IngestionPipeline\n",
    "from llama_index.core import VectorStoreIndex\n",
    "from llama_index.readers.file import PyMuPDFReader\n",
    "import nest_asyncio\n",
    "nest_asyncio.apply() # 只在Jupyter笔记环境中需要此操作，否则会报错\n",
    "\n",
    "chroma_client.reset() # 为演示方便，实际不用每次 reset\n",
    "chroma_collection = chroma_client.create_collection(\"ingestion_demo\")\n",
    "\n",
    "# 创建 Vector Store\n",
    "vector_store = ChromaVectorStore(chroma_collection=chroma_collection)\n",
    "\n",
    "pipeline = IngestionPipeline(\n",
    "    transformations=[\n",
    "        SentenceSplitter(chunk_size=300, chunk_overlap=0), # 按句子切分\n",
    "        TitleExtractor(), # 利用 LLM 对文本生成标题\n",
    "        OpenAIEmbedding(), # 将文本向量化\n",
    "    ],\n",
    "    vector_store=vector_store,\n",
    ")\n",
    "\n",
    "documents = SimpleDirectoryReader(\n",
    "    \"./data\", \n",
    "    required_exts=[\".pdf\"],\n",
    "    file_extractor={\".pdf\": PyMuPDFReader()}\n",
    ").load_data()\n",
    "\n",
    "# 计时\n",
    "with Timer():\n",
    "    # Ingest directly into a vector db\n",
    "    pipeline.run(documents=documents)\n",
    "\n",
    "# 创建索引\n",
    "index = VectorStoreIndex.from_vector_store(vector_store)\n",
    "\n",
    "# 获取 retriever\n",
    "vector_retriever = index.as_retriever(similarity_top_k=1)\n",
    "\n",
    "# 检索\n",
    "results = vector_retriever.retrieve(\"Llama2有多少参数\")\n",
    "\n",
    "show_list_obj(results[:1])"
   ]
  },
  {
   "cell_type": "markdown",
   "id": "bae7c552-f195-42b3-b71b-b5fe015cfbdb",
   "metadata": {},
   "source": [
    "本地保存 `IngestionPipeline` 的缓存"
   ]
  },
  {
   "cell_type": "code",
   "execution_count": 18,
   "id": "a64cc297-57a5-4430-a0b5-b4caa46f58ed",
   "metadata": {},
   "outputs": [],
   "source": [
    "pipeline.persist(\"./pipeline_storage\")"
   ]
  },
  {
   "cell_type": "code",
   "execution_count": 19,
   "id": "cf87b939-643a-4129-bea4-d00f5772d0d9",
   "metadata": {},
   "outputs": [
    {
     "name": "stdout",
     "output_type": "stream",
     "text": [
      "耗时 37.158966064453125 ms\n"
     ]
    }
   ],
   "source": [
    "new_pipeline = IngestionPipeline(\n",
    "    transformations=[\n",
    "        SentenceSplitter(chunk_size=300, chunk_overlap=0),\n",
    "        TitleExtractor(),\n",
    "        OpenAIEmbedding()\n",
    "    ],\n",
    ")\n",
    "\n",
    "# 加载缓存\n",
    "new_pipeline.load(\"./pipeline_storage\")\n",
    "\n",
    "with Timer():\n",
    "    nodes = new_pipeline.run(documents=documents)"
   ]
  },
  {
   "cell_type": "markdown",
   "id": "87ec928d-fe8b-49b2-85c1-febf16905203",
   "metadata": {},
   "source": [
    "此外，也可以用远程的 Redis 或 MongoDB 等存储 `IngestionPipeline` 的缓存，具体参考官方文档：[Remote Cache Management](https://docs.llamaindex.ai/en/stable/module_guides/loading/ingestion_pipeline/#remote-cache-management)。\n",
    "\n",
    "`IngestionPipeline` 也支持异步和并发调用，请参考官方文档：[Async Support](https://docs.llamaindex.ai/en/stable/module_guides/loading/ingestion_pipeline/#async-support)、[Parallel Processing](https://docs.llamaindex.ai/en/stable/module_guides/loading/ingestion_pipeline/#parallel-processing)。"
   ]
  },
  {
   "cell_type": "markdown",
   "id": "af53e99b-2ab5-4520-ba96-4a9979a94480",
   "metadata": {},
   "source": [
    "### 5.4、检索后处理"
   ]
  },
  {
   "cell_type": "markdown",
   "id": "13c53c7c-9077-42bc-a5c0-832688b352b8",
   "metadata": {},
   "source": [
    "LlamaIndex 的 `Node Postprocessors` 提供了一系列检索后处理模块。\n",
    "\n",
    "例如：我们可以用不同模型对检索后的 `Nodes` 做重排序"
   ]
  },
  {
   "cell_type": "code",
   "execution_count": 23,
   "id": "7176f29c-be6b-491c-b2e8-6e604ad201b4",
   "metadata": {},
   "outputs": [
    {
     "name": "stdout",
     "output_type": "stream",
     "text": [
      "[0] There have been public releases of pretrained LLMs\n",
      "(such as BLOOM (Scao et al., 2022), LLaMa-1 (Touvron et al., 2023), and Falcon (Penedo et al., 2023)) that\n",
      "match the performance of closed pretrained competitors like GPT-3 (Brown et al., 2020) and Chinchilla\n",
      "(Hoffmann et al., 2022), but none of these models are suitable substitutes for closed “product” LLMs, such\n",
      "as ChatGPT, BARD, and Claude. These closed product LLMs are heavily fine-tuned to align with human\n",
      "preferences, which greatly enhances their usability and safety. This step can require significant costs in\n",
      "compute and human annotation, and is often not transparent or easily reproducible, limiting progress within\n",
      "the community to advance AI alignment research.\n",
      "In this work, we develop and release Llama 2, a family of pretrained and fine-tuned LLMs, Llama 2 and\n",
      "Llama 2-Chat, at scales up to 70B parameters.\n",
      "[1] Kuan Puxin Xu Zheng Yan Iliyan Zarov Yuchen Zhang\n",
      "Angela Fan Melanie Kambadur Sharan Narang Aurelien Rodriguez Robert Stojnic\n",
      "Sergey Edunov\n",
      "Thomas Scialom∗\n",
      "GenAI, Meta\n",
      "Abstract\n",
      "In this work, we develop and release Llama 2, a collection of pretrained and fine-tuned\n",
      "large language models (LLMs) ranging in scale from 7 billion to 70 billion parameters.\n",
      "Our fine-tuned LLMs, called Llama 2-Chat, are optimized for dialogue use cases. Our\n",
      "models outperform open-source chat models on most benchmarks we tested, and based on\n",
      "our human evaluations for helpfulness and safety, may be a suitable substitute for closed-\n",
      "source models. We provide a detailed description of our approach to fine-tuning and safety\n",
      "improvements of Llama 2-Chat in order to enable the community to build on our work and\n",
      "contribute to the responsible development of LLMs.\n",
      "∗Equal contribution, corresponding authors: {tscialom, htouvron}@meta.com\n",
      "†Second author\n",
      "Contributions for all the authors can be found in Section A.1.\n",
      "[2] We have also trained 34B variants, which we report on in this paper\n",
      "but are not releasing.§\n",
      "2. Llama 2-Chat, a fine-tuned version of Llama 2 that is optimized for dialogue use cases. We release\n",
      "variants of this model with 7B, 13B, and 70B parameters as well.\n",
      "We believe that the open release of LLMs, when done safely, will be a net benefit to society. Like all LLMs,\n",
      "Llama 2 is a new technology that carries potential risks with use (Bender et al., 2021b; Weidinger et al., 2021;\n",
      "Solaiman et al., 2023). Testing conducted to date has been in English and has not — and could not — cover\n",
      "all scenarios. Therefore, before deploying any applications of Llama 2-Chat, developers should perform\n",
      "safety testing and tuning tailored to their specific applications of the model. We provide a responsible use\n",
      "guide¶ and code examples‖ to facilitate the safe deployment of Llama 2 and Llama 2-Chat. More details of\n",
      "our responsible release strategy can be found in Section 5.3.\n",
      "[3] Figure 3: Safety human evaluation results for Llama 2-Chat compared to other open-source and closed-\n",
      "source models. Human raters judged model generations for safety violations across ~2,000 adversarial\n",
      "prompts consisting of both single and multi-turn prompts. More details can be found in Section 4.4. It is\n",
      "important to caveat these safety results with the inherent bias of LLM evaluations due to limitations of the\n",
      "prompt set, subjectivity of the review guidelines, and subjectivity of individual raters. Additionally, these\n",
      "safety evaluations are performed using content standards that are likely to be biased towards the Llama\n",
      "2-Chat models.\n",
      "We are releasing the following models to the general public for research and commercial use‡:\n",
      "1. Llama 2, an updated version of Llama 1, trained on a new mix of publicly available data. We also\n",
      "increased the size of the pretraining corpus by 40%, doubled the context length of the model, and\n",
      "adopted grouped-query attention (Ainslie et al., 2023). We are releasing variants of Llama 2 with\n",
      "7B, 13B, and 70B parameters.\n",
      "[4] . . . . . . . . . . .\n",
      "23\n",
      "4.3\n",
      "Red Teaming . . . . . . . . . . . . . . . . . . . . . . . . . . . . . . . . . . . . . . . . . . . . . . .\n",
      "28\n",
      "4.4\n",
      "Safety Evaluation of Llama 2-Chat . . . . . . . . . . . . . . . . . . . . . . . . . . . . . . . . . .\n",
      "29\n",
      "5\n",
      "Discussion\n",
      "32\n",
      "5.1\n",
      "Learnings and Observations . . . . . . . . . . . . . . . . . . . .\n"
     ]
    }
   ],
   "source": [
    "# 获取 retriever\n",
    "vector_retriever = index.as_retriever(similarity_top_k=5)\n",
    "\n",
    "# 检索\n",
    "nodes = vector_retriever.retrieve(\"Llama2 能商用吗?\")\n",
    "\n",
    "for i, node in enumerate(nodes):\n",
    "    print(f\"[{i}] {node.text}\")"
   ]
  },
  {
   "cell_type": "markdown",
   "id": "8db88970-ac74-4942-b03a-5260ff1885a6",
   "metadata": {},
   "source": [
    "<div class=\"alert alert-danger\">\n",
    "以下代码不要在服务器上运行，会死机！<br />\n",
    "可下载左侧 rag_demo.py 的完整例子在自己本地运行。\n",
    "</div>"
   ]
  },
  {
   "cell_type": "code",
   "execution_count": 24,
   "id": "200d077d-763c-40e1-9c01-3b49267cd667",
   "metadata": {},
   "outputs": [
    {
     "name": "stdout",
     "output_type": "stream",
     "text": [
      "[0] Figure 3: Safety human evaluation results for Llama 2-Chat compared to other open-source and closed-\n",
      "source models. Human raters judged model generations for safety violations across ~2,000 adversarial\n",
      "prompts consisting of both single and multi-turn prompts. More details can be found in Section 4.4. It is\n",
      "important to caveat these safety results with the inherent bias of LLM evaluations due to limitations of the\n",
      "prompt set, subjectivity of the review guidelines, and subjectivity of individual raters. Additionally, these\n",
      "safety evaluations are performed using content standards that are likely to be biased towards the Llama\n",
      "2-Chat models.\n",
      "We are releasing the following models to the general public for research and commercial use‡:\n",
      "1. Llama 2, an updated version of Llama 1, trained on a new mix of publicly available data. We also\n",
      "increased the size of the pretraining corpus by 40%, doubled the context length of the model, and\n",
      "adopted grouped-query attention (Ainslie et al., 2023). We are releasing variants of Llama 2 with\n",
      "7B, 13B, and 70B parameters.\n",
      "[1] We have also trained 34B variants, which we report on in this paper\n",
      "but are not releasing.§\n",
      "2. Llama 2-Chat, a fine-tuned version of Llama 2 that is optimized for dialogue use cases. We release\n",
      "variants of this model with 7B, 13B, and 70B parameters as well.\n",
      "We believe that the open release of LLMs, when done safely, will be a net benefit to society. Like all LLMs,\n",
      "Llama 2 is a new technology that carries potential risks with use (Bender et al., 2021b; Weidinger et al., 2021;\n",
      "Solaiman et al., 2023). Testing conducted to date has been in English and has not — and could not — cover\n",
      "all scenarios. Therefore, before deploying any applications of Llama 2-Chat, developers should perform\n",
      "safety testing and tuning tailored to their specific applications of the model. We provide a responsible use\n",
      "guide¶ and code examples‖ to facilitate the safe deployment of Llama 2 and Llama 2-Chat. More details of\n",
      "our responsible release strategy can be found in Section 5.3.\n"
     ]
    }
   ],
   "source": [
    "from llama_index.core.postprocessor import SentenceTransformerRerank\n",
    "\n",
    "# 检索后排序模型\n",
    "postprocessor = SentenceTransformerRerank(\n",
    "    model=\"BAAI/bge-reranker-large\", top_n=2\n",
    ")\n",
    "\n",
    "nodes = postprocessor.postprocess_nodes(nodes, query_str=\"Llama2 能商用吗?\")\n",
    "\n",
    "for i, node in enumerate(nodes):\n",
    "    print(f\"[{i}] {node.text}\")"
   ]
  },
  {
   "cell_type": "markdown",
   "id": "69ca41ea-3112-491a-a1a1-5ec8db295b61",
   "metadata": {},
   "source": [
    "更多的 Rerank 及其它后处理方法，参考官方文档：[Node Postprocessor Modules](https://docs.llamaindex.ai/en/stable/module_guides/querying/node_postprocessors/node_postprocessors/)"
   ]
  },
  {
   "cell_type": "markdown",
   "id": "392d8d69-cd42-445c-a0cd-0dd7c66d07bc",
   "metadata": {},
   "source": [
    "## 6、生成回复（QA & Chat）"
   ]
  },
  {
   "cell_type": "markdown",
   "id": "7d4248c1-602c-4df6-bd6a-72e994faf1ed",
   "metadata": {},
   "source": [
    "### 6.1、单轮问答（Query Engine）"
   ]
  },
  {
   "cell_type": "code",
   "execution_count": 27,
   "id": "261d35c3-8b54-4840-ab88-c04b348b0fb7",
   "metadata": {},
   "outputs": [
    {
     "name": "stdout",
     "output_type": "stream",
     "text": [
      "Llama 2 模型有 7B、13B 和 70B 参数。\n"
     ]
    }
   ],
   "source": [
    "qa_engine = index.as_query_engine()\n",
    "response = qa_engine.query(\"Llama2 有多少参数?\")\n",
    "\n",
    "print(response)"
   ]
  },
  {
   "cell_type": "markdown",
   "id": "44d55521-5b67-4c26-a8de-440d2e1046a7",
   "metadata": {},
   "source": [
    "#### 流式输出"
   ]
  },
  {
   "cell_type": "code",
   "execution_count": 28,
   "id": "1817400e-9311-4161-89e4-507267862524",
   "metadata": {},
   "outputs": [
    {
     "name": "stdout",
     "output_type": "stream",
     "text": [
      "Llama 2 模型有 7B, 13B, 和 70B 参数。"
     ]
    }
   ],
   "source": [
    "qa_engine = index.as_query_engine(streaming=True)\n",
    "response = qa_engine.query(\"Llama2 有多少参数?\")\n",
    "response.print_response_stream()"
   ]
  },
  {
   "cell_type": "markdown",
   "id": "1cf53205-beb2-4571-81aa-c5f8e12142f5",
   "metadata": {},
   "source": [
    "### 6.2、多轮对话（Chat Engine）"
   ]
  },
  {
   "cell_type": "code",
   "execution_count": 29,
   "id": "81a73a48-469e-4d40-adf3-e0e5ec44305a",
   "metadata": {},
   "outputs": [
    {
     "name": "stdout",
     "output_type": "stream",
     "text": [
      "Llama2 模型有 7B, 13B 和 70B 参数。\n"
     ]
    }
   ],
   "source": [
    "chat_engine = index.as_chat_engine()\n",
    "response = chat_engine.chat(\"Llama2 有多少参数?\")\n",
    "print(response)"
   ]
  },
  {
   "cell_type": "code",
   "execution_count": 32,
   "id": "712c8c71-6420-4c6f-821c-1bd1c31dc8bc",
   "metadata": {},
   "outputs": [
    {
     "name": "stdout",
     "output_type": "stream",
     "text": [
      "The maximum number of parameters in the Llama2 model is 70 billion.\n"
     ]
    }
   ],
   "source": [
    "response = chat_engine.chat(\"How many at most?\")\n",
    "print(response)"
   ]
  },
  {
   "cell_type": "markdown",
   "id": "3094d188-2241-4995-9704-1d2aeb878e1e",
   "metadata": {},
   "source": [
    "#### 流式输出"
   ]
  },
  {
   "cell_type": "code",
   "execution_count": 33,
   "id": "bf33effa-ad36-4eea-b1d1-926ca5cc8dff",
   "metadata": {},
   "outputs": [
    {
     "name": "stdout",
     "output_type": "stream",
     "text": [
      "Llama 2有70亿到700亿个参数。"
     ]
    }
   ],
   "source": [
    "chat_engine = index.as_chat_engine()\n",
    "streaming_response = chat_engine.stream_chat(\"Llama 2有多少参数?\")\n",
    "for token in streaming_response.response_gen:\n",
    "    print(token, end=\"\")"
   ]
  },
  {
   "cell_type": "markdown",
   "id": "d7eb76fa-e4ba-4c47-9785-53eadddf478e",
   "metadata": {},
   "source": [
    "## 7、底层接口：Prompt、LLM 与 Embedding"
   ]
  },
  {
   "cell_type": "markdown",
   "id": "da0cce84-9f79-41ef-a6c4-caaeb70d029e",
   "metadata": {},
   "source": [
    "### 7.1、Prompt 模板\n",
    "\n",
    "#### `PromptTemplate` 定义提示词模板"
   ]
  },
  {
   "cell_type": "code",
   "execution_count": 34,
   "id": "41358d83-4fcb-430c-9c2e-c1ac0839cbfe",
   "metadata": {},
   "outputs": [
    {
     "data": {
      "text/plain": [
       "'写一个关于小明的笑话'"
      ]
     },
     "execution_count": 34,
     "metadata": {},
     "output_type": "execute_result"
    }
   ],
   "source": [
    "from llama_index.core import PromptTemplate\n",
    "\n",
    "prompt = PromptTemplate(\"写一个关于{topic}的笑话\")\n",
    "\n",
    "prompt.format(topic=\"小明\")"
   ]
  },
  {
   "cell_type": "markdown",
   "id": "a4a94232-e8d5-4bf2-8751-8851d924fcee",
   "metadata": {},
   "source": [
    "#### `ChatPromptTemplate` 定义多轮消息模板"
   ]
  },
  {
   "cell_type": "code",
   "execution_count": 35,
   "id": "edb05592-835f-4cb2-bfa0-862796c36fdf",
   "metadata": {},
   "outputs": [
    {
     "name": "stdout",
     "output_type": "stream",
     "text": [
      "system: 你叫瓜瓜，你必须根据用户提供的上下文回答问题。\n",
      "user: 已知上下文：\n",
      "这是一个测试\n",
      "\n",
      "问题：这是什么\n",
      "assistant: \n"
     ]
    }
   ],
   "source": [
    "from llama_index.core.llms import ChatMessage, MessageRole\n",
    "from llama_index.core import ChatPromptTemplate\n",
    "\n",
    "chat_text_qa_msgs = [\n",
    "    ChatMessage(\n",
    "        role=MessageRole.SYSTEM,\n",
    "        content=\"你叫{name}，你必须根据用户提供的上下文回答问题。\",\n",
    "    ),\n",
    "    ChatMessage(\n",
    "        role=MessageRole.USER, \n",
    "        content=(\n",
    "            \"已知上下文：\\n\" \\\n",
    "            \"{context}\\n\\n\" \\\n",
    "            \"问题：{question}\"\n",
    "        )\n",
    "    ),\n",
    "]\n",
    "text_qa_template = ChatPromptTemplate(chat_text_qa_msgs)\n",
    "\n",
    "print(\n",
    "    text_qa_template.format(\n",
    "        name=\"瓜瓜\",\n",
    "        context=\"这是一个测试\",\n",
    "        question=\"这是什么\"\n",
    "    )\n",
    ")"
   ]
  },
  {
   "cell_type": "markdown",
   "id": "c98931d9-f411-4433-9900-649f74a40b6e",
   "metadata": {},
   "source": [
    "### 7.2、语言模型"
   ]
  },
  {
   "cell_type": "code",
   "execution_count": 36,
   "id": "1febbfc2-06c1-4692-9ac1-8843e5554098",
   "metadata": {},
   "outputs": [],
   "source": [
    "from llama_index.llms.openai import OpenAI\n",
    "\n",
    "llm = OpenAI(temperature=0, model=\"gpt-4o\")"
   ]
  },
  {
   "cell_type": "code",
   "execution_count": 37,
   "id": "0c0d3842-32ff-4510-9853-47e7282b56e6",
   "metadata": {},
   "outputs": [
    {
     "name": "stdout",
     "output_type": "stream",
     "text": [
      "好的，以下是一个关于小明的笑话：\n",
      "\n",
      "小明的老师在课堂上问道：“同学们，如果地球停止转动会发生什么？”\n",
      "\n",
      "小明立刻举手回答：“老师，那我们就会迟到！”\n",
      "\n",
      "老师疑惑地问：“为什么会迟到呢？”\n",
      "\n",
      "小明自信满满地说：“因为我们都在等地球转回来呀！”\n",
      "\n",
      "全班同学听了都哈哈大笑，老师也忍不住笑了起来。\n"
     ]
    }
   ],
   "source": [
    "response = llm.complete(prompt.format(topic=\"小明\"))\n",
    "\n",
    "print(response.text)"
   ]
  },
  {
   "cell_type": "code",
   "execution_count": 38,
   "id": "d0cbe1cc-9dfc-4274-8cdd-b4dd6d3eb5bb",
   "metadata": {},
   "outputs": [
    {
     "name": "stdout",
     "output_type": "stream",
     "text": [
      "我是瓜瓜，我们正在进行一个测试。\n"
     ]
    }
   ],
   "source": [
    "response = llm.complete(\n",
    "    text_qa_template.format(\n",
    "        name=\"瓜瓜\",\n",
    "        context=\"这是一个测试\",\n",
    "        question=\"你是谁，我们在干嘛\"\n",
    "    )\n",
    ")\n",
    "\n",
    "print(response.text)"
   ]
  },
  {
   "cell_type": "markdown",
   "id": "2f49f6da-d220-4c36-b697-e3b525902af7",
   "metadata": {},
   "source": [
    "#### 设置全局使用的语言模型"
   ]
  },
  {
   "cell_type": "code",
   "execution_count": 39,
   "id": "94943bec-563c-44b5-80bb-9c0a7c05382c",
   "metadata": {},
   "outputs": [],
   "source": [
    "from llama_index.core import Settings\n",
    "\n",
    "Settings.llm = OpenAI(temperature=0, model=\"gpt-4o\")"
   ]
  },
  {
   "cell_type": "markdown",
   "id": "63dd7b76-2594-4c39-8e81-33e3c985df38",
   "metadata": {},
   "source": [
    "除 OpenAI 外，LlamaIndex 已集成多个大语言模型，包括云服务 API 和本地部署 API，详见官方文档：[Available LLM integrations](https://docs.llamaindex.ai/en/stable/module_guides/models/llms/modules/)"
   ]
  },
  {
   "cell_type": "markdown",
   "id": "b110fc0b-ec6c-445b-a3c2-3ddef41d9589",
   "metadata": {},
   "source": [
    "### 7.3、Embedding 模型"
   ]
  },
  {
   "cell_type": "code",
   "execution_count": 40,
   "id": "c5be1257-eb1a-4e2d-bad9-2cd002841093",
   "metadata": {},
   "outputs": [],
   "source": [
    "from llama_index.embeddings.openai import OpenAIEmbedding\n",
    "from llama_index.core import Settings\n",
    "\n",
    "# 全局设定\n",
    "Settings.embed_model = OpenAIEmbedding(model=\"text-embedding-3-small\", dimensions=512)"
   ]
  },
  {
   "cell_type": "markdown",
   "id": "eb025ce6-c065-4cf2-9e9d-5a01f04c26ee",
   "metadata": {},
   "source": [
    "LlamaIndex 同样集成了多种 Embedding 模型，包括云服务 API 和开源模型（HuggingFace）等，详见[官方文档](https://docs.llamaindex.ai/en/stable/module_guides/models/embeddings/)。"
   ]
  },
  {
   "cell_type": "markdown",
   "id": "be91aa7d-6f3a-4387-859c-c7357d7c5d15",
   "metadata": {},
   "source": [
    "## 8、基于 LlamaIndex 实现一个功能较完整的 RAG 系统"
   ]
  },
  {
   "cell_type": "markdown",
   "id": "e9a1b844-605e-4be2-9cae-2e9e56e46b40",
   "metadata": {},
   "source": [
    "功能要求：\n",
    "\n",
    "- 加载指定目录的文件\n",
    "- 支持 RAG-Fusion\n",
    "- 使用 ChromaDB 向量数据库，并持久化到本地\n",
    "- 支持检索后排序\n",
    "- 支持多轮对话"
   ]
  },
  {
   "cell_type": "markdown",
   "id": "5ff7c710-cd17-4af7-9fbb-179dd211c773",
   "metadata": {},
   "source": [
    "<div class=\"alert alert-danger\">\n",
    "以下代码不要在服务器上运行，会死机！可下载左侧 rag_demo.py 在自己本地运行。\n",
    "</div>"
   ]
  },
  {
   "cell_type": "code",
   "execution_count": 1,
   "id": "90348baf-3a5e-4cc4-968d-e90f9d315495",
   "metadata": {},
   "outputs": [],
   "source": [
    "import chromadb\n",
    " \n",
    "# 创建 ChromaDB 向量数据库，并持久化到本地\n",
    "chroma_client = chromadb.PersistentClient(path=\"./chroma_db\")"
   ]
  },
  {
   "cell_type": "code",
   "execution_count": 2,
   "id": "cf485f1b-7da4-412e-a121-a7e6b5f3ece9",
   "metadata": {},
   "outputs": [
    {
     "name": "stderr",
     "output_type": "stream",
     "text": [
      "/opt/conda/lib/python3.11/site-packages/tqdm/auto.py:21: TqdmWarning: IProgress not found. Please update jupyter and ipywidgets. See https://ipywidgets.readthedocs.io/en/stable/user_install.html\n",
      "  from .autonotebook import tqdm as notebook_tqdm\n",
      "/home/jovyan/.local/lib/python3.11/site-packages/huggingface_hub/file_download.py:1132: FutureWarning: `resume_download` is deprecated and will be removed in version 1.0.0. Downloads always resume when possible. If you want to force a new download, use `force_download=True`.\n",
      "  warnings.warn(\n"
     ]
    }
   ],
   "source": [
    "from llama_index.core import VectorStoreIndex, KeywordTableIndex, SimpleDirectoryReader\n",
    "from llama_index.vector_stores.chroma import ChromaVectorStore\n",
    "from llama_index.core.node_parser import SentenceSplitter\n",
    "from llama_index.core.ingestion import IngestionPipeline\n",
    "from llama_index.readers.file import PyMuPDFReader\n",
    "from llama_index.core import Settings\n",
    "from llama_index.core import StorageContext\n",
    "from llama_index.core.postprocessor import SentenceTransformerRerank\n",
    "from llama_index.core.retrievers import QueryFusionRetriever\n",
    "from llama_index.core.query_engine import RetrieverQueryEngine\n",
    "from llama_index.core.chat_engine import CondenseQuestionChatEngine\n",
    "from llama_index.llms.openai import OpenAI\n",
    "from llama_index.embeddings.openai import OpenAIEmbedding\n",
    "import time\n",
    "import nest_asyncio\n",
    "nest_asyncio.apply() # 只在Jupyter笔记环境中需要此操作，否则会报错\n",
    "\n",
    "# 1. 指定全局llm与embedding模型\n",
    "Settings.llm = OpenAI(temperature=0, model=\"gpt-4o\")\n",
    "Settings.embed_model = OpenAIEmbedding(model=\"text-embedding-3-small\", dimensions=512)\n",
    "# 2. 指定全局文档处理的 Ingestion Pipeline\n",
    "Settings.transformations = [SentenceSplitter(chunk_size=300, chunk_overlap=100)]\n",
    "\n",
    "# 3. 加载本地文档\n",
    "documents = SimpleDirectoryReader(\"./data\", file_extractor={\".pdf\": PyMuPDFReader()}).load_data()\n",
    "\n",
    "# 4. 新建 collection\n",
    "collection_name = hex(int(time.time()))\n",
    "chroma_collection = chroma_client.get_or_create_collection(collection_name)\n",
    "\n",
    "# 5. 创建 Vector Store\n",
    "vector_store = ChromaVectorStore(chroma_collection=chroma_collection)\n",
    "# 6. 指定 Vector Store 的 Storage 用于 index\n",
    "storage_context = StorageContext.from_defaults(vector_store=vector_store)\n",
    "index = VectorStoreIndex.from_documents(\n",
    "    documents, storage_context=storage_context\n",
    ")\n",
    "\n",
    "# 7. 定义检索后排序模型\n",
    "reranker = SentenceTransformerRerank(\n",
    "    model=\"BAAI/bge-reranker-large\", top_n=2\n",
    ")\n",
    "\n",
    "# 8. 定义 RAG Fusion 检索器\n",
    "fusion_retriever = QueryFusionRetriever(\n",
    "    [index.as_retriever()],\n",
    "    similarity_top_k=5, # 检索召回 top k 结果\n",
    "    num_queries=3,  # 生成 query 数\n",
    "    use_async=True,\n",
    "    # query_gen_prompt=\"...\",  # 可以自定义 query 生成的 prompt 模板\n",
    ")\n",
    "\n",
    "# 9. 构建单轮 query engine\n",
    "query_engine = RetrieverQueryEngine.from_args(\n",
    "    fusion_retriever,\n",
    "    node_postprocessors=[reranker]\n",
    ")\n",
    "\n",
    "# 10. 对话引擎\n",
    "chat_engine = CondenseQuestionChatEngine.from_defaults(\n",
    "    query_engine=query_engine, \n",
    "    # condense_question_prompt=... # 可以自定义 chat message prompt 模板\n",
    ")"
   ]
  },
  {
   "cell_type": "code",
   "execution_count": 3,
   "id": "0124ef05-eb4b-417b-aa56-7128460162dd",
   "metadata": {},
   "outputs": [
    {
     "name": "stdin",
     "output_type": "stream",
     "text": [
      "User: Llama2有多少参数\n"
     ]
    },
    {
     "name": "stdout",
     "output_type": "stream",
     "text": [
      "AI: Llama 2有7B、13B和70B参数的变体。\n"
     ]
    },
    {
     "name": "stdin",
     "output_type": "stream",
     "text": [
      "User: 最多多少\n"
     ]
    },
    {
     "name": "stdout",
     "output_type": "stream",
     "text": [
      "AI: Llama 2的参数最多是70B。\n"
     ]
    },
    {
     "name": "stdin",
     "output_type": "stream",
     "text": [
      "User: ChatALL在哪下载\n"
     ]
    },
    {
     "name": "stdout",
     "output_type": "stream",
     "text": [
      "AI: ChatALL 可以从 https://github.com/sunner/ChatALL/releases 下载。\n"
     ]
    },
    {
     "name": "stdin",
     "output_type": "stream",
     "text": [
      "User: \n"
     ]
    }
   ],
   "source": [
    "while True:\n",
    "    question=input(\"User:\")\n",
    "    if question.strip() == \"\":\n",
    "        break\n",
    "    response = chat_engine.chat(question)\n",
    "    print(f\"AI: {response}\")"
   ]
  },
  {
   "cell_type": "markdown",
   "id": "b98c98c0-6636-4d71-9156-731e7ca28b6f",
   "metadata": {},
   "source": [
    "## LlamaIndex 的更多功能\n",
    "\n",
    "- 智能体（Agent）开发框架：https://docs.llamaindex.ai/en/stable/module_guides/deploying/agents/\n",
    "- RAG 的评测：https://docs.llamaindex.ai/en/stable/module_guides/evaluating/\n",
    "- 过程监控：https://docs.llamaindex.ai/en/stable/module_guides/observability/\n",
    "\n",
    "以上内容涉及较多背景知识，暂时不在本课展开，相关知识会在后面课程中逐一详细讲解。\n",
    "\n",
    "此外，LlamaIndex 针对生产级的 RAG 系统中遇到的各个方面的细节问题，总结了很多高端技巧（[Advanced Topics](https://docs.llamaindex.ai/en/stable/optimizing/production_rag/)），对实战很有参考价值，非常推荐有能力的同学阅读。"
   ]
  },
  {
   "cell_type": "markdown",
   "id": "0bb48e18-b09b-4492-bd5a-d90e6a323e20",
   "metadata": {},
   "source": [
    "## 作业\n",
    "\n",
    "1. 基于 LlamaIndex 实现一个自己 RAG 系统。\n",
    "2. 查阅 LlamaIndex 文档和网上相关资料，思考如何让第8节中的系统支持关键字与向量的混合检索（选）"
   ]
  }
 ],
 "metadata": {
  "kernelspec": {
   "display_name": "Python 3 (ipykernel)",
   "language": "python",
   "name": "python3"
  },
  "language_info": {
   "codemirror_mode": {
    "name": "ipython",
    "version": 3
   },
   "file_extension": ".py",
   "mimetype": "text/x-python",
   "name": "python",
   "nbconvert_exporter": "python",
   "pygments_lexer": "ipython3",
   "version": "3.11.4"
  }
 },
 "nbformat": 4,
 "nbformat_minor": 5
}
