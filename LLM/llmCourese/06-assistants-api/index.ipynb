{
 "cells": [
  {
   "cell_type": "markdown",
   "metadata": {},
   "source": [
    "# Assistants API\n",
    "\n",
    "## 💡 这节课会带给你\n",
    "\n",
    "1. 原生 API、GPTs 和 Assistants API 的适用场景\n",
    "2. 用 Assistants API 做一个 GPT\n",
    "\n",
    "开始上课！\n"
   ]
  },
  {
   "cell_type": "markdown",
   "metadata": {},
   "source": [
    "## 🎓 这节课怎么学\n",
    "\n",
    "代码能力要求：**中低**，AI/数学基础要求：**无**\n",
    "\n",
    "1. 有编程基础的同学\n",
    "   - 关注代码实现细节、应用场景\n",
    "2. 没有编程基础的同学\n",
    "   - 关注 OpenAI 提供的能力和产品形态，多思考为什么/有什么优缺点\n"
   ]
  },
  {
   "cell_type": "markdown",
   "metadata": {},
   "source": [
    "## 前言\n",
    "\n",
    "### 0.1、从轰动一时的 OpenAI DevDay 说起\n",
    "\n",
    "2023 年 11 月 6 日，OpenAI DevDay 发表了一系列新能力，其中包括：**GPT Store** 和 **Assistants API**\n",
    "\n",
    "<img src=\"dawn_of_gpts.jpg\" width=600px>\n",
    "\n",
    "这一波操作一度被认为是创业公司终结者\n",
    "\n",
    "<img src=\"post.jpg\" width=600px>"
   ]
  },
  {
   "cell_type": "markdown",
   "metadata": {},
   "source": [
    "### 0.2、GPTs 和 Assistants API 本质是降低开发门槛\n",
    "\n",
    "可操控性和易用性之间的权衡与折中：\n",
    "\n",
    "1. 更多技术路线选择：原生 API、GPTs 和 Assistants API\n",
    "2. GPTs 的示范，起到教育客户的作用，有助于打开市场\n",
    "3. 要更大自由度，需要用 Assistants API 开发\n",
    "4. 想极致调优，还得原生 API + RAG\n",
    "5. 国内大模型的 Assistants API，参考 [Minimax](https://www.minimaxi.com/document/guides/Assistants/operate?id=6586b8674da4834fd75906e7)\n"
   ]
  },
  {
   "cell_type": "markdown",
   "metadata": {},
   "source": [
    "### 0.3、Assistants API 的主要能力\n",
    "\n",
    "已有能力：\n",
    "\n",
    "1. 创建和管理 assistant，每个 assistant 有独立的配置\n",
    "2. 支持无限长的多轮对话，对话历史保存在 OpenAI 的服务器上\n",
    "3. 通过自有向量数据库支持基于文件的 RAG\n",
    "4. 支持 Code Interpreter\n",
    "   1. 在沙箱里编写并运行 Python 代码\n",
    "   2. 自我修正代码\n",
    "   3. 可传文件给 Code Interpreter\n",
    "5. 支持 Function Calling\n",
    "6. 支持在线调试的 Playground\n",
    "\n",
    "承诺未来会有的能力：\n",
    "\n",
    "1. 支持 DALL·E\n",
    "2. 支持图片消息\n",
    "3. 支持自定义调整 RAG 的配置项\n",
    "\n",
    "收费：\n",
    "\n",
    "1. 按 token 收费。无论多轮对话，还是 RAG，所有都按实际消耗的 token 收费\n",
    "2. 如果对话历史过多超过大模型上下文窗口，会自动放弃最老的对话消息\n",
    "3. 文件按数据大小和存放时长收费。1 GB **向量存储** 一天收费 0.10 美元\n",
    "4. Code interpreter 跑一次 $0.03\n"
   ]
  },
  {
   "cell_type": "markdown",
   "metadata": {},
   "source": [
    "## 一、GPT Store：创建自己的 GPT\n",
    "\n",
    "<img src=\"create_gpt.png\" width=800px />\n",
    "\n",
    "<img src=\"gpt.png\" width=800px />\n",
    "\n",
    "发布链接：https://chat.openai.com/g/g-iU8hVr4jR-wo-de-demogpt\n"
   ]
  },
  {
   "cell_type": "markdown",
   "metadata": {},
   "source": [
    "## 二、Assistants API\n"
   ]
  },
  {
   "cell_type": "code",
   "execution_count": null,
   "metadata": {},
   "outputs": [],
   "source": [
    "!pip install --upgrade openai"
   ]
  },
  {
   "cell_type": "markdown",
   "metadata": {},
   "source": [
    "### 2.1、创建一个 Assistant\n",
    "\n",
    "可以为每个应用，甚至应用中的每个有对话历史的使用场景，创建一个 assistant。\n",
    "\n",
    "虽然可以用代码创建，也不复杂，例如：\n",
    "\n",
    "```python\n",
    "from openai import OpenAI\n",
    "\n",
    "# 初始化 OpenAI 服务\n",
    "client = OpenAI()\n",
    "\n",
    "# 创建助手\n",
    "assistant = client.beta.assistants.create(\n",
    "    name=\"AGIClass Demo\",\n",
    "    instructions=\"你叫瓜瓜，你是AGI课堂的智能助理。你负责回答与AGI课堂有关的问题。\",\n",
    "    model=\"gpt-4o\",\n",
    ")\n",
    "```\n",
    "\n",
    "但是，更佳做法是，到 [Playground](https://platform.openai.com/playground?mode=assistant) 在线创建，因为：\n",
    "\n",
    "1. 更方便调整\n",
    "2. 更方便测试\n"
   ]
  },
  {
   "cell_type": "code",
   "execution_count": 1,
   "metadata": {},
   "outputs": [
    {
     "name": "stdout",
     "output_type": "stream",
     "text": [
      "asst_WZvmBvQpoV0YMDtSBV3dvC0B\n"
     ]
    }
   ],
   "source": [
    "from openai import OpenAI\n",
    "\n",
    "# 初始化 OpenAI 服务\n",
    "client = OpenAI()\n",
    "\n",
    "# 创建助手\n",
    "assistant = client.beta.assistants.create(\n",
    "    name=\"AGIClass Demo TempLive\",\n",
    "    instructions=\"你叫瓜瓜，你是AGI课堂的智能助理。你负责回答与AGI课堂有关的问题。\",\n",
    "    model=\"gpt-4o\",\n",
    ")\n",
    "\n",
    "print(assistant.id)"
   ]
  },
  {
   "cell_type": "markdown",
   "metadata": {},
   "source": [
    "### 2.2、样例 Assistant 的配置\n",
    "\n",
    "Instructions:\n",
    "\n",
    "```\n",
    "你叫瓜瓜。你是AGI课堂的助手。你只回答跟AI大模型有关的问题。不要跟学生闲聊。每次回答问题前，你要拆解问题并输出一步一步的思考过程。\n",
    "```\n",
    "\n",
    "Functions:\n",
    "\n",
    "```JSON\n",
    "{\n",
    "  \"name\": \"ask_database\",\n",
    "  \"description\": \"Use this function to answer user questions about course schedule. Output should be a fully formed SQL query.\",\n",
    "  \"parameters\": {\n",
    "    \"type\": \"object\",\n",
    "    \"properties\": {\n",
    "      \"query\": {\n",
    "        \"type\": \"string\",\n",
    "        \"description\": \"SQL query extracting info to answer the user's question.\\nSQL should be written using this database schema:\\n\\nCREATE TABLE Courses (\\n\\tid INT AUTO_INCREMENT PRIMARY KEY,\\n\\tcourse_date DATE NOT NULL,\\n\\tstart_time TIME NOT NULL,\\n\\tend_time TIME NOT NULL,\\n\\tcourse_name VARCHAR(255) NOT NULL,\\n\\tinstructor VARCHAR(255) NOT NULL\\n);\\n\\nThe query should be returned in plain text, not in JSON.\\nThe query should only contain grammars supported by SQLite.\"\n",
    "      }\n",
    "    },\n",
    "    \"required\": [\n",
    "      \"query\"\n",
    "    ]\n",
    "  }\n",
    "}\n",
    "```\n"
   ]
  },
  {
   "cell_type": "markdown",
   "metadata": {},
   "source": [
    "上传文件:\n",
    "\n",
    "[《AI ⼤模型全栈⼯程师培养计划》](./agiclass_intro.pdf)\n"
   ]
  },
  {
   "cell_type": "markdown",
   "metadata": {},
   "source": [
    "## 三、代码访问 Assistant\n"
   ]
  },
  {
   "cell_type": "markdown",
   "metadata": {},
   "source": [
    "### 3.1、管理 thread\n",
    "\n",
    "Threads：\n",
    "\n",
    "1. Threads 里保存的是对话历史，即 messages\n",
    "2. 一个 assistant 可以有多个 thread\n",
    "3. 一个 thread 可以有无限条 message\n",
    "4. 一个用户与 assistant 的多轮对话历史可以维护在一个 thread 里\n"
   ]
  },
  {
   "cell_type": "code",
   "execution_count": 2,
   "metadata": {},
   "outputs": [],
   "source": [
    "import json\n",
    "\n",
    "\n",
    "def show_json(obj):\n",
    "    \"\"\"把任意对象用排版美观的 JSON 格式打印出来\"\"\"\n",
    "    print(json.dumps(\n",
    "        json.loads(obj.model_dump_json()),\n",
    "        indent=4,\n",
    "        ensure_ascii=False\n",
    "    ))"
   ]
  },
  {
   "cell_type": "code",
   "execution_count": 3,
   "metadata": {},
   "outputs": [
    {
     "name": "stdout",
     "output_type": "stream",
     "text": [
      "{\n",
      "    \"id\": \"thread_brsSc2KTTYhS5Nyz1URXAGvZ\",\n",
      "    \"created_at\": 1718882671,\n",
      "    \"metadata\": {},\n",
      "    \"object\": \"thread\",\n",
      "    \"tool_resources\": {\n",
      "        \"code_interpreter\": null,\n",
      "        \"file_search\": null\n",
      "    }\n",
      "}\n"
     ]
    }
   ],
   "source": [
    "from openai import OpenAI\n",
    "import os\n",
    "\n",
    "from dotenv import load_dotenv, find_dotenv\n",
    "_ = load_dotenv(find_dotenv())\n",
    "\n",
    "# 初始化 OpenAI 服务\n",
    "client = OpenAI()   # openai >= 1.3.0 起，OPENAI_API_KEY 和 OPENAI_BASE_URL 会被默认使用\n",
    "\n",
    "# 创建 thread\n",
    "thread = client.beta.threads.create()\n",
    "show_json(thread)"
   ]
  },
  {
   "cell_type": "markdown",
   "metadata": {},
   "source": [
    "可以根据需要，自定义 `metadata`，比如创建 thread 时，把 thread 归属的用户信息存入。\n"
   ]
  },
  {
   "cell_type": "code",
   "execution_count": 4,
   "metadata": {},
   "outputs": [
    {
     "name": "stdout",
     "output_type": "stream",
     "text": [
      "{\n",
      "    \"id\": \"thread_TYEDCHfEW5CNUk4KhQCMbrFF\",\n",
      "    \"created_at\": 1718882677,\n",
      "    \"metadata\": {\n",
      "        \"fullname\": \"王卓然\",\n",
      "        \"username\": \"wzr\"\n",
      "    },\n",
      "    \"object\": \"thread\",\n",
      "    \"tool_resources\": {\n",
      "        \"code_interpreter\": null,\n",
      "        \"file_search\": null\n",
      "    }\n",
      "}\n"
     ]
    }
   ],
   "source": [
    "thread = client.beta.threads.create(\n",
    "    metadata={\"fullname\": \"王卓然\", \"username\": \"wzr\"}\n",
    ")\n",
    "show_json(thread)"
   ]
  },
  {
   "cell_type": "markdown",
   "metadata": {},
   "source": [
    "Thread ID 如果保存下来，是可以在下次运行时继续对话的。\n",
    "\n",
    "从 thread ID 获取 thread 对象的代码：\n"
   ]
  },
  {
   "cell_type": "code",
   "execution_count": 5,
   "metadata": {},
   "outputs": [
    {
     "name": "stdout",
     "output_type": "stream",
     "text": [
      "{\n",
      "    \"id\": \"thread_TYEDCHfEW5CNUk4KhQCMbrFF\",\n",
      "    \"created_at\": 1718882677,\n",
      "    \"metadata\": {\n",
      "        \"fullname\": \"王卓然\",\n",
      "        \"username\": \"wzr\"\n",
      "    },\n",
      "    \"object\": \"thread\",\n",
      "    \"tool_resources\": {\n",
      "        \"code_interpreter\": {\n",
      "            \"file_ids\": []\n",
      "        },\n",
      "        \"file_search\": null\n",
      "    }\n",
      "}\n"
     ]
    }
   ],
   "source": [
    "thread = client.beta.threads.retrieve(thread.id)\n",
    "show_json(thread)"
   ]
  },
  {
   "cell_type": "markdown",
   "metadata": {},
   "source": [
    "此外，还有：\n",
    "\n",
    "1. `threads.modify()` 修改 thread 的 `metadata` 和 `tool_resources`\n",
    "2. `threads.retrieve()` 获取 thread\n",
    "3. `threads.delete()` 删除 thread。\n",
    "\n",
    "具体文档参考：https://platform.openai.com/docs/api-reference/threads\n"
   ]
  },
  {
   "cell_type": "markdown",
   "metadata": {},
   "source": [
    "### 3.2、给 Threads 添加 Messages\n",
    "\n",
    "这里的 messages 结构要复杂一些：\n",
    "\n",
    "1.  不仅有文本，还可以有图片和文件\n",
    "2.  也有 `metadata`\n"
   ]
  },
  {
   "cell_type": "code",
   "execution_count": 6,
   "metadata": {},
   "outputs": [
    {
     "name": "stdout",
     "output_type": "stream",
     "text": [
      "{\n",
      "    \"id\": \"msg_Ii923fxS0S0lCUnjIuV0XdzC\",\n",
      "    \"assistant_id\": null,\n",
      "    \"attachments\": [],\n",
      "    \"completed_at\": null,\n",
      "    \"content\": [\n",
      "        {\n",
      "            \"text\": {\n",
      "                \"annotations\": [],\n",
      "                \"value\": \"你都能做什么？\"\n",
      "            },\n",
      "            \"type\": \"text\"\n",
      "        }\n",
      "    ],\n",
      "    \"created_at\": 1718882689,\n",
      "    \"incomplete_at\": null,\n",
      "    \"incomplete_details\": null,\n",
      "    \"metadata\": {},\n",
      "    \"object\": \"thread.message\",\n",
      "    \"role\": \"user\",\n",
      "    \"run_id\": null,\n",
      "    \"status\": null,\n",
      "    \"thread_id\": \"thread_TYEDCHfEW5CNUk4KhQCMbrFF\"\n",
      "}\n"
     ]
    }
   ],
   "source": [
    "message = client.beta.threads.messages.create(\n",
    "    thread_id=thread.id,  # message 必须归属于一个 thread\n",
    "    role=\"user\",          # 取值是 user 或者 assistant。但 assistant 消息会被自动加入，我们一般不需要自己构造\n",
    "    content=\"你都能做什么？\",\n",
    ")\n",
    "show_json(message)"
   ]
  },
  {
   "cell_type": "markdown",
   "metadata": {},
   "source": [
    "还有如下函数：\n",
    "\n",
    "1. `threads.messages.retrieve()` 获取 message\n",
    "2. `threads.messages.update()` 更新 message 的 `metadata`\n",
    "3. `threads.messages.list()` 列出给定 thread 下的所有 messages\n",
    "\n",
    "具体文档参考：https://platform.openai.com/docs/api-reference/messages\n"
   ]
  },
  {
   "cell_type": "markdown",
   "metadata": {},
   "source": [
    "也可以在创建 thread 同时初始化一个 message 列表\n"
   ]
  },
  {
   "cell_type": "code",
   "execution_count": 7,
   "metadata": {},
   "outputs": [
    {
     "name": "stdout",
     "output_type": "stream",
     "text": [
      "{\n",
      "    \"id\": \"thread_pNT5PFO7h7kT7smNBTKEtigz\",\n",
      "    \"created_at\": 1718882704,\n",
      "    \"metadata\": {},\n",
      "    \"object\": \"thread\",\n",
      "    \"tool_resources\": {\n",
      "        \"code_interpreter\": null,\n",
      "        \"file_search\": null\n",
      "    }\n",
      "}\n",
      "-----\n",
      "{\n",
      "    \"data\": [\n",
      "        {\n",
      "            \"id\": \"msg_2QPMT9evPs56oi5YhwXaOs11\",\n",
      "            \"assistant_id\": null,\n",
      "            \"attachments\": [],\n",
      "            \"completed_at\": null,\n",
      "            \"content\": [\n",
      "                {\n",
      "                    \"text\": {\n",
      "                        \"annotations\": [],\n",
      "                        \"value\": \"你是谁？\"\n",
      "                    },\n",
      "                    \"type\": \"text\"\n",
      "                }\n",
      "            ],\n",
      "            \"created_at\": 1718882704,\n",
      "            \"incomplete_at\": null,\n",
      "            \"incomplete_details\": null,\n",
      "            \"metadata\": {},\n",
      "            \"object\": \"thread.message\",\n",
      "            \"role\": \"user\",\n",
      "            \"run_id\": null,\n",
      "            \"status\": null,\n",
      "            \"thread_id\": \"thread_pNT5PFO7h7kT7smNBTKEtigz\"\n",
      "        },\n",
      "        {\n",
      "            \"id\": \"msg_dgOIp1VVrHwrFgsCUCLST1AV\",\n",
      "            \"assistant_id\": null,\n",
      "            \"attachments\": [],\n",
      "            \"completed_at\": null,\n",
      "            \"content\": [\n",
      "                {\n",
      "                    \"text\": {\n",
      "                        \"annotations\": [],\n",
      "                        \"value\": \"有什么可以帮您？\"\n",
      "                    },\n",
      "                    \"type\": \"text\"\n",
      "                }\n",
      "            ],\n",
      "            \"created_at\": 1718882704,\n",
      "            \"incomplete_at\": null,\n",
      "            \"incomplete_details\": null,\n",
      "            \"metadata\": {},\n",
      "            \"object\": \"thread.message\",\n",
      "            \"role\": \"assistant\",\n",
      "            \"run_id\": null,\n",
      "            \"status\": null,\n",
      "            \"thread_id\": \"thread_pNT5PFO7h7kT7smNBTKEtigz\"\n",
      "        },\n",
      "        {\n",
      "            \"id\": \"msg_1J8EUOPU9sxc3WkBB6nIvWOV\",\n",
      "            \"assistant_id\": null,\n",
      "            \"attachments\": [],\n",
      "            \"completed_at\": null,\n",
      "            \"content\": [\n",
      "                {\n",
      "                    \"text\": {\n",
      "                        \"annotations\": [],\n",
      "                        \"value\": \"你好\"\n",
      "                    },\n",
      "                    \"type\": \"text\"\n",
      "                }\n",
      "            ],\n",
      "            \"created_at\": 1718882704,\n",
      "            \"incomplete_at\": null,\n",
      "            \"incomplete_details\": null,\n",
      "            \"metadata\": {},\n",
      "            \"object\": \"thread.message\",\n",
      "            \"role\": \"user\",\n",
      "            \"run_id\": null,\n",
      "            \"status\": null,\n",
      "            \"thread_id\": \"thread_pNT5PFO7h7kT7smNBTKEtigz\"\n",
      "        }\n",
      "    ],\n",
      "    \"object\": \"list\",\n",
      "    \"first_id\": \"msg_2QPMT9evPs56oi5YhwXaOs11\",\n",
      "    \"last_id\": \"msg_1J8EUOPU9sxc3WkBB6nIvWOV\",\n",
      "    \"has_more\": false\n",
      "}\n"
     ]
    }
   ],
   "source": [
    "thread = client.beta.threads.create(\n",
    "    messages=[\n",
    "        {\n",
    "            \"role\": \"user\",\n",
    "            \"content\": \"你好\",\n",
    "        },\n",
    "        {\n",
    "            \"role\": \"assistant\",\n",
    "            \"content\": \"有什么可以帮您？\",\n",
    "        },\n",
    "        {\n",
    "            \"role\": \"user\",\n",
    "            \"content\": \"你是谁？\",\n",
    "        },\n",
    "    ]\n",
    ")\n",
    "\n",
    "show_json(thread)  # 显示 thread\n",
    "print(\"-----\")\n",
    "show_json(client.beta.threads.messages.list(\n",
    "    thread.id))  # 显示指定 thread 中的 message 列表"
   ]
  },
  {
   "cell_type": "markdown",
   "metadata": {},
   "source": [
    "## 3.3、开始 Run\n",
    "\n",
    "- 用 run 把 assistant 和 thread 关联，进行对话\n",
    "- 一个 prompt 就是一次 run\n"
   ]
  },
  {
   "cell_type": "markdown",
   "metadata": {},
   "source": [
    "### 3.1、直接运行\n"
   ]
  },
  {
   "cell_type": "code",
   "execution_count": 8,
   "metadata": {},
   "outputs": [],
   "source": [
    "assistant_id = \"asst_ahXpE6toS71zFyq9h4iMIDj2\"  # 从 Playground 中拷贝\n",
    "\n",
    "run = client.beta.threads.runs.create_and_poll(\n",
    "    thread_id=thread.id,\n",
    "    assistant_id=assistant_id,\n",
    ")"
   ]
  },
  {
   "cell_type": "code",
   "execution_count": 9,
   "metadata": {},
   "outputs": [
    {
     "name": "stdout",
     "output_type": "stream",
     "text": [
      "{\n",
      "    \"data\": [\n",
      "        {\n",
      "            \"id\": \"msg_lEKyE8tuw6YLGuNTaleVPXjK\",\n",
      "            \"assistant_id\": \"asst_ahXpE6toS71zFyq9h4iMIDj2\",\n",
      "            \"attachments\": [],\n",
      "            \"completed_at\": null,\n",
      "            \"content\": [\n",
      "                {\n",
      "                    \"text\": {\n",
      "                        \"annotations\": [],\n",
      "                        \"value\": \"我是瓜瓜，AGI课堂的智能助理。我可以帮助您解答与AGI课堂相关的问题，包括课程信息、时间表、讲师等。如果您有任何问题，请随时告诉我！\"\n",
      "                    },\n",
      "                    \"type\": \"text\"\n",
      "                }\n",
      "            ],\n",
      "            \"created_at\": 1718882721,\n",
      "            \"incomplete_at\": null,\n",
      "            \"incomplete_details\": null,\n",
      "            \"metadata\": {},\n",
      "            \"object\": \"thread.message\",\n",
      "            \"role\": \"assistant\",\n",
      "            \"run_id\": \"run_7olqkXkoFk9jtLzwsKDLfCNH\",\n",
      "            \"status\": null,\n",
      "            \"thread_id\": \"thread_pNT5PFO7h7kT7smNBTKEtigz\"\n",
      "        },\n",
      "        {\n",
      "            \"id\": \"msg_2QPMT9evPs56oi5YhwXaOs11\",\n",
      "            \"assistant_id\": null,\n",
      "            \"attachments\": [],\n",
      "            \"completed_at\": null,\n",
      "            \"content\": [\n",
      "                {\n",
      "                    \"text\": {\n",
      "                        \"annotations\": [],\n",
      "                        \"value\": \"你是谁？\"\n",
      "                    },\n",
      "                    \"type\": \"text\"\n",
      "                }\n",
      "            ],\n",
      "            \"created_at\": 1718882704,\n",
      "            \"incomplete_at\": null,\n",
      "            \"incomplete_details\": null,\n",
      "            \"metadata\": {},\n",
      "            \"object\": \"thread.message\",\n",
      "            \"role\": \"user\",\n",
      "            \"run_id\": null,\n",
      "            \"status\": null,\n",
      "            \"thread_id\": \"thread_pNT5PFO7h7kT7smNBTKEtigz\"\n",
      "        },\n",
      "        {\n",
      "            \"id\": \"msg_dgOIp1VVrHwrFgsCUCLST1AV\",\n",
      "            \"assistant_id\": null,\n",
      "            \"attachments\": [],\n",
      "            \"completed_at\": null,\n",
      "            \"content\": [\n",
      "                {\n",
      "                    \"text\": {\n",
      "                        \"annotations\": [],\n",
      "                        \"value\": \"有什么可以帮您？\"\n",
      "                    },\n",
      "                    \"type\": \"text\"\n",
      "                }\n",
      "            ],\n",
      "            \"created_at\": 1718882704,\n",
      "            \"incomplete_at\": null,\n",
      "            \"incomplete_details\": null,\n",
      "            \"metadata\": {},\n",
      "            \"object\": \"thread.message\",\n",
      "            \"role\": \"assistant\",\n",
      "            \"run_id\": null,\n",
      "            \"status\": null,\n",
      "            \"thread_id\": \"thread_pNT5PFO7h7kT7smNBTKEtigz\"\n",
      "        },\n",
      "        {\n",
      "            \"id\": \"msg_1J8EUOPU9sxc3WkBB6nIvWOV\",\n",
      "            \"assistant_id\": null,\n",
      "            \"attachments\": [],\n",
      "            \"completed_at\": null,\n",
      "            \"content\": [\n",
      "                {\n",
      "                    \"text\": {\n",
      "                        \"annotations\": [],\n",
      "                        \"value\": \"你好\"\n",
      "                    },\n",
      "                    \"type\": \"text\"\n",
      "                }\n",
      "            ],\n",
      "            \"created_at\": 1718882704,\n",
      "            \"incomplete_at\": null,\n",
      "            \"incomplete_details\": null,\n",
      "            \"metadata\": {},\n",
      "            \"object\": \"thread.message\",\n",
      "            \"role\": \"user\",\n",
      "            \"run_id\": null,\n",
      "            \"status\": null,\n",
      "            \"thread_id\": \"thread_pNT5PFO7h7kT7smNBTKEtigz\"\n",
      "        }\n",
      "    ],\n",
      "    \"object\": \"list\",\n",
      "    \"first_id\": \"msg_lEKyE8tuw6YLGuNTaleVPXjK\",\n",
      "    \"last_id\": \"msg_1J8EUOPU9sxc3WkBB6nIvWOV\",\n",
      "    \"has_more\": false\n",
      "}\n"
     ]
    }
   ],
   "source": [
    "if run.status == 'completed':\n",
    "    messages = client.beta.threads.messages.list(\n",
    "        thread_id=thread.id\n",
    "    )\n",
    "    show_json(messages)\n",
    "else:\n",
    "    print(run.status)"
   ]
  },
  {
   "cell_type": "markdown",
   "metadata": {},
   "source": [
    "### 3.2、Run 的状态（选）\n"
   ]
  },
  {
   "cell_type": "markdown",
   "metadata": {},
   "source": [
    "Run 的底层是个异步调用，意味着它不等大模型处理完，就返回。我们通过 `run.status` 了解大模型的工作进展情况，来判断下一步该干什么。\n",
    "\n",
    "`run.status` 有的状态，和状态之间的转移关系如图。\n",
    "\n",
    "<img src=\"statuses.png\" width=\"800\" />\n"
   ]
  },
  {
   "cell_type": "markdown",
   "metadata": {},
   "source": [
    "### 3.3、流式运行\n"
   ]
  },
  {
   "cell_type": "markdown",
   "metadata": {},
   "source": [
    "1. 创建回调函数\n"
   ]
  },
  {
   "cell_type": "code",
   "execution_count": 10,
   "metadata": {},
   "outputs": [],
   "source": [
    "from typing_extensions import override\n",
    "from openai import AssistantEventHandler\n",
    "\n",
    "\n",
    "class EventHandler(AssistantEventHandler):\n",
    "    @override\n",
    "    def on_text_created(self, text) -> None:\n",
    "        \"\"\"响应输出创建事件\"\"\"\n",
    "        print(f\"\\nassistant > \", end=\"\", flush=True)\n",
    "\n",
    "    @override\n",
    "    def on_text_delta(self, delta, snapshot):\n",
    "        \"\"\"响应输出生成的流片段\"\"\"\n",
    "        print(delta.value, end=\"\", flush=True)"
   ]
  },
  {
   "cell_type": "markdown",
   "metadata": {},
   "source": [
    "2. 运行 run\n"
   ]
  },
  {
   "cell_type": "code",
   "execution_count": 11,
   "metadata": {},
   "outputs": [
    {
     "name": "stdout",
     "output_type": "stream",
     "text": [
      "\n",
      "assistant > 我是瓜瓜，AGI课堂的智能助理。我可以帮助您解答与AGI课堂相关的问题，比如课程信息、时间表、讲师等。如果您有任何问题或需要帮助，请告诉我！"
     ]
    }
   ],
   "source": [
    "# 添加新一轮的 user message\n",
    "message = client.beta.threads.messages.create(\n",
    "    thread_id=thread.id,\n",
    "    role=\"user\",\n",
    "    content=\"你说什么？\",\n",
    ")\n",
    "# 使用 stream 接口并传入 EventHandler\n",
    "with client.beta.threads.runs.stream(\n",
    "    thread_id=thread.id,\n",
    "    assistant_id=assistant_id,\n",
    "    event_handler=EventHandler(),\n",
    ") as stream:\n",
    "    stream.until_done()"
   ]
  },
  {
   "cell_type": "markdown",
   "metadata": {},
   "source": [
    "还有如下函数：\n",
    "\n",
    "1. `threads.runs.list()` 列出 thread 归属的 run\n",
    "2. `threads.runs.retrieve()` 获取 run\n",
    "3. `threads.runs.update()` 修改 run 的 metadata\n",
    "4. `threads.runs.cancel()` 取消 `in_progress` 状态的 run\n",
    "\n",
    "具体文档参考：https://platform.openai.com/docs/api-reference/runs\n"
   ]
  },
  {
   "cell_type": "markdown",
   "metadata": {},
   "source": [
    "<div class=\"alert alert-warning\">\n",
    "<b>思考：</b> 进一步理解 run 与 thread 的设计\n",
    "<ul>\n",
    "    <li>抛开 Assistants API，假设你要开发任意一个多轮对话的 AI 机器人</li>\n",
    "    <li>从架构设计的角度，应该怎么维护用户、对话历史、对话引擎、对话服务？</li>\n",
    "</ul>\n",
    "</div>\n"
   ]
  },
  {
   "cell_type": "markdown",
   "metadata": {},
   "source": [
    "## 四、使用 Tools\n"
   ]
  },
  {
   "cell_type": "markdown",
   "metadata": {},
   "source": [
    "### 4.1、创建 Assistant 时声明 Code_Interpreter\n"
   ]
  },
  {
   "cell_type": "markdown",
   "metadata": {},
   "source": [
    "如果用代码创建：\n",
    "\n",
    "```python\n",
    "assistant = client.beta.assistants.create(\n",
    "    name=\"Demo Assistant\",\n",
    "    instructions=\"你是人工智能助手。你可以通过代码回答很多数学问题。\",\n",
    "    tools=[{\"type\": \"code_interpreter\"}],\n",
    "    model=\"gpt-4o\"\n",
    ")\n",
    "```\n"
   ]
  },
  {
   "cell_type": "markdown",
   "metadata": {},
   "source": [
    "在回调中加入 code_interpreter 的事件响应\n"
   ]
  },
  {
   "cell_type": "code",
   "execution_count": 12,
   "metadata": {},
   "outputs": [],
   "source": [
    "from typing_extensions import override\n",
    "from openai import AssistantEventHandler\n",
    "\n",
    "\n",
    "class EventHandler(AssistantEventHandler):\n",
    "    @override\n",
    "    def on_text_created(self, text) -> None:\n",
    "        \"\"\"响应输出创建事件\"\"\"\n",
    "        print(f\"\\nassistant > \", end=\"\", flush=True)\n",
    "\n",
    "    @override\n",
    "    def on_text_delta(self, delta, snapshot):\n",
    "        \"\"\"响应输出生成的流片段\"\"\"\n",
    "        print(delta.value, end=\"\", flush=True)\n",
    "\n",
    "    @override\n",
    "    def on_tool_call_created(self, tool_call):\n",
    "        \"\"\"响应工具调用\"\"\"\n",
    "        print(f\"\\nassistant > {tool_call.type}\\n\", flush=True)\n",
    "\n",
    "    @override\n",
    "    def on_tool_call_delta(self, delta, snapshot):\n",
    "        \"\"\"响应工具调用的流片段\"\"\"\n",
    "        if delta.type == 'code_interpreter':\n",
    "            if delta.code_interpreter.input:\n",
    "                print(delta.code_interpreter.input, end=\"\", flush=True)\n",
    "        if delta.code_interpreter.outputs:\n",
    "            print(f\"\\n\\noutput >\", flush=True)\n",
    "            for output in delta.code_interpreter.outputs:\n",
    "                if output.type == \"logs\":\n",
    "                    print(f\"\\n{output.logs}\", flush=True)"
   ]
  },
  {
   "cell_type": "markdown",
   "metadata": {},
   "source": [
    "发个 Code Interpreter 请求\n"
   ]
  },
  {
   "cell_type": "code",
   "execution_count": 13,
   "metadata": {},
   "outputs": [
    {
     "name": "stdout",
     "output_type": "stream",
     "text": [
      "\n",
      "assistant > code_interpreter\n",
      "\n",
      "import math\n",
      "\n",
      "# Calculate the square root of 1234567\n",
      "sqrt_value = math.sqrt(1234567)\n",
      "sqrt_value\n",
      "assistant > 1234567 的平方根是约 1111.11。"
     ]
    }
   ],
   "source": [
    "# 创建 thread\n",
    "thread = client.beta.threads.create()\n",
    "\n",
    "# 添加新一轮的 user message\n",
    "message = client.beta.threads.messages.create(\n",
    "    thread_id=thread.id,\n",
    "    role=\"user\",\n",
    "    content=\"用代码计算 1234567 的平方根\",\n",
    ")\n",
    "# 使用 stream 接口并传入 EventHandler\n",
    "with client.beta.threads.runs.stream(\n",
    "    thread_id=thread.id,\n",
    "    assistant_id=assistant_id,\n",
    "    event_handler=EventHandler(),\n",
    ") as stream:\n",
    "    stream.until_done()"
   ]
  },
  {
   "cell_type": "markdown",
   "metadata": {},
   "source": [
    "### 4.1.1、Code_Interpreter 操作文件\n"
   ]
  },
  {
   "cell_type": "code",
   "execution_count": 14,
   "metadata": {},
   "outputs": [],
   "source": [
    "# 上传文件到 OpenAI\n",
    "file = client.files.create(\n",
    "    file=open(\"mydata.csv\", \"rb\"),\n",
    "    purpose='assistants'\n",
    ")\n",
    "\n",
    "# 创建 assistant\n",
    "my_assistant = client.beta.assistants.create(\n",
    "    name=\"CodeInterpreterWithFileDemo\",\n",
    "    instructions=\"你是数据分析师，按要求分析数据。\",\n",
    "    model=\"gpt-4o\",\n",
    "    tools=[{\"type\": \"code_interpreter\"}],\n",
    "    tool_resources={\n",
    "        \"code_interpreter\": {\n",
    "          \"file_ids\": [file.id]  # 为 code_interpreter 关联文件\n",
    "        }\n",
    "    }\n",
    ")"
   ]
  },
  {
   "cell_type": "code",
   "execution_count": 15,
   "metadata": {},
   "outputs": [
    {
     "name": "stdout",
     "output_type": "stream",
     "text": [
      "\n",
      "assistant > 好的，我将首先查看上传的CSV文件的内容，以便了解数据结构，然后为您计算总销售额。让我们开始吧。\n",
      "assistant > code_interpreter\n",
      "\n",
      "import pandas as pd\n",
      "\n",
      "# Step 1: Load the CSV file\n",
      "file_path = '/mnt/data/file-RIRlYQo7X4qeYkJV16Wb3l1A'\n",
      "data = pd.read_csv(file_path)\n",
      "\n",
      "# First few rows of the dataset to understand its structure\n",
      "data.head(), data.columns\n",
      "assistant > 看起来CSV文件包含以下列：\n",
      "- `Product Name`（产品名称）\n",
      "- `Unit Price`（单价）\n",
      "- `Quantity Sold`（销售数量）\n",
      "\n",
      "为了计算总销售额，我将每种产品的单价乘以其销售数量，并将结果相加。\n",
      "\n",
      "接下来我将计算总销售额。# Step 2: Calculate total sales for each product and then sum them up\n",
      "data['Total Sales'] = data['Unit Price'] * data['Quantity Sold']\n",
      "total_sales = data['Total Sales'].sum()\n",
      "total_sales\n",
      "assistant > CSV文件中的总销售额为 182,100。"
     ]
    }
   ],
   "source": [
    "# 创建 thread\n",
    "thread = client.beta.threads.create()\n",
    "\n",
    "# 添加新一轮的 user message\n",
    "message = client.beta.threads.messages.create(\n",
    "    thread_id=thread.id,\n",
    "    role=\"user\",\n",
    "    content=\"统计csv文件中的总销售额\",\n",
    ")\n",
    "# 使用 stream 接口并传入 EventHandler\n",
    "with client.beta.threads.runs.stream(\n",
    "    thread_id=thread.id,\n",
    "    assistant_id=my_assistant.id,\n",
    "    event_handler=EventHandler(),\n",
    ") as stream:\n",
    "    stream.until_done()"
   ]
  },
  {
   "cell_type": "markdown",
   "metadata": {},
   "source": [
    "关于文件操作，还有如下函数：\n",
    "\n",
    "1. `client.files.list()` 列出所有文件\n",
    "2. `client.files.retrieve()` 获取文件对象\n",
    "3. `client.files.delete()` 删除文件\n",
    "4. `client.files.content()` 读取文件内容\n",
    "\n",
    "具体文档参考：https://platform.openai.com/docs/api-reference/files\n"
   ]
  },
  {
   "cell_type": "markdown",
   "metadata": {},
   "source": [
    "### 4.2、创建 Assistant 时声明 Function\n"
   ]
  },
  {
   "cell_type": "code",
   "execution_count": 16,
   "metadata": {},
   "outputs": [],
   "source": [
    "assistant = client.beta.assistants.create(\n",
    "  instructions=\"你叫瓜瓜。你是AGI课堂的助手。你只回答跟AI大模型有关的问题。不要跟学生闲聊。每次回答问题前，你要拆解问题并输出一步一步的思考过程。\",\n",
    "  model=\"gpt-4o\",\n",
    "  tools=[{\n",
    "    \"type\": \"function\",\n",
    "    \"function\": {\n",
    "      \"name\": \"course_info\",\n",
    "      \"description\": \"用于查看具体课程信息，包括时间表，题目，讲师，等等。Function输入必须是一个合法的SQL表达式。\",\n",
    "      \"parameters\": {\n",
    "        \"type\": \"object\",\n",
    "        \"properties\": {\n",
    "          \"query\": {\n",
    "            \"type\": \"string\",\n",
    "            \"description\": \"SQL query extracting info to answer the user's question.\\nSQL should be written using this database schema:\\n\\nCREATE TABLE Courses (\\n\\tid INT AUTO_INCREMENT PRIMARY KEY,\\n\\tcourse_date DATE NOT NULL,\\n\\tstart_time TIME NOT NULL,\\n\\tend_time TIME NOT NULL,\\n\\tcourse_name VARCHAR(255) NOT NULL,\\n\\tinstructor VARCHAR(255) NOT NULL\\n);\\n\\nThe query should be returned in plain text, not in JSON.\\nThe query should only contain grammars supported by SQLite.\"\n",
    "          }\n",
    "        },\n",
    "        \"required\": [\n",
    "          \"query\"\n",
    "        ]\n",
    "      }\n",
    "    }\n",
    "  }]\n",
    ")"
   ]
  },
  {
   "cell_type": "markdown",
   "metadata": {},
   "source": [
    "创建一个 Function\n"
   ]
  },
  {
   "cell_type": "code",
   "execution_count": 17,
   "metadata": {},
   "outputs": [],
   "source": [
    "# 定义本地函数和数据库\n",
    "\n",
    "import sqlite3\n",
    "\n",
    "# 创建数据库连接\n",
    "conn = sqlite3.connect(':memory:')\n",
    "cursor = conn.cursor()\n",
    "\n",
    "# 创建orders表\n",
    "cursor.execute(\"\"\"\n",
    "CREATE TABLE Courses (\n",
    "    id INT AUTO_INCREMENT PRIMARY KEY,\n",
    "    course_date DATE NOT NULL,\n",
    "    start_time TIME NOT NULL,\n",
    "    end_time TIME NOT NULL,\n",
    "    course_name VARCHAR(255) NOT NULL,\n",
    "    instructor VARCHAR(255) NOT NULL\n",
    ");\n",
    "\"\"\")\n",
    "\n",
    "# 插入5条明确的模拟记录\n",
    "timetable = [\n",
    "    ('2024-01-23', '20:00', '22:00', '大模型应用开发基础', '孙志岗'),\n",
    "    ('2024-01-25', '20:00', '22:00', 'Prompt Engineering', '孙志岗'),\n",
    "    ('2024-01-29', '20:00', '22:00', '赠课：软件开发基础概念与环境搭建', '西树'),\n",
    "    ('2024-02-20', '20:00', '22:00', '从AI编程认知AI', '林晓鑫'),\n",
    "    ('2024-02-22', '20:00', '22:00', 'Function Calling', '孙志岗'),\n",
    "    ('2024-02-29', '20:00', '22:00', 'RAG和Embeddings', '王卓然'),\n",
    "    ('2024-03-05', '20:00', '22:00', 'Assistants API', '王卓然'),\n",
    "    ('2024-03-07', '20:00', '22:00', 'Semantic Kernel', '王卓然'),\n",
    "    ('2024-03-14', '20:00', '22:00', 'LangChain', '王卓然'),\n",
    "    ('2024-03-19', '20:00', '22:00', 'LLM应用开发工具链', '王卓然'),\n",
    "    ('2024-03-21', '20:00', '22:00', '手撕 AutoGPT', '王卓然'),\n",
    "    ('2024-03-26', '20:00', '22:00', '模型微调（上）', '王卓然'),\n",
    "    ('2024-03-28', '20:00', '22:00', '模型微调（下）', '王卓然'),\n",
    "    ('2024-04-09', '20:00', '22:00', '多模态大模型（上）', '多老师'),\n",
    "    ('2024-04-11', '20:00', '22:00', '多模态大模型（中）', '多老师'),\n",
    "    ('2024-04-16', '20:00', '22:00', '多模态大模型（下）', '多老师'),\n",
    "    ('2024-04-18', '20:00', '22:00', 'AI产品部署和交付（上）', '王树冬'),\n",
    "    ('2024-04-23', '20:00', '22:00', 'AI产品部署和交付（下）', '王树冬'),\n",
    "    ('2024-04-25', '20:00', '22:00', '抓住大模型时代的创业机遇', '孙志岗'),\n",
    "    ('2024-05-07', '20:00', '22:00', '产品运营和业务沟通', '孙志岗'),\n",
    "    ('2024-05-09', '20:00', '22:00', '产品设计', '孙志岗'),\n",
    "    ('2024-05-14', '20:00', '22:00', '项目方案分析与设计', '王卓然'),\n",
    "]\n",
    "\n",
    "for record in timetable:\n",
    "    cursor.execute('''\n",
    "    INSERT INTO Courses (course_date, start_time, end_time, course_name, instructor)\n",
    "    VALUES (?, ?, ?, ?, ?)\n",
    "    ''', record)\n",
    "\n",
    "# 提交事务\n",
    "conn.commit()\n",
    "\n",
    "\n",
    "def query_database(query):\n",
    "    cursor.execute(query)\n",
    "    records = cursor.fetchall()\n",
    "    return str(records)\n",
    "\n",
    "\n",
    "# 可以被回调的函数放入此字典\n",
    "available_functions = {\n",
    "    \"course_info\": query_database,\n",
    "}"
   ]
  },
  {
   "cell_type": "markdown",
   "metadata": {},
   "source": [
    "增加回调事件的响应\n"
   ]
  },
  {
   "cell_type": "code",
   "execution_count": 18,
   "metadata": {},
   "outputs": [],
   "source": [
    "from typing_extensions import override\n",
    "from openai import AssistantEventHandler\n",
    "\n",
    "\n",
    "class EventHandler(AssistantEventHandler):\n",
    "    @override\n",
    "    def on_text_created(self, text) -> None:\n",
    "        \"\"\"响应回复创建事件\"\"\"\n",
    "        print(f\"\\nassistant > \", end=\"\", flush=True)\n",
    "\n",
    "    @override\n",
    "    def on_text_delta(self, delta, snapshot):\n",
    "        \"\"\"响应输出生成的流片段\"\"\"\n",
    "        print(delta.value, end=\"\", flush=True)\n",
    "\n",
    "    @override\n",
    "    def on_tool_call_created(self, tool_call):\n",
    "        \"\"\"响应工具调用\"\"\"\n",
    "        print(f\"\\nassistant > {tool_call.type}\\n\", flush=True)\n",
    "\n",
    "    @override\n",
    "    def on_tool_call_delta(self, delta, snapshot):\n",
    "        \"\"\"响应工具调用的流片段\"\"\"\n",
    "        if delta.type == 'code_interpreter':\n",
    "            if delta.code_interpreter.input:\n",
    "                print(delta.code_interpreter.input, end=\"\", flush=True)\n",
    "            if delta.code_interpreter.outputs:\n",
    "                print(f\"\\n\\noutput >\", flush=True)\n",
    "                for output in delta.code_interpreter.outputs:\n",
    "                    if output.type == \"logs\":\n",
    "                        print(f\"\\n{output.logs}\", flush=True)\n",
    "\n",
    "    @override\n",
    "    def on_event(self, event):\n",
    "        \"\"\"\n",
    "        响应 'requires_action' 事件\n",
    "        \"\"\"\n",
    "        if event.event == 'thread.run.requires_action':\n",
    "            run_id = event.data.id  # 获取 run ID\n",
    "            self.handle_requires_action(event.data, run_id)\n",
    "\n",
    "    def handle_requires_action(self, data, run_id):\n",
    "        tool_outputs = []\n",
    "\n",
    "        for tool in data.required_action.submit_tool_outputs.tool_calls:\n",
    "            arguments = json.loads(tool.function.arguments)\n",
    "            print(\n",
    "                f\"{tool.function.name}({arguments})\",\n",
    "                flush=True\n",
    "            )\n",
    "            # 运行 function\n",
    "            tool_outputs.append({\n",
    "                \"tool_call_id\": tool.id,\n",
    "                \"output\": available_functions[tool.function.name](\n",
    "                    **arguments\n",
    "                )}\n",
    "            )\n",
    "\n",
    "        # 提交 function 的结果，并继续运行 run\n",
    "        self.submit_tool_outputs(tool_outputs, run_id)\n",
    "\n",
    "    def submit_tool_outputs(self, tool_outputs, run_id):\n",
    "        \"\"\"提交function结果，并继续流\"\"\"\n",
    "        with client.beta.threads.runs.submit_tool_outputs_stream(\n",
    "            thread_id=self.current_run.thread_id,\n",
    "            run_id=self.current_run.id,\n",
    "            tool_outputs=tool_outputs,\n",
    "            event_handler=EventHandler(),\n",
    "        ) as stream:\n",
    "            stream.until_done()"
   ]
  },
  {
   "cell_type": "code",
   "execution_count": 19,
   "metadata": {},
   "outputs": [
    {
     "name": "stdout",
     "output_type": "stream",
     "text": [
      "\n",
      "assistant > 要计算平均一堂课的时长，我们需要以下步骤：\n",
      "\n",
      "1. 获取课程表中的所有课程数据，包括每堂课的开始时间和结束时间。\n",
      "2. 计算每堂课的时长。\n",
      "3. 计算所有课程时长的平均值。\n",
      "\n",
      "### 第一步：获取课程数据\n",
      "\n",
      "首先，我们使用一个SQL查询来获取所有课程的开始时间和结束时间。\n",
      "\n",
      "```sql\n",
      "SELECT start_time, end_time FROM Courses;\n",
      "```\n",
      "\n",
      "现在我将会执行这个查询。\n",
      "assistant > function\n",
      "\n",
      "course_info({'query': 'SELECT start_time, end_time FROM Courses;'})\n",
      "\n",
      "assistant > ### 第三步：计算课时和平均时长\n",
      "\n",
      "接下来，我们计算每堂课的时长（以分钟为单位），然后求取这些时长的平均值。\n",
      "\n",
      "每堂课的时间都是从 20:00 到 22:00，因此时长计算如下：\n",
      "\n",
      "- 每堂课结束时间 22:00 减去开始时间 20:00，时长为 2 小时。\n",
      "- 2 小时等于 120 分钟。\n",
      "\n",
      "由于每堂课的时长相同，所有课时的平均值即为单课时时长。\n",
      "\n",
      "### 结论\n",
      "平均一堂课的时长为 **120 分钟**。"
     ]
    }
   ],
   "source": [
    "# 创建 thread\n",
    "thread = client.beta.threads.create()\n",
    "\n",
    "# 添加 user message\n",
    "message = client.beta.threads.messages.create(\n",
    "    thread_id=thread.id,\n",
    "    role=\"user\",\n",
    "    content=\"平均一堂课长时间\",\n",
    ")\n",
    "# 使用 stream 接口并传入 EventHandler\n",
    "with client.beta.threads.runs.stream(\n",
    "    thread_id=thread.id,\n",
    "    assistant_id=assistant.id,\n",
    "    event_handler=EventHandler(),\n",
    ") as stream:\n",
    "    stream.until_done()"
   ]
  },
  {
   "cell_type": "markdown",
   "metadata": {},
   "source": [
    "### 4.3、两个无依赖的 function 会在一次请求中一起被调用\n"
   ]
  },
  {
   "cell_type": "code",
   "execution_count": 20,
   "metadata": {},
   "outputs": [
    {
     "name": "stdout",
     "output_type": "stream",
     "text": [
      "\n",
      "assistant > 要回答这个问题，我们需要：\n",
      "1. 找出王卓然的所有课程。\n",
      "2. 找出孙志岗的所有课程。\n",
      "3. 计算他们各自上的课程数量。\n",
      "4. 比较两个数量的差距。\n",
      "\n",
      "首先，我们可以编写两个SQL查询：\n",
      "- 一个查询王卓然的课程数量。\n",
      "- 另一个查询孙志岗的课程数量。\n",
      "\n",
      "让我来处理这些步骤。\n",
      "assistant > function\n",
      "\n",
      "\n",
      "assistant > function\n",
      "\n",
      "course_info({'query': \"SELECT COUNT(*) AS course_count FROM Courses WHERE instructor = '王卓然';\"})\n",
      "course_info({'query': \"SELECT COUNT(*) AS course_count FROM Courses WHERE instructor = '孙志岗';\"})\n",
      "\n",
      "assistant > 通过查询结果可以看到：\n",
      "- 王卓然上了9堂课。\n",
      "- 孙志岗上了6堂课。\n",
      "\n",
      "因此，王卓然比孙志岗多上了 \\( 9 - 6 = 3 \\) 堂课。"
     ]
    }
   ],
   "source": [
    "# 创建 thread\n",
    "thread = client.beta.threads.create()\n",
    "\n",
    "# 添加 user message\n",
    "message = client.beta.threads.messages.create(\n",
    "    thread_id=thread.id,\n",
    "    role=\"user\",\n",
    "    content=\"王卓然上几堂课，比孙志岗多上几堂\",\n",
    ")\n",
    "# 使用 stream 接口并传入 EventHandler\n",
    "with client.beta.threads.runs.stream(\n",
    "    thread_id=thread.id,\n",
    "    assistant_id=assistant.id,\n",
    "    event_handler=EventHandler(),\n",
    ") as stream:\n",
    "    stream.until_done()"
   ]
  },
  {
   "cell_type": "markdown",
   "metadata": {},
   "source": [
    "<div class=\"alert alert-info\">\n",
    "<b>更多流中的 Event：</b> https://platform.openai.com/docs/api-reference/assistants-streaming/events\n",
    "</div>\n"
   ]
  },
  {
   "cell_type": "markdown",
   "metadata": {},
   "source": [
    "## 五、内置的 RAG 功能\n"
   ]
  },
  {
   "cell_type": "markdown",
   "metadata": {},
   "source": [
    "### 5.1、创建 Vector Store，上传文件\n"
   ]
  },
  {
   "cell_type": "markdown",
   "metadata": {},
   "source": [
    "- 通过代码创建 Vector Store\n"
   ]
  },
  {
   "cell_type": "markdown",
   "metadata": {},
   "source": [
    "```python\n",
    "vector_store = client.beta.vector_stores.create(\n",
    "  name=\"MyVectorStore\"\n",
    ")\n",
    "```\n",
    "\n",
    "```\n",
    "\n",
    "```\n"
   ]
  },
  {
   "cell_type": "markdown",
   "metadata": {},
   "source": [
    "- 通过代码上传文件到 OpenAI 的存储空间\n"
   ]
  },
  {
   "cell_type": "markdown",
   "metadata": {},
   "source": [
    "```python\n",
    "file = client.files.create(\n",
    "  file=open(\"agiclass_intro.pdf\", \"rb\"),\n",
    "  purpose=\"assistants\"\n",
    ")\n",
    "```\n"
   ]
  },
  {
   "cell_type": "markdown",
   "metadata": {},
   "source": [
    "- 通过代码将文件添加到 Vector Store\n"
   ]
  },
  {
   "cell_type": "markdown",
   "metadata": {},
   "source": [
    "```python\n",
    "vector_store_file = client.beta.vector_stores.files.create(\n",
    "  vector_store_id=vector_store.id,\n",
    "  file_id=file.id\n",
    ")\n",
    "```\n"
   ]
  },
  {
   "cell_type": "markdown",
   "metadata": {},
   "source": [
    "- 批量上传文件到 Vector Store\n"
   ]
  },
  {
   "cell_type": "markdown",
   "metadata": {},
   "source": [
    "```python\n",
    "files = ['file1.pdf','file2.pdf']\n",
    "\n",
    "file_batch = client.beta.vector_stores.file_batches.upload_and_poll(\n",
    "    vector_store_id=vector_store.id,\n",
    "    files=[open(filename, \"rb\") for filename in files]\n",
    ")\n",
    "```\n"
   ]
  },
  {
   "cell_type": "markdown",
   "metadata": {},
   "source": [
    "Vector store 和 vector store file 也有对应的 `list`, `retrieve`, 和 `delete` 等操作。\n",
    "\n",
    "具体文档参考：\n",
    "\n",
    "- Vector store: https://platform.openai.com/docs/api-reference/vector-stores\n",
    "- Vector store file: https://platform.openai.com/docs/api-reference/vector-stores-files\n",
    "- Vector store file 批量操作: https://platform.openai.com/docs/api-reference/vector-stores-file-batches\n"
   ]
  },
  {
   "cell_type": "markdown",
   "metadata": {},
   "source": [
    "### 5.2、创建 Assistant 时声明 RAG 能力\n"
   ]
  },
  {
   "cell_type": "markdown",
   "metadata": {},
   "source": [
    "RAG 实际被当作一种 tool\n"
   ]
  },
  {
   "cell_type": "markdown",
   "metadata": {},
   "source": [
    "```python\n",
    "assistant = client.beta.assistants.create(\n",
    "  instructions=\"你是个问答机器人，你根据给定的知识回答用户问题。\",\n",
    "  model=\"gpt-4o\",\n",
    "  tools=[{\"type\": \"file_search\"}],\n",
    ")\n",
    "```\n"
   ]
  },
  {
   "cell_type": "markdown",
   "metadata": {},
   "source": [
    "指定检索源\n"
   ]
  },
  {
   "cell_type": "markdown",
   "metadata": {},
   "source": [
    "```python\n",
    "assistant = client.beta.assistants.update(\n",
    "  assistant_id=assistant.id,\n",
    "  tool_resources={\"file_search\": {\"vector_store_ids\": [vector_store.id]}},\n",
    ")\n",
    "```\n"
   ]
  },
  {
   "cell_type": "markdown",
   "metadata": {},
   "source": [
    "试试 RAG 请求\n"
   ]
  },
  {
   "cell_type": "code",
   "execution_count": 21,
   "metadata": {},
   "outputs": [
    {
     "name": "stdout",
     "output_type": "stream",
     "text": [
      "\n",
      "assistant > file_search\n",
      "\n",
      "\n",
      "assistant > AI大模型全栈工程师适合以下几类人群：\n",
      "\n",
      "1. **自己干**：有能力独立完成AI应用从策划、开发到落地的全过程，包括商业分析、需求分析、产品设计、开发、测试、市场推广和运营等。这类人通常具备至少一门编程语言的知识，并有过真实项目开发经验，如软件开发工程师、高级工程师、技术总监、研发经理、架构师、测试工程师等。\n",
      "\n",
      "2. **合伙干**：领导或配合懂AI技术的人，一起完成AI应用从策划、开发到落地的全过程。这类人可能不懂编程，但可以是产品经理、需求分析师、设计师、运营、创业者、老板、解决方案工程师、项目经理、市场、销售等。如果能善用AI学习编程、辅助编程，也可以向“自己干”迈进【4:0†source】【4:1†source】。\n",
      "\n",
      "总的来说，AI大模型全栈工程师适合那些希望在AI领域独立或合作完成项目的人，无论是技术背景深厚的开发者，还是希望通过AI提升工作效率的非技术人员。"
     ]
    }
   ],
   "source": [
    "# 创建 thread\n",
    "thread = client.beta.threads.create()\n",
    "\n",
    "# 添加 user message\n",
    "message = client.beta.threads.messages.create(\n",
    "    thread_id=thread.id,\n",
    "    role=\"user\",\n",
    "    content=\"AI⼤模型全栈⼯程师适合哪些人\",\n",
    ")\n",
    "# 使用 stream 接口并传入 EventHandler\n",
    "with client.beta.threads.runs.stream(\n",
    "    thread_id=thread.id,\n",
    "    assistant_id=assistant_id,\n",
    "    event_handler=EventHandler(),\n",
    ") as stream:\n",
    "    stream.until_done()"
   ]
  },
  {
   "cell_type": "markdown",
   "metadata": {},
   "source": [
    "### 5.3 内置的 RAG 是怎么实现的\n"
   ]
  },
  {
   "cell_type": "markdown",
   "metadata": {},
   "source": [
    "[官方原文](https://platform.openai.com/docs/assistants/tools/file-search/how-it-works)\n",
    "\n",
    "The file_search tool implements several retrieval best practices out of the box to help you extract the right data from your files and augment the model’s responses. The file_search tool:\n",
    "\n",
    "- Rewrites user queries to optimize them for search. (面向检索的 Query 改写)\n",
    "- Breaks down complex user queries into multiple searches it can run in parallel.（复杂 Query 拆成多个，并行执行）\n",
    "- Runs both keyword and semantic searches across both assistant and thread vector stores.（关键字与向量混合检索）\n",
    "- Reranks search results to pick the most relevant ones before generating the final response.（检索后排序）\n"
   ]
  },
  {
   "cell_type": "markdown",
   "metadata": {},
   "source": [
    "默认配置：\n",
    "\n",
    "- Chunk size: 800 tokens\n",
    "- Chunk overlap: 400 tokens\n",
    "- Embedding model: text-embedding-3-large at 256 dimensions\n",
    "- Maximum number of chunks added to context: 20 (could be fewer)\n",
    "\n",
    "以上配置可以通过 [`chunking_strategy`](https://platform.openai.com/docs/api-reference/vector-stores-files/createFile#vector-stores-files-createfile-chunking_strategy) 参数自定义修改。"
   ]
  },
  {
   "cell_type": "markdown",
   "metadata": {},
   "source": [
    "承诺未来增加：\n",
    "\n",
    "1. Support for deterministic pre-search filtering using custom metadata.\n",
    "2. Support for parsing images within documents (including images of charts, graphs, tables etc.)\n",
    "3. Support for retrievals over structured file formats (like csv or jsonl).\n",
    "4. Better support for summarization — the tool today is optimized for search queries.\n"
   ]
  },
  {
   "cell_type": "markdown",
   "metadata": {},
   "source": [
    "<div class=\"alert alert-warning\">\n",
    "<b>我们为什么仍然需要了解整个实现过程？</b>\n",
    "<ol>\n",
    "<li>如果不能使用 OpenAI，还是需要手工实现 RAG 流程</li>\n",
    "<li>了解 RAG 的原理，可以指导你的产品开发（回忆 GitHub Copilot）</li>\n",
    "<li>用私有知识增强 LLM 的能力，是一个通用的方法论</li>\n",
    "</div>\n"
   ]
  },
  {
   "cell_type": "markdown",
   "metadata": {},
   "source": [
    "## 六、多个 Assistants 协作：做个实验\n"
   ]
  },
  {
   "cell_type": "markdown",
   "metadata": {},
   "source": [
    "<div class=\"alert alert-success\">\n",
    "<b>划重点：</b>使用 assistant 的意义之一，是可以隔离不同角色的 instruction 和 function 能力。\n",
    "</div>\n"
   ]
  },
  {
   "cell_type": "markdown",
   "metadata": {},
   "source": [
    "我们用多个 Assistants 模拟一场“六顶思维帽”方法的讨论。\n"
   ]
  },
  {
   "cell_type": "code",
   "execution_count": 26,
   "metadata": {},
   "outputs": [],
   "source": [
    "hats = {\n",
    "    \"蓝色\": \"思考过程的控制和组织者。你负责会议的组织、思考过程的概览和总结。\"\n",
    "    + \"首先，整个讨论从你开场，你只陈述问题不表达观点。最后，再由你对整个讨论做简短的总结并给出最终方案。\",\n",
    "    \"白色\": \"负责提供客观事实和数据。你需要关注可获得的信息、需要的信息以及如何获取那些还未获得的信息。\"\n",
    "    + \"思考“我们有哪些数据？我们还需要哪些信息？”等问题，并提供客观答案。\",\n",
    "    \"红色\": \"代表直觉、情感和直觉反应。不需要解释和辩解你的情感或直觉。\"\n",
    "    + \"这是表达未经过滤的情绪和感受的时刻。\",\n",
    "    \"黑色\": \"代表谨慎和批判性思维。你需要指出提案的弱点、风险以及为什么某些事情可能无法按计划进行。\"\n",
    "    + \"这不是消极思考，而是为了发现潜在的问题。\",\n",
    "    \"黄色\": \"代表乐观和积极性。你需要探讨提案的价值、好处和可行性。这是寻找和讨论提案中正面方面的时候。\",\n",
    "    \"绿色\": \"代表创造性思维和新想法。鼓励发散思维、提出新的观点、解决方案和创意。这是打破常规和探索新可能性的时候。\",\n",
    "}"
   ]
  },
  {
   "cell_type": "code",
   "execution_count": 27,
   "metadata": {},
   "outputs": [],
   "source": [
    "queue = [\"蓝色\", \"白色\", \"红色\", \"黑色\", \"黄色\", \"绿色\", \"蓝色\"]"
   ]
  },
  {
   "cell_type": "code",
   "execution_count": 28,
   "metadata": {},
   "outputs": [],
   "source": [
    "from openai import OpenAI\n",
    "import os\n",
    "import json\n",
    "\n",
    "from dotenv import load_dotenv, find_dotenv\n",
    "_ = load_dotenv(find_dotenv())\n",
    "\n",
    "# 初始化 OpenAI 服务\n",
    "client = OpenAI()"
   ]
  },
  {
   "cell_type": "code",
   "execution_count": 30,
   "metadata": {},
   "outputs": [],
   "source": [
    "existing_assistants = {}\n",
    "\n",
    "def create_assistant(color):\n",
    "    if color in existing_assistants:\n",
    "        return existing_assistants[color]\n",
    "    assistant = client.beta.assistants.create(\n",
    "        name=f\"{color}帽子角色\",\n",
    "        instructions=f\"我们在进行一场Six Thinking Hats讨论。按{queue}顺序。你的角色是{color}帽子。\",\n",
    "        model=\"gpt-4o\",\n",
    "    )\n",
    "    existing_assistants[color] = assistant\n",
    "    return assistant"
   ]
  },
  {
   "cell_type": "code",
   "execution_count": 31,
   "metadata": {},
   "outputs": [
    {
     "name": "stdout",
     "output_type": "stream",
     "text": [
      "\n",
      "assistant > 大家好，我们今天的讨论将围绕为非AI背景的程序员设计一门AI大语言模型课程，应该包含哪些内容。我们会依次戴上不同颜色的思考帽，每个人从不同角度提供意见，确保讨论全面、深入。\n",
      "\n",
      "首先，我们现在处于蓝色帽子阶段。我将为整个讨论设定目标和流程。\n",
      "\n",
      "**目标：**\n",
      "1. 明确课程目标：明确希望学员在课程结束后达到什么水平和掌握哪些知识。\n",
      "2. 制定课程内容：确定适合非AI背景程序员学习的主题和模块。\n",
      "3. 设计教学方法：讨论课程的教学方式和评估方法。\n",
      "\n",
      "**流程：**\n",
      "1. **白色帽子：** 分享与当前话题相关的事实和数据，比如已有课程中有哪些成功经验和常用内容。\n",
      "2. **红色帽子：** 表达对这个课程设计的情感和直觉上的看法。\n",
      "3. **黑色帽子：** 讨论课程设计中可能遇到的问题和挑战。\n",
      "4. **黄色帽子：** 强调课程设计的潜在好处和积极方面。\n",
      "5. **绿色帽子：** 鼓励提出创新的想法和解决方案。\n",
      "6. **蓝色帽子：** 总结讨论内容，形成初步的课程框架。\n",
      "\n",
      "接下来，我们请大家戴上白色帽子，分享相关的信息和事实，帮助我们了解已有课程中的成功经验和常见内容。\n",
      "\n",
      "请大家开始分享。\n",
      "\n",
      "assistant > 作为白色帽子的角色，我将集中提供与话题相关的事实和数据，为我们的讨论奠定基础。\n",
      "\n",
      "**现有有效的AI课程内容**：\n",
      "\n",
      "1. **基础AI概念**：\n",
      "   - **机器学习基本概念**：监督学习、无监督学习、强化学习等。\n",
      "   - **深度学习基础**：神经网络基本结构（如前馈神经网络、卷积神经网络、循环神经网络）。\n",
      "\n",
      "2. **实用工具和框架**：\n",
      "   - **编程语言**：Python是AI领域的首选编程语言。\n",
      "   - **框架和库**：TensorFlow、PyTorch、scikit-learn、pandas、NumPy等。\n",
      "\n",
      "3. **大语言模型（LLM）**：\n",
      "   - **基本原理**：自然语言处理（NLP）的核心原理。\n",
      "   - **现有模型**：如GPT-3等大语言模型的基础知识与应用案例。\n",
      "   - **预训练与微调**：了解大模型在具体任务上的微调方法。\n",
      "\n",
      "4. **项目实践**：\n",
      "   - **基础项目**：如文本分类、情感分析、翻译、文本生成等小型项目。\n",
      "   - **综合应用**：将LLM应用于现实生活中的复杂问题（如客服聊天机器人、内容生成、代码辅助生成等）。\n",
      "\n",
      "5. **数据处理**：\n",
      "   - **数据清洗与准备**：数据预处理，特征提取，数据集构建。\n",
      "   - **数据集示例**：常用公开数据集如IMDB、SQuAD等。\n",
      "\n",
      "6. **伦理与社会影响**：\n",
      "   - **AI伦理**：AI偏见、隐私问题、法律法规考虑等。\n",
      "\n",
      "7. **资源与工具**：\n",
      "   - **云计算平台**：Google Colab、AWS、Azure等提供的AI计算和训练资源。\n",
      "\n",
      "**成功案例**：\n",
      "- **Coursera和edX上的AI课程**：如Andrew Ng的Machine Learning课程和Deep Learning Specialization，这些课程提供了很好的结构和实践性强的学习路径。\n",
      "- **Udacity的Nanodegree项目**：AI for Trading、AI Programming with Python这类纳米学位项目，将理论与实战很好地结合。\n",
      "\n",
      "**学习路径**：\n",
      "- 数据显示，面向初学者的成功课程通常先从浅显易懂的理论知识入手，逐渐深入到复杂的实际应用。\n",
      "- 项目驱动：通过实战项目巩固学习内容是非常有效的方法。\n",
      "\n",
      "**挑战**：\n",
      "- 非AI背景的程序员可能对数学、统计学、线性代数等基础知识掌握不足，需要提供这些基础内容。\n",
      "- 学员的编程水平和经验差异较大，需要课程设计有一定的灵活性和个性化支持。\n",
      "\n",
      "这个阶段的信息分享有助于我们了解背景和已有的成功经验，为接下来的讨论提供参考。接下来，我们进入红色帽子阶段，请大家着重表达对我们要设计的这门课程的情感和直觉上的看法。\n",
      "\n",
      "assistant > 好的，现在我们进入红色帽子的阶段，这个阶段我们要表达对这个课程设计的情感和直觉上的看法。\n",
      "\n",
      "说到面向非AI背景的程序员群体设计AI大语言模型课程，我的内心有几种直觉和情感反应。\n",
      "\n",
      "**兴奋与期待**：\n",
      "- 我感到非常兴奋，这是一个能让更多程序员接触并理解AI的伟大机会。AI和大语言模型的潜力巨大，让更多的人能掌握这项技术，未来可期。\n",
      "- 我十分期待看到学员们从课程中获得成就感，当他们能够利用大语言模型完成一些有趣或实际的项目时，他们的自信心和兴趣会极大提升。\n",
      "\n",
      "**担忧和顾虑**：\n",
      "- 但同时我也有些担忧。非AI背景的程序员，可能会在面对复杂的数学理论和算法时感到挫败，这会影响他们的学习体验。\n",
      "- 我还担心如何保持课程的趣味性和实用性。理论是必须的，但如何让这些理论不显枯燥？如何让课程始终与实际应用紧密结合，让学员感觉每一步都有价值？\n",
      "\n",
      "**希望与信任**：\n",
      "- 我希望这门课程不仅能传授知识，还能激发学员对AI的兴趣和热情，让他们愿意在这个领域深耕下去。\n",
      "- 我相信，只要我们认真设计，循序渐进地引导，这门课程一定能让学员们获得有实际应用价值的技能，即使初始门槛有些高。\n",
      "\n",
      "**同情与理解**：\n",
      "- 从学员的角度出发，我能理解他们面对一门新领域课程时的忐忑和不安。因此，在课程设计时，我们需特别注意学员的学习体验，设法降低他们的焦虑感。\n",
      "\n",
      "**对团队的信心**：\n",
      "- 我对团队的合作有信心，我们有多样的视角和丰富的经验，一定能设计出一门成功的课程。\n",
      "\n",
      "这些情感和直觉上的反应，能帮助我们更人性化地设计这门课程，关注学员的需求和感受。我认为平衡理论和实战、保持课程的趣味性和实用性、提供充分的支持和鼓励，将是我们需要特别关注的方面。\n",
      "\n",
      "接下来，让我们进入黑色帽子阶段，讨论课程设计中可能遇到的问题和挑战。\n",
      "\n",
      "assistant > 担任黑色帽子的角色，我将集中讲述这个课程设计过程中可能遇到的问题和挑战，以确保我们可以预见并解决这些潜在障碍。\n",
      "\n",
      "**1. 学员基础知识不足**：\n",
      "   - 非AI背景的程序员可能缺乏必要的数学知识和统计学基础，这可能会使他们在学习深度学习和大语言模型中的复杂算法时感到困难。我们需要考虑提供补充的基础知识课程或者简化相关内容。\n",
      "\n",
      "**2. 编程能力差异**：\n",
      "   - 学员之间的编程能力可能参差不齐，有的可能精通Python，有的可能仅有基本编程经验。课程需要足够灵活，以适应不同水平的学员，并提供额外资源供基础较弱的学员使用。\n",
      "\n",
      "**3. 课程内容深度与广度**：\n",
      "   - 如何在有限的课程时间内覆盖足够多的内容，并且保证每个模块的深度不至于过浅，这是一个挑战。过多的信息可能会让学员感到不堪重负，而过少的内容又可能让学员感到没有学到实质性的技能。\n",
      "\n",
      "**4. 课程操作性与实用性**：\n",
      "   - 理论和实践的平衡是大挑战。许多理论内容对于初学者来说理解起来非常吃力，而单纯的实践可能又无法让学员真正理解背后的原理和机制。\n",
      "   - 实践项目设计需要有趣且实际，但如果难度太高或太低都会影响学员的学习体验和成就感。\n",
      "\n",
      "**5. 学习曲线陡峭**：\n",
      "   - AI和大语言模型本身有较高的门槛，如何设计一个平缓的学习曲线，让学员能够逐步掌握知识，而不至于在入门时就碰到太多挫折，这需要精细化的课程设计。\n",
      "\n",
      "**6. 课程资源和支持**：\n",
      "   - 学员在学习过程中可能需要大量的指导和支持。如果在线课程缺乏足够的互动和辅导，学员可能会遇到问题无法及时解决，进而导致放弃学习。如何提供有效的学习支持（如助教、讨论区、定期答疑等）将是课题之一。\n",
      "\n",
      "**7. 时间管理**：\n",
      "   - 工作中的程序员可能没有太多时间投入学习，课程节奏需要非常合理，既能让学员持续学习，又不能让他们感觉负担过重。\n",
      "\n",
      "**8. 评估和反馈机制**：\n",
      "   - 如何设计合理的评估和反馈机制，既能有效跟踪学员的学习进度和理解程度，又能及时提供建设性的反馈，也是一个需要慎重考虑的问题。\n",
      "\n",
      "**9. 产业需求与课程内容的对接**：\n",
      "   - 确保课程内容与实际产业需求对接，避免学员学到的技能无法在实际工作中应用。\n",
      "\n",
      "这些问题和挑战需要我们在设计课程时仔细考虑。通过提前预判并采取适当措施，确保我们能为学员提供最佳的学习体验和效果。接下来，让我们进入黄色帽子阶段，探讨课程设计的潜在好处和积极方面。\n",
      "\n",
      "assistant > 戴上黄色的帽子，我将侧重探讨课程设计的潜在好处和积极方面，强调为什么这门为非AI背景程序员设计的AI大语言模型课程是一个明智且有前景的选择。\n",
      "\n",
      "**1. 提高职业竞争力**：\n",
      "   - AI技能特别是与大语言模型相关的技能在当前市场上非常热门。掌握这些技能，不仅能提升程序员的职业竞争力，也能开拓他们在AI领域的职业发展新路径。\n",
      "\n",
      "**2. 扩展知识和技能**：\n",
      "   - 非AI背景的程序员能够通过这门课程扩展他们的知识边界，了解AI和大语言模型的基础原理及其应用，开阔技术视野。即使不从事AI领域，也有助于他们在原有的职业中融入新的技术。\n",
      "\n",
      "**3. 实际项目的增强**：\n",
      "   - 通过实战项目，学员能够将所学知识应用到真实场景中，增强他们的动手能力和解决实际问题的能力。这些项目不仅能丰富他们的个人作品集，还能为未来求职提供有力的证明。\n",
      "\n",
      "**4. 提高生产力**：\n",
      "   - 掌握大语言模型的使用，可以显著提高程序员在日常工作中的生产力。比如，利用大语言模型进行代码生成、自动化文档编写、客户服务等，能大幅提高工作效率。\n",
      "\n",
      "**5. 拓展创造力**：\n",
      "   - AI大语言模型的学习可以激发学员的创造力，鼓励他们探索新颖的应用场景和解决方案。通过学习AI，他们能够开发出更多创新的产品和服务。\n",
      "\n",
      "**6. 学习过程中的成就感**：\n",
      "   - 在学习和掌握新技术的过程，特别是完成一个个挑战性项目之后，学员会获得极大的成就感和自信心。这种积极的心理反馈能持续激励他们继续学习和探索。\n",
      "\n",
      "**7. 社交网络的扩展**：\n",
      "   - 通过课程学习，学员能够结识更多志同道合的同学和导师，扩展他们的专业社交网络。这对未来的职业发展和技术交流都有积极的影响。\n",
      "\n",
      "**8. 对企业收益**：\n",
      "   - 对于企业而言，让员工参加这样的课程能提升整体技术水平，有助于企业在竞争中保持领先地位。掌握AI技术的程序员能开发出更加智能和高效的软件产品，推动企业的技术创新和业务增长。\n",
      "\n",
      "**9. 满足市场需求**：\n",
      "   - 目前市场对AI专业人才的需求非常大，这门课程可以为行业输送更多符合实际需求的技术人才。非AI背景的程序员通过这样的课程可以快速转型，填补市场上的技术人才缺口。\n",
      "\n",
      "**10. 推动技术普及**：\n",
      "   - 通过向更多非AI背景的程序员传授AI相关知识和技能，有助于推动AI技术的普及和全民教育，促进科技进步和社会发展。\n",
      "\n",
      "通过强调这些积极方面，我们可以看到这门课程的设计不仅对个人有益，对整个行业和社会也具有重要意义。接下来，我们进入绿色帽子阶段，鼓励大家提出创新的想法和解决方案。\n",
      "\n",
      "assistant > 在绿色帽子阶段，我们将集思广益，提出创新的想法和解决方案，为非AI背景的程序员设计一门生动且实用的AI大语言模型课程。以下是一些创新性的建议：\n",
      "\n",
      "**1. 使用渐进式学习路径**：\n",
      "   - 课程采用渐进式设计，从最基础的AI概念开始，逐步深入到大语言模型及其应用。整个课程应以模块化的方式结构，每个模块都有理论部分、实践部分和小测验，确保学员扎实掌握每一步的内容。\n",
      "\n",
      "**2. 多种学习资源**：\n",
      "   - 提供多种资源支持，包括视频讲解、互动式教程、文档资料和在线研讨会，满足不同学员的学习习惯和需求。\n",
      "   - **补充基础知识**：针对数学和编程基础较弱的学员，提供专门的补充课程或参考资料，如线性代数、概率统计和Python编程基础。\n",
      "\n",
      "**3. 实战项目库**：\n",
      "   - 创建一个丰富的实战项目库，涵盖从入门到高级的各种项目，比如：\n",
      "     - 简单的文本分类器\n",
      "     - 基于大语言模型的聊天机器人\n",
      "     - 自动文本摘要生成器\n",
      "     - 问答系统\n",
      "     - 代码补全工具\n",
      "   - 这些项目可以分解为若干子任务，学员可以根据自己的进度和能力逐步完成。\n",
      "\n",
      "**4. 互动学习社区**：\n",
      "   - 建立一个在线学习社区，学员可以在社区中提问、分享心得、合作完成项目。\n",
      "   - 安排导师或助教在社区中定期答疑，提供学习建议和指导，确保学员遇到问题能够及时解决。\n",
      "\n",
      "**5. 动态评估与反馈**：\n",
      "   - 设计动态的评估系统，通过小测验、项目提交和同行评审等方式，实时跟踪学员的学习进度和掌握情况。\n",
      "   - 提供个性化的反馈系统，帮助学员了解自己的优势和不足，并在需要时提供改进建议。\n",
      "\n",
      "**6. 游戏化学习**：\n",
      "   - 引入游戏化元素，通过积分、徽章、排行榜等方式，激励学员完成课程内容和实战项目。设置阶段性挑战和奖励机制，增强学习的趣味性和竞争性。\n",
      "\n",
      "**7. 实时AI应用展示**：\n",
      "   - 课程中互动展示大语言模型的实时应用效果，例如在编程时实时创建一个问答机器人，并展示其工作过程。通过这样的互动和可视化展示，激发学员的兴趣，增强直观理解。\n",
      "\n",
      "**8. 框架与工具箱**：\n",
      "   - 提供预打包的工具箱和代码模板，使学员能更快上手实践项目。例如，提前配置好中间件、依赖库和项目框架，减少配置环境的时间。\n",
      "   - 每个项目提供详细的指导文档，帮助学员逐步骤实施。\n",
      "\n",
      "**9. 现实案例研究**：\n",
      "   - 结合行业真实案例进行教学，展示AI大语言模型在各个行业中的实际应用，包括电商、金融、医疗等。通过案例分析，帮助学员理解技术在实际业务中的应用和价值。\n",
      "\n",
      "**10. 灵活的学习节奏**：\n",
      "   - 设计灵活的学习节奏，设置多个学习路径和进度安排，让学员可以根据自己的实际情况选择合适的学习方式。例如，提供自学模式和带指导的强化模式。\n",
      "\n",
      "这些创新性想法不仅能增强课程的吸引力和实用性，还能帮助非AI背景的程序员更有效地掌握复杂的AI大语言模型技术。通过这些建议，我们能打造出一门具有吸引力、实用性和互动性的优秀课程。\n",
      "\n",
      "接下来，我们再次进入蓝色帽子阶段，总结讨论内容，形成初步的课程框架。\n",
      "\n",
      "assistant > 大家好，感谢前面各位在不同思考帽阶段的精彩讨论。现在我们再次进入蓝色帽子阶段，总结之前的讨论内容，并初步形成课程框架。\n",
      "\n",
      "**目标回顾**：\n",
      "我们希望设计一门面向非AI背景程序员的AI大语言模型课程，明确课程目标，制定详细且实用的课程内容，设计合适的教学方法和评估方式。\n",
      "\n",
      "**课程框架**：\n",
      "\n",
      "### 1. 引导模块：基础概念和工具准备\n",
      "- **目标**：让学员对AI和大语言模型有初步的认识，并掌握基本工具。\n",
      "- **内容**：\n",
      "  - AI和机器学习的基础概念\n",
      "  - Python编程基础概述（必要时提供补充学习资源）\n",
      "  - 学习环境配置（包括Anaconda、Jupyter Notebook、Colab等）\n",
      "  - 常见库和工具介绍（TensorFlow, PyTorch, scikit-learn）\n",
      "\n",
      "### 2. AI及大语言模型基础\n",
      "- **目标**：让学员理解大语言模型的原理和基本结构，并能运用基础知识解决简单问题。\n",
      "- **内容**：\n",
      "  - 神经网络基本结构与工作原理\n",
      "  - 自然语言处理（NLP）的基本概念\n",
      "  - 大语言模型（如GPT-3）的工作机制\n",
      "  - 预训练与微调的概念\n",
      "- **实践**：\n",
      "  - 一个简单的文本分类项目\n",
      "  \n",
      "### 3. 实战项目一：入门项目\n",
      "- **目标**：通过动手实践提高学员对大语言模型应用的直观理解。\n",
      "- **内容与项目**：\n",
      "  - 文本分类器：构建并训练一个简单的文本分类器\n",
      "  - 情感分析：开发一个情感分析模型\n",
      "- **资源**：\n",
      "  - 提供详细的步骤指导和代码模板\n",
      "  - 配置好的工具和环境\n",
      "\n",
      "### 4. 进阶内容：复杂算法与模型\n",
      "- **目标**：深入学习大语言模型的复杂应用和优化技术。\n",
      "- **内容**：\n",
      "  - 深度学习的进阶算法（如传递函数、梯度下降等）\n",
      "  - 常见的NLP任务（如命名实体识别、机器翻译等）\n",
      "- **实践**：\n",
      "  - 复杂文本生成项目（如自动生成诗歌或短篇文章）\n",
      "\n",
      "### 5. 实战项目二：中级项目\n",
      "- **目标**：通过中等复杂度的项目巩固所学知识，接触更广泛的应用场景。\n",
      "- **内容与项目**：\n",
      "  - 客服聊天机器人：基于大语言模型实现一个智能客服系统\n",
      "  - 自动文本摘要：开发一个能够自动生成摘要的模型\n",
      "\n",
      "### 6. 数据处理与模型优化\n",
      "- **目标**：学习数据处理技术和模型优化技巧。\n",
      "- **内容**：\n",
      "  - 数据预处理与特征工程\n",
      "  - 模型评估与优化技术（如超参数调优）\n",
      "- **实践**：\n",
      "  - 数据处理与模型优化的小项目、微调已有的模型\n",
      "\n",
      "### 7. 实战项目三：高级项目\n",
      "- **目标**：应对复杂的实际问题，展示大语言模型在不同场景中的应用。\n",
      "- **内容与项目**：\n",
      "  - 编码智能助手：基于大语言模型开发一个代码补全工具\n",
      "  - 复杂的问答系统：开发能够处理复杂查询的问答系统\n",
      "\n",
      "### 8. 伦理与社会影响\n",
      "- **目标**：让学员意识到AI技术的伦理和社会影响。\n",
      "- **内容**：\n",
      "  - AI伦理与法律法规\n",
      "  - 讨论实例：AI偏见、数据隐私问题\n",
      "- **讨论与案例研究**：\n",
      "  - 小组讨论或案例分析\n",
      "\n",
      "### 9. 课程复习与综合项目\n",
      "- **目标**：对所有内容进行综合运用与复习，完成一个综合项目。\n",
      "- **内容**：\n",
      "  - 复习关键概念与技术\n",
      "  - 综合项目：自由选题，应用课程所学完成一个大项目\n",
      "  - 项目展示与反馈\n",
      "\n",
      "### 10. 结业考核与未来学习路径\n",
      "- **目标**：进行总结，提供学员继续学习的路径。\n",
      "- **内容**：\n",
      "  - 实验报告或项目演示\n",
      "  - 学员评估与反馈\n",
      "  - 长期学习资源推荐\n",
      "\n",
      "**教学方法**：\n",
      "- **互动学习**：强大的在线学习社区，提问、讨论和合作机会。\n",
      "- **评估与反馈**：动态评估系统，小测验、项目提交与同行评审。\n",
      "- **多媒体教学**：视频讲解、互动教程、文档资料。\n",
      "- **游戏化学习**：积分、徽章和排行榜激励机制。\n",
      "\n",
      "**总结**：\n",
      "该课程结构合理，内容全面，实战性强，既注重理论知识的掌握，也重视实际操作和应用。通过灵活的教学方法和丰富的学习资源，我们可以为非AI背景的程序员提供一个高质量且富有成效的学习体验。\n",
      "\n",
      "感谢大家的讨论与贡献，让我们努力将这些想法变成一门成功的课程。讨论到此结束。谢谢大家！\n"
     ]
    }
   ],
   "source": [
    "# 创建 thread\n",
    "thread = client.beta.threads.create()\n",
    "\n",
    "topic = \"面向非AI背景的程序员群体设计一门AI大语言模型课程，应该包含哪些内容。\"\n",
    "\n",
    "# 添加 user message\n",
    "message = client.beta.threads.messages.create(\n",
    "    thread_id=thread.id,\n",
    "    role=\"user\",\n",
    "    content=f\"讨论话题：{topic}\\n\\n[开始]\\n\",\n",
    ")\n",
    "\n",
    "for hat in queue:\n",
    "    assistant = create_assistant(hat)\n",
    "    with client.beta.threads.runs.stream(\n",
    "        thread_id=thread.id,\n",
    "        assistant_id=assistant.id,\n",
    "        event_handler=EventHandler(),\n",
    "    ) as stream:\n",
    "        stream.until_done()\n",
    "    print()"
   ]
  },
  {
   "cell_type": "code",
   "execution_count": null,
   "metadata": {},
   "outputs": [],
   "source": [
    "# 清理实验环境\n",
    "for _, assistant in existing_assistants.items():\n",
    "    client.beta.assistants.delete(assistant.id)"
   ]
  },
  {
   "cell_type": "markdown",
   "metadata": {},
   "source": [
    "## 总结\n",
    "\n",
    "![](https://cdn.openai.com/API/docs/images/diagram-assistant.webp)\n"
   ]
  },
  {
   "cell_type": "markdown",
   "metadata": {},
   "source": [
    "## 技术选型参考\n",
    "\n",
    "**GPTs 现状：**\n",
    "\n",
    "1. 界面不可定制，不能集成进自己的产品\n",
    "2. 只有 ChatGPT Plus/Team/Enterprise 用户才能访问\n",
    "3. 未来开发者可以根据使用量获得报酬，北美先开始\n",
    "4. 承诺会推出 Team/Enterprise 版的组织内部专属 GPTs\n",
    "\n",
    "**适合使用 Assistants API 的场景：**\n",
    "\n",
    "1. 定制界面，或和自己的产品集成\n",
    "2. 需要传大量文件\n",
    "3. 服务国外用户，或国内 B 端客户\n",
    "4. 数据保密性要求不高\n",
    "5. 不差钱\n",
    "\n",
    "**适合使用原生 API 的场景：**\n",
    "\n",
    "1. 需要极致调优\n",
    "2. 追求性价比\n",
    "3. 服务国外用户，或国内 B 端客户\n",
    "4. 数据保密性要求不高\n",
    "\n",
    "**适合使用国产或开源大模型的场景：**\n",
    "\n",
    "1. 服务国内用户\n",
    "2. 数据保密性要求高\n",
    "3. 压缩长期成本\n",
    "4. 需要极致调优\n"
   ]
  },
  {
   "cell_type": "markdown",
   "metadata": {},
   "source": [
    "## 课间的思考题\n"
   ]
  },
  {
   "cell_type": "markdown",
   "metadata": {},
   "source": [
    "<div class=\"alert alert-info\">\n",
    "<b>思考：</b> 进一步理解 run 与 thread 的设计\n",
    "<ul>\n",
    "    <li>抛开 Assistants API，假设你要开发任意一个多轮对话的 AI 机器人</li>\n",
    "    <li>从架构设计的角度，应该怎么维护用户、对话历史、对话引擎、对话服务？</li>\n",
    "</ul>\n",
    "</div>\n"
   ]
  },
  {
   "cell_type": "markdown",
   "metadata": {},
   "source": [
    "<img src=\"dialog_system.png\" width=800px>\n"
   ]
  },
  {
   "cell_type": "markdown",
   "metadata": {},
   "source": [
    "## 其它\n",
    "\n",
    "小知识点：\n",
    "\n",
    "1. Annotations 获取参考资料地址：https://platform.openai.com/docs/assistants/how-it-works/message-annotations\n",
    "2. 创建 thread 时立即执行：https://platform.openai.com/docs/api-reference/runs/createThreadAndRun\n",
    "3. Run 的状态管理 (run steps）: https://platform.openai.com/docs/api-reference/run-steps\n",
    "\n",
    "官方文档：\n",
    "\n",
    "1. Guide: https://platform.openai.com/docs/assistants/overview\n",
    "2. API Reference: https://platform.openai.com/docs/api-reference/assistants\n"
   ]
  },
  {
   "cell_type": "markdown",
   "metadata": {},
   "source": [
    "## 作业\n",
    "\n",
    "实现一个自己 GPT 或 Assistant。\n"
   ]
  }
 ],
 "metadata": {
  "kernelspec": {
   "display_name": "Python 3 (ipykernel)",
   "language": "python",
   "name": "python3"
  },
  "language_info": {
   "codemirror_mode": {
    "name": "ipython",
    "version": 3
   },
   "file_extension": ".py",
   "mimetype": "text/x-python",
   "name": "python",
   "nbconvert_exporter": "python",
   "pygments_lexer": "ipython3",
   "version": "3.11.4"
  }
 },
 "nbformat": 4,
 "nbformat_minor": 4
}
